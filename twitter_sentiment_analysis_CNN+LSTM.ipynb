{
 "cells": [
  {
   "cell_type": "code",
   "execution_count": 157,
   "id": "55ae76de",
   "metadata": {
    "colab": {
     "base_uri": "https://localhost:8080/"
    },
    "execution": {
     "iopub.execute_input": "2022-09-09T20:31:54.799040Z",
     "iopub.status.busy": "2022-09-09T20:31:54.798685Z",
     "iopub.status.idle": "2022-09-09T20:32:04.322971Z",
     "shell.execute_reply": "2022-09-09T20:32:04.321546Z"
    },
    "id": "55ae76de",
    "outputId": "6ad55836-f6cb-426e-8bec-2d00cfbfb31f",
    "papermill": {
     "duration": 9.544983,
     "end_time": "2022-09-09T20:32:04.325543",
     "exception": false,
     "start_time": "2022-09-09T20:31:54.780560",
     "status": "completed"
    },
    "tags": []
   },
   "outputs": [
    {
     "name": "stderr",
     "output_type": "stream",
     "text": [
      "[nltk_data] Downloading package stopwords to /root/nltk_data...\n",
      "[nltk_data]   Package stopwords is already up-to-date!\n",
      "[nltk_data] Downloading package punkt to /root/nltk_data...\n",
      "[nltk_data]   Package punkt is already up-to-date!\n",
      "[nltk_data] Downloading package averaged_perceptron_tagger to\n",
      "[nltk_data]     /root/nltk_data...\n",
      "[nltk_data]   Package averaged_perceptron_tagger is already up-to-\n",
      "[nltk_data]       date!\n",
      "[nltk_data] Downloading package wordnet to /root/nltk_data...\n",
      "[nltk_data]   Package wordnet is already up-to-date!\n",
      "[nltk_data] Downloading package omw-1.4 to /root/nltk_data...\n",
      "[nltk_data]   Package omw-1.4 is already up-to-date!\n"
     ]
    }
   ],
   "source": [
    "# DataFrame\n",
    "import pandas as pd\n",
    "\n",
    "# Matplot\n",
    "import matplotlib.pyplot as plt\n",
    "%matplotlib inline\n",
    "\n",
    "from matplotlib.ticker import MaxNLocator\n",
    "import matplotlib.gridspec as gridspec\n",
    "import matplotlib.patches as mpatches\n",
    "\n",
    "# Scikit-learn\n",
    "from sklearn.model_selection import train_test_split\n",
    "from sklearn.preprocessing import LabelEncoder\n",
    "from sklearn.metrics import confusion_matrix, classification_report, accuracy_score\n",
    "from sklearn.manifold import TSNE\n",
    "from sklearn.feature_extraction.text import CountVectorizer, TfidfVectorizer\n",
    "from sklearn.decomposition import LatentDirichletAllocation, NMF\n",
    "from sklearn.metrics import f1_score, accuracy_score\n",
    "\n",
    "\n",
    "# Keras\n",
    "from keras.preprocessing.text import Tokenizer\n",
    "from keras.preprocessing.sequence import pad_sequences\n",
    "from keras.models import Sequential\n",
    "from keras.layers import Activation, Dense, Dropout, Embedding, Flatten, Conv1D, MaxPooling1D, LSTM, SimpleRNN\n",
    "from keras import utils\n",
    "from keras.callbacks import ReduceLROnPlateau, EarlyStopping\n",
    "\n",
    "# nltk\n",
    "from nltk.corpus import stopwords\n",
    "from nltk.stem import SnowballStemmer\n",
    "import nltk\n",
    "nltk.download('stopwords')\n",
    "nltk.download('punkt')\n",
    "nltk.download('averaged_perceptron_tagger')\n",
    "nltk.download('wordnet')\n",
    "from nltk.corpus import stopwords, wordnet\n",
    "from nltk.stem import WordNetLemmatizer\n",
    "from nltk.tokenize import word_tokenize\n",
    "from nltk.probability import FreqDist\n",
    "import nltk\n",
    "nltk.download('omw-1.4')\n",
    "\n",
    "# Word2vec\n",
    "import gensim\n",
    "from gensim.test.utils import common_texts\n",
    "from gensim.models import Word2Vec\n",
    "\n",
    "\n",
    "# Utility\n",
    "import string\n",
    "import re\n",
    "import numpy as np\n",
    "import os\n",
    "from collections import Counter\n",
    "import logging\n",
    "import time\n",
    "import pickle\n",
    "import itertools\n",
    "import random\n",
    "import datetime\n",
    "\n",
    "# Warnings\n",
    "import warnings\n",
    "warnings.filterwarnings('ignore')\n",
    "\n",
    "# Set log\n",
    "logging.basicConfig(format='%(asctime)s : %(levelname)s : %(message)s', level=logging.INFO)\n"
   ]
  },
  {
   "cell_type": "markdown",
   "id": "FCA0g9tN2tXN",
   "metadata": {
    "id": "FCA0g9tN2tXN"
   },
   "source": [
    "# New Section"
   ]
  },
  {
   "cell_type": "code",
   "execution_count": 158,
   "id": "821c4a6a",
   "metadata": {
    "execution": {
     "iopub.execute_input": "2022-09-09T20:32:04.396283Z",
     "iopub.status.busy": "2022-09-09T20:32:04.395702Z",
     "iopub.status.idle": "2022-09-09T20:32:05.009269Z",
     "shell.execute_reply": "2022-09-09T20:32:05.007911Z"
    },
    "id": "821c4a6a",
    "papermill": {
     "duration": 0.634912,
     "end_time": "2022-09-09T20:32:05.011856",
     "exception": false,
     "start_time": "2022-09-09T20:32:04.376944",
     "status": "completed"
    },
    "tags": []
   },
   "outputs": [],
   "source": [
    "df = pd.read_csv(\"Twitter_Data.csv\")\n",
    "df1 = df"
   ]
  },
  {
   "cell_type": "code",
   "execution_count": 159,
   "id": "27d43fbc",
   "metadata": {
    "colab": {
     "base_uri": "https://localhost:8080/",
     "height": 206
    },
    "execution": {
     "iopub.execute_input": "2022-09-09T20:32:05.047469Z",
     "iopub.status.busy": "2022-09-09T20:32:05.047092Z",
     "iopub.status.idle": "2022-09-09T20:32:05.068919Z",
     "shell.execute_reply": "2022-09-09T20:32:05.067617Z"
    },
    "id": "27d43fbc",
    "outputId": "1008ab64-e4e6-4499-934c-39842b0437c5",
    "papermill": {
     "duration": 0.042802,
     "end_time": "2022-09-09T20:32:05.071535",
     "exception": false,
     "start_time": "2022-09-09T20:32:05.028733",
     "status": "completed"
    },
    "tags": []
   },
   "outputs": [
    {
     "data": {
      "text/html": [
       "\n",
       "  <div id=\"df-2eb1365f-3a6e-4e94-979f-d137cad3959e\" class=\"colab-df-container\">\n",
       "    <div>\n",
       "<style scoped>\n",
       "    .dataframe tbody tr th:only-of-type {\n",
       "        vertical-align: middle;\n",
       "    }\n",
       "\n",
       "    .dataframe tbody tr th {\n",
       "        vertical-align: top;\n",
       "    }\n",
       "\n",
       "    .dataframe thead th {\n",
       "        text-align: right;\n",
       "    }\n",
       "</style>\n",
       "<table border=\"1\" class=\"dataframe\">\n",
       "  <thead>\n",
       "    <tr style=\"text-align: right;\">\n",
       "      <th></th>\n",
       "      <th>clean_text</th>\n",
       "      <th>category</th>\n",
       "    </tr>\n",
       "  </thead>\n",
       "  <tbody>\n",
       "    <tr>\n",
       "      <th>0</th>\n",
       "      <td>when modi promised “minimum government maximum...</td>\n",
       "      <td>-1.0</td>\n",
       "    </tr>\n",
       "    <tr>\n",
       "      <th>1</th>\n",
       "      <td>talk all the nonsense and continue all the dra...</td>\n",
       "      <td>0.0</td>\n",
       "    </tr>\n",
       "    <tr>\n",
       "      <th>2</th>\n",
       "      <td>what did just say vote for modi  welcome bjp t...</td>\n",
       "      <td>1.0</td>\n",
       "    </tr>\n",
       "    <tr>\n",
       "      <th>3</th>\n",
       "      <td>asking his supporters prefix chowkidar their n...</td>\n",
       "      <td>1.0</td>\n",
       "    </tr>\n",
       "    <tr>\n",
       "      <th>4</th>\n",
       "      <td>answer who among these the most powerful world...</td>\n",
       "      <td>1.0</td>\n",
       "    </tr>\n",
       "  </tbody>\n",
       "</table>\n",
       "</div>\n",
       "    <div class=\"colab-df-buttons\">\n",
       "\n",
       "  <div class=\"colab-df-container\">\n",
       "    <button class=\"colab-df-convert\" onclick=\"convertToInteractive('df-2eb1365f-3a6e-4e94-979f-d137cad3959e')\"\n",
       "            title=\"Convert this dataframe to an interactive table.\"\n",
       "            style=\"display:none;\">\n",
       "\n",
       "  <svg xmlns=\"http://www.w3.org/2000/svg\" height=\"24px\" viewBox=\"0 -960 960 960\">\n",
       "    <path d=\"M120-120v-720h720v720H120Zm60-500h600v-160H180v160Zm220 220h160v-160H400v160Zm0 220h160v-160H400v160ZM180-400h160v-160H180v160Zm440 0h160v-160H620v160ZM180-180h160v-160H180v160Zm440 0h160v-160H620v160Z\"/>\n",
       "  </svg>\n",
       "    </button>\n",
       "\n",
       "  <style>\n",
       "    .colab-df-container {\n",
       "      display:flex;\n",
       "      gap: 12px;\n",
       "    }\n",
       "\n",
       "    .colab-df-convert {\n",
       "      background-color: #E8F0FE;\n",
       "      border: none;\n",
       "      border-radius: 50%;\n",
       "      cursor: pointer;\n",
       "      display: none;\n",
       "      fill: #1967D2;\n",
       "      height: 32px;\n",
       "      padding: 0 0 0 0;\n",
       "      width: 32px;\n",
       "    }\n",
       "\n",
       "    .colab-df-convert:hover {\n",
       "      background-color: #E2EBFA;\n",
       "      box-shadow: 0px 1px 2px rgba(60, 64, 67, 0.3), 0px 1px 3px 1px rgba(60, 64, 67, 0.15);\n",
       "      fill: #174EA6;\n",
       "    }\n",
       "\n",
       "    .colab-df-buttons div {\n",
       "      margin-bottom: 4px;\n",
       "    }\n",
       "\n",
       "    [theme=dark] .colab-df-convert {\n",
       "      background-color: #3B4455;\n",
       "      fill: #D2E3FC;\n",
       "    }\n",
       "\n",
       "    [theme=dark] .colab-df-convert:hover {\n",
       "      background-color: #434B5C;\n",
       "      box-shadow: 0px 1px 3px 1px rgba(0, 0, 0, 0.15);\n",
       "      filter: drop-shadow(0px 1px 2px rgba(0, 0, 0, 0.3));\n",
       "      fill: #FFFFFF;\n",
       "    }\n",
       "  </style>\n",
       "\n",
       "    <script>\n",
       "      const buttonEl =\n",
       "        document.querySelector('#df-2eb1365f-3a6e-4e94-979f-d137cad3959e button.colab-df-convert');\n",
       "      buttonEl.style.display =\n",
       "        google.colab.kernel.accessAllowed ? 'block' : 'none';\n",
       "\n",
       "      async function convertToInteractive(key) {\n",
       "        const element = document.querySelector('#df-2eb1365f-3a6e-4e94-979f-d137cad3959e');\n",
       "        const dataTable =\n",
       "          await google.colab.kernel.invokeFunction('convertToInteractive',\n",
       "                                                    [key], {});\n",
       "        if (!dataTable) return;\n",
       "\n",
       "        const docLinkHtml = 'Like what you see? Visit the ' +\n",
       "          '<a target=\"_blank\" href=https://colab.research.google.com/notebooks/data_table.ipynb>data table notebook</a>'\n",
       "          + ' to learn more about interactive tables.';\n",
       "        element.innerHTML = '';\n",
       "        dataTable['output_type'] = 'display_data';\n",
       "        await google.colab.output.renderOutput(dataTable, element);\n",
       "        const docLink = document.createElement('div');\n",
       "        docLink.innerHTML = docLinkHtml;\n",
       "        element.appendChild(docLink);\n",
       "      }\n",
       "    </script>\n",
       "  </div>\n",
       "\n",
       "\n",
       "<div id=\"df-aa0fa77c-e48c-426c-b0da-ae436336b198\">\n",
       "  <button class=\"colab-df-quickchart\" onclick=\"quickchart('df-aa0fa77c-e48c-426c-b0da-ae436336b198')\"\n",
       "            title=\"Suggest charts\"\n",
       "            style=\"display:none;\">\n",
       "\n",
       "<svg xmlns=\"http://www.w3.org/2000/svg\" height=\"24px\"viewBox=\"0 0 24 24\"\n",
       "     width=\"24px\">\n",
       "    <g>\n",
       "        <path d=\"M19 3H5c-1.1 0-2 .9-2 2v14c0 1.1.9 2 2 2h14c1.1 0 2-.9 2-2V5c0-1.1-.9-2-2-2zM9 17H7v-7h2v7zm4 0h-2V7h2v10zm4 0h-2v-4h2v4z\"/>\n",
       "    </g>\n",
       "</svg>\n",
       "  </button>\n",
       "\n",
       "<style>\n",
       "  .colab-df-quickchart {\n",
       "      --bg-color: #E8F0FE;\n",
       "      --fill-color: #1967D2;\n",
       "      --hover-bg-color: #E2EBFA;\n",
       "      --hover-fill-color: #174EA6;\n",
       "      --disabled-fill-color: #AAA;\n",
       "      --disabled-bg-color: #DDD;\n",
       "  }\n",
       "\n",
       "  [theme=dark] .colab-df-quickchart {\n",
       "      --bg-color: #3B4455;\n",
       "      --fill-color: #D2E3FC;\n",
       "      --hover-bg-color: #434B5C;\n",
       "      --hover-fill-color: #FFFFFF;\n",
       "      --disabled-bg-color: #3B4455;\n",
       "      --disabled-fill-color: #666;\n",
       "  }\n",
       "\n",
       "  .colab-df-quickchart {\n",
       "    background-color: var(--bg-color);\n",
       "    border: none;\n",
       "    border-radius: 50%;\n",
       "    cursor: pointer;\n",
       "    display: none;\n",
       "    fill: var(--fill-color);\n",
       "    height: 32px;\n",
       "    padding: 0;\n",
       "    width: 32px;\n",
       "  }\n",
       "\n",
       "  .colab-df-quickchart:hover {\n",
       "    background-color: var(--hover-bg-color);\n",
       "    box-shadow: 0 1px 2px rgba(60, 64, 67, 0.3), 0 1px 3px 1px rgba(60, 64, 67, 0.15);\n",
       "    fill: var(--button-hover-fill-color);\n",
       "  }\n",
       "\n",
       "  .colab-df-quickchart-complete:disabled,\n",
       "  .colab-df-quickchart-complete:disabled:hover {\n",
       "    background-color: var(--disabled-bg-color);\n",
       "    fill: var(--disabled-fill-color);\n",
       "    box-shadow: none;\n",
       "  }\n",
       "\n",
       "  .colab-df-spinner {\n",
       "    border: 2px solid var(--fill-color);\n",
       "    border-color: transparent;\n",
       "    border-bottom-color: var(--fill-color);\n",
       "    animation:\n",
       "      spin 1s steps(1) infinite;\n",
       "  }\n",
       "\n",
       "  @keyframes spin {\n",
       "    0% {\n",
       "      border-color: transparent;\n",
       "      border-bottom-color: var(--fill-color);\n",
       "      border-left-color: var(--fill-color);\n",
       "    }\n",
       "    20% {\n",
       "      border-color: transparent;\n",
       "      border-left-color: var(--fill-color);\n",
       "      border-top-color: var(--fill-color);\n",
       "    }\n",
       "    30% {\n",
       "      border-color: transparent;\n",
       "      border-left-color: var(--fill-color);\n",
       "      border-top-color: var(--fill-color);\n",
       "      border-right-color: var(--fill-color);\n",
       "    }\n",
       "    40% {\n",
       "      border-color: transparent;\n",
       "      border-right-color: var(--fill-color);\n",
       "      border-top-color: var(--fill-color);\n",
       "    }\n",
       "    60% {\n",
       "      border-color: transparent;\n",
       "      border-right-color: var(--fill-color);\n",
       "    }\n",
       "    80% {\n",
       "      border-color: transparent;\n",
       "      border-right-color: var(--fill-color);\n",
       "      border-bottom-color: var(--fill-color);\n",
       "    }\n",
       "    90% {\n",
       "      border-color: transparent;\n",
       "      border-bottom-color: var(--fill-color);\n",
       "    }\n",
       "  }\n",
       "</style>\n",
       "\n",
       "  <script>\n",
       "    async function quickchart(key) {\n",
       "      const quickchartButtonEl =\n",
       "        document.querySelector('#' + key + ' button');\n",
       "      quickchartButtonEl.disabled = true;  // To prevent multiple clicks.\n",
       "      quickchartButtonEl.classList.add('colab-df-spinner');\n",
       "      try {\n",
       "        const charts = await google.colab.kernel.invokeFunction(\n",
       "            'suggestCharts', [key], {});\n",
       "      } catch (error) {\n",
       "        console.error('Error during call to suggestCharts:', error);\n",
       "      }\n",
       "      quickchartButtonEl.classList.remove('colab-df-spinner');\n",
       "      quickchartButtonEl.classList.add('colab-df-quickchart-complete');\n",
       "    }\n",
       "    (() => {\n",
       "      let quickchartButtonEl =\n",
       "        document.querySelector('#df-aa0fa77c-e48c-426c-b0da-ae436336b198 button');\n",
       "      quickchartButtonEl.style.display =\n",
       "        google.colab.kernel.accessAllowed ? 'block' : 'none';\n",
       "    })();\n",
       "  </script>\n",
       "</div>\n",
       "    </div>\n",
       "  </div>\n"
      ],
      "text/plain": [
       "                                          clean_text  category\n",
       "0  when modi promised “minimum government maximum...      -1.0\n",
       "1  talk all the nonsense and continue all the dra...       0.0\n",
       "2  what did just say vote for modi  welcome bjp t...       1.0\n",
       "3  asking his supporters prefix chowkidar their n...       1.0\n",
       "4  answer who among these the most powerful world...       1.0"
      ]
     },
     "execution_count": 159,
     "metadata": {},
     "output_type": "execute_result"
    }
   ],
   "source": [
    "df.head(5)"
   ]
  },
  {
   "cell_type": "code",
   "execution_count": 160,
   "id": "62c4b3c6",
   "metadata": {
    "execution": {
     "iopub.execute_input": "2022-09-09T20:32:05.107916Z",
     "iopub.status.busy": "2022-09-09T20:32:05.107563Z",
     "iopub.status.idle": "2022-09-09T20:32:05.126328Z",
     "shell.execute_reply": "2022-09-09T20:32:05.125123Z"
    },
    "id": "62c4b3c6",
    "papermill": {
     "duration": 0.039882,
     "end_time": "2022-09-09T20:32:05.128464",
     "exception": false,
     "start_time": "2022-09-09T20:32:05.088582",
     "status": "completed"
    },
    "tags": []
   },
   "outputs": [],
   "source": [
    "df = df[df.category != 0.0]"
   ]
  },
  {
   "cell_type": "code",
   "execution_count": 161,
   "id": "aa70c3f4",
   "metadata": {
    "colab": {
     "base_uri": "https://localhost:8080/"
    },
    "execution": {
     "iopub.execute_input": "2022-09-09T20:32:05.196504Z",
     "iopub.status.busy": "2022-09-09T20:32:05.195958Z",
     "iopub.status.idle": "2022-09-09T20:32:05.293474Z",
     "shell.execute_reply": "2022-09-09T20:32:05.292633Z"
    },
    "id": "aa70c3f4",
    "outputId": "cc2aafeb-e6bb-4c50-d822-8a0f81c8752b",
    "papermill": {
     "duration": 0.119022,
     "end_time": "2022-09-09T20:32:05.296627",
     "exception": false,
     "start_time": "2022-09-09T20:32:05.177605",
     "status": "completed"
    },
    "tags": []
   },
   "outputs": [
    {
     "name": "stdout",
     "output_type": "stream",
     "text": [
      "<class 'pandas.core.frame.DataFrame'>\n",
      "Int64Index: 107767 entries, 0 to 162979\n",
      "Data columns (total 2 columns):\n",
      " #   Column      Non-Null Count   Dtype  \n",
      "---  ------      --------------   -----  \n",
      " 0   clean_text  107765 non-null  object \n",
      " 1   category    107760 non-null  float64\n",
      "dtypes: float64(1), object(1)\n",
      "memory usage: 2.5+ MB\n"
     ]
    }
   ],
   "source": [
    "df.drop_duplicates()\n",
    "df.info()"
   ]
  },
  {
   "cell_type": "code",
   "execution_count": 162,
   "id": "9d7f4a59",
   "metadata": {
    "execution": {
     "iopub.execute_input": "2022-09-09T20:32:05.401261Z",
     "iopub.status.busy": "2022-09-09T20:32:05.400352Z",
     "iopub.status.idle": "2022-09-09T20:32:05.409116Z",
     "shell.execute_reply": "2022-09-09T20:32:05.407322Z"
    },
    "id": "9d7f4a59",
    "papermill": {
     "duration": 0.028534,
     "end_time": "2022-09-09T20:32:05.411318",
     "exception": false,
     "start_time": "2022-09-09T20:32:05.382784",
     "status": "completed"
    },
    "tags": []
   },
   "outputs": [],
   "source": [
    "DATASET_COLUMNS = [\"clean_text\", \"category\"]\n",
    "DATASET_ENCODING = \"ISO-8859-1\"\n",
    "TRAIN_SIZE = 0.8\n",
    "\n",
    "W2V_SIZE = 300\n",
    "W2V_WINDOW = 7\n",
    "W2V_EPOCH = 32\n",
    "W2V_MIN_COUNT = 10\n",
    "\n",
    "SEQUENCE_LENGTH = 300\n",
    "EPOCHS = 50\n",
    "BATCH_SIZE = 1024\n",
    "\n",
    "POSITIVE = \"POSITIVE\"\n",
    "NEGATIVE = \"NEGATIVE\"\n",
    "NEUTRAL = \"NEUTRAL\"\n",
    "SENTIMENT_THRESHOLDS = (0.4, 0.7)\n",
    "\n",
    "KERAS_MODEL = \"model.h5\"\n",
    "WORD2VEC_MODEL = \"model.w2v\"\n",
    "TOKENIZER_MODEL = \"tokenizer.pkl\"\n",
    "ENCODER_MODEL = \"encoder.pkl\"\n",
    "\n",
    "\n",
    "plt.style.use('fivethirtyeight')\n",
    "pd.options.display.max_columns = 250\n",
    "pd.options.display.max_rows = 250\n"
   ]
  },
  {
   "cell_type": "code",
   "execution_count": 163,
   "id": "56dc0263",
   "metadata": {
    "colab": {
     "base_uri": "https://localhost:8080/"
    },
    "execution": {
     "iopub.execute_input": "2022-09-09T20:32:05.482784Z",
     "iopub.status.busy": "2022-09-09T20:32:05.482464Z",
     "iopub.status.idle": "2022-09-09T20:32:05.504609Z",
     "shell.execute_reply": "2022-09-09T20:32:05.503694Z"
    },
    "id": "56dc0263",
    "outputId": "db31e6da-9e0d-4162-b2ac-435937ab12ff",
    "papermill": {
     "duration": 0.04378,
     "end_time": "2022-09-09T20:32:05.506410",
     "exception": false,
     "start_time": "2022-09-09T20:32:05.462630",
     "status": "completed"
    },
    "tags": []
   },
   "outputs": [
    {
     "data": {
      "text/plain": [
       "clean_text    2\n",
       "category      7\n",
       "dtype: int64"
      ]
     },
     "execution_count": 163,
     "metadata": {},
     "output_type": "execute_result"
    }
   ],
   "source": [
    "df.isnull().sum()"
   ]
  },
  {
   "cell_type": "code",
   "execution_count": 164,
   "id": "f7fef2a2",
   "metadata": {
    "colab": {
     "base_uri": "https://localhost:8080/"
    },
    "execution": {
     "iopub.execute_input": "2022-09-09T20:32:05.544669Z",
     "iopub.status.busy": "2022-09-09T20:32:05.543505Z",
     "iopub.status.idle": "2022-09-09T20:32:05.595171Z",
     "shell.execute_reply": "2022-09-09T20:32:05.593967Z"
    },
    "id": "f7fef2a2",
    "outputId": "bffb4fc3-a86e-495f-e222-e10a95cea8dd",
    "papermill": {
     "duration": 0.073905,
     "end_time": "2022-09-09T20:32:05.598154",
     "exception": false,
     "start_time": "2022-09-09T20:32:05.524249",
     "status": "completed"
    },
    "tags": []
   },
   "outputs": [
    {
     "data": {
      "text/plain": [
       "clean_text    0\n",
       "category      0\n",
       "dtype: int64"
      ]
     },
     "execution_count": 164,
     "metadata": {},
     "output_type": "execute_result"
    }
   ],
   "source": [
    "df.dropna(how='any', inplace=True)\n",
    "df.isnull().sum()"
   ]
  },
  {
   "cell_type": "code",
   "execution_count": 165,
   "id": "c2cb7777",
   "metadata": {
    "execution": {
     "iopub.execute_input": "2022-09-09T20:32:05.706064Z",
     "iopub.status.busy": "2022-09-09T20:32:05.705415Z",
     "iopub.status.idle": "2022-09-09T20:32:05.711853Z",
     "shell.execute_reply": "2022-09-09T20:32:05.710321Z"
    },
    "id": "c2cb7777",
    "papermill": {
     "duration": 0.02774,
     "end_time": "2022-09-09T20:32:05.713950",
     "exception": false,
     "start_time": "2022-09-09T20:32:05.686210",
     "status": "completed"
    },
    "tags": []
   },
   "outputs": [],
   "source": [
    "decode_map = {-1.0: \"NEGATIVE\", 1.0: \"POSITIVE\"}\n",
    "def decode_sentiment(label):\n",
    "    return decode_map[int(label)]"
   ]
  },
  {
   "cell_type": "code",
   "execution_count": 166,
   "id": "25dd1645",
   "metadata": {
    "colab": {
     "base_uri": "https://localhost:8080/"
    },
    "execution": {
     "iopub.execute_input": "2022-09-09T20:32:05.753917Z",
     "iopub.status.busy": "2022-09-09T20:32:05.753584Z",
     "iopub.status.idle": "2022-09-09T20:32:05.806827Z",
     "shell.execute_reply": "2022-09-09T20:32:05.805337Z"
    },
    "id": "25dd1645",
    "outputId": "b3d39b0f-c656-4d28-8487-2b70fc6d7d56",
    "papermill": {
     "duration": 0.07805,
     "end_time": "2022-09-09T20:32:05.810137",
     "exception": false,
     "start_time": "2022-09-09T20:32:05.732087",
     "status": "completed"
    },
    "tags": []
   },
   "outputs": [
    {
     "name": "stdout",
     "output_type": "stream",
     "text": [
      "CPU times: user 31.7 ms, sys: 3.98 ms, total: 35.6 ms\n",
      "Wall time: 35.3 ms\n"
     ]
    }
   ],
   "source": [
    "%%time\n",
    "df.category = df.category.apply(lambda x: decode_sentiment(x))"
   ]
  },
  {
   "cell_type": "code",
   "execution_count": 167,
   "id": "5c63f8b1",
   "metadata": {
    "execution": {
     "iopub.execute_input": "2022-09-09T20:32:06.147213Z",
     "iopub.status.busy": "2022-09-09T20:32:06.146835Z",
     "iopub.status.idle": "2022-09-09T20:32:06.157239Z",
     "shell.execute_reply": "2022-09-09T20:32:06.155586Z"
    },
    "id": "5c63f8b1",
    "papermill": {
     "duration": 0.032879,
     "end_time": "2022-09-09T20:32:06.159844",
     "exception": false,
     "start_time": "2022-09-09T20:32:06.126965",
     "status": "completed"
    },
    "tags": []
   },
   "outputs": [],
   "source": [
    "stop_words = set(stopwords.words(\"english\"))\n",
    "stop_words.remove('not')\n",
    "more_stopwords = {'one', 'br', 'Po', 'th', 'sayi', 'fo', 'Unknown'}\n",
    "stop_words = stop_words.union(more_stopwords)\n",
    "\n",
    "stemmer = SnowballStemmer(\"english\")"
   ]
  },
  {
   "cell_type": "code",
   "execution_count": 168,
   "id": "a2abb5d3",
   "metadata": {
    "execution": {
     "iopub.execute_input": "2022-09-09T20:32:06.198137Z",
     "iopub.status.busy": "2022-09-09T20:32:06.197802Z",
     "iopub.status.idle": "2022-09-09T20:32:08.790411Z",
     "shell.execute_reply": "2022-09-09T20:32:08.789058Z"
    },
    "id": "a2abb5d3",
    "papermill": {
     "duration": 2.614544,
     "end_time": "2022-09-09T20:32:08.792607",
     "exception": false,
     "start_time": "2022-09-09T20:32:06.178063",
     "status": "completed"
    },
    "tags": []
   },
   "outputs": [],
   "source": [
    "def remove_URL(text):\n",
    "    url = re.compile(r'https?://\\S+|www\\.\\S+')\n",
    "    return url.sub(r'', text)\n",
    "\n",
    "\n",
    "def remove_emoji(text):\n",
    "    emoji_pattern = re.compile(\n",
    "        '['\n",
    "        u'\\U0001F600-\\U0001F64F'  # emoticons\n",
    "        u'\\U0001F300-\\U0001F5FF'  # symbols & pictographs\n",
    "        u'\\U0001F680-\\U0001F6FF'  # transport & map symbols\n",
    "        u'\\U0001F1E0-\\U0001F1FF'  # flags (iOS)\n",
    "        u'\\U00002702-\\U000027B0'\n",
    "        u'\\U000024C2-\\U0001F251'\n",
    "        ']+',\n",
    "        flags=re.UNICODE)\n",
    "    return emoji_pattern.sub(r'', text)\n",
    "\n",
    "\n",
    "def remove_html(text):\n",
    "    html = re.compile(r'^[^ ]<.*?>|&([a-z0-9]+|#[0-9]\\\"\\'\\“{1,6}|#x[0-9a-f]{1,6});[^A-Za-z0-9]+')\n",
    "    return re.sub(html, '', text)\n",
    "\n",
    "\n",
    "def remove_punct(text):\n",
    "    table = str.maketrans('', '', string.punctuation)\n",
    "    return text.translate(table)\n",
    "\n",
    "def remove_quotes(text):\n",
    "    quotes = re.compile(r'[^A-Za-z0-9\\s]+')\n",
    "    return re.sub(quotes, '', text)\n",
    "\n",
    "\n",
    "# Applying helper functions\n",
    "\n",
    "df['mod_text'] = df['clean_text'].apply(lambda x: remove_URL(x))\n",
    "df['mod_text'] = df['mod_text'].apply(lambda x: remove_emoji(x))\n",
    "df['mod_text'] = df['mod_text'].apply(lambda x: remove_html(x))\n",
    "df['mod_text'] = df['mod_text'].apply(lambda x: remove_punct(x))\n",
    "df['mod_text'] = df['mod_text'].apply(lambda x: remove_quotes(x))"
   ]
  },
  {
   "cell_type": "code",
   "execution_count": 169,
   "id": "4ad56e65",
   "metadata": {
    "execution": {
     "iopub.execute_input": "2022-09-09T20:32:08.828408Z",
     "iopub.status.busy": "2022-09-09T20:32:08.828055Z",
     "iopub.status.idle": "2022-09-09T20:32:24.255505Z",
     "shell.execute_reply": "2022-09-09T20:32:24.254640Z"
    },
    "id": "4ad56e65",
    "papermill": {
     "duration": 15.448349,
     "end_time": "2022-09-09T20:32:24.257860",
     "exception": false,
     "start_time": "2022-09-09T20:32:08.809511",
     "status": "completed"
    },
    "tags": []
   },
   "outputs": [],
   "source": [
    "df['tokenized'] = df['mod_text'].apply(word_tokenize)"
   ]
  },
  {
   "cell_type": "code",
   "execution_count": 170,
   "id": "3743d3ef",
   "metadata": {
    "execution": {
     "iopub.execute_input": "2022-09-09T20:32:24.298368Z",
     "iopub.status.busy": "2022-09-09T20:32:24.296703Z",
     "iopub.status.idle": "2022-09-09T20:32:25.084723Z",
     "shell.execute_reply": "2022-09-09T20:32:25.083407Z"
    },
    "id": "3743d3ef",
    "papermill": {
     "duration": 0.810515,
     "end_time": "2022-09-09T20:32:25.087054",
     "exception": false,
     "start_time": "2022-09-09T20:32:24.276539",
     "status": "completed"
    },
    "tags": []
   },
   "outputs": [],
   "source": [
    "# Lower casing clean text.\n",
    "\n",
    "df['lower'] = df['tokenized'].apply(\n",
    "    lambda x: [word.lower() for word in x])"
   ]
  },
  {
   "cell_type": "code",
   "execution_count": 171,
   "id": "25a1afdf",
   "metadata": {
    "execution": {
     "iopub.execute_input": "2022-09-09T20:32:25.126542Z",
     "iopub.status.busy": "2022-09-09T20:32:25.126214Z",
     "iopub.status.idle": "2022-09-09T20:32:25.545947Z",
     "shell.execute_reply": "2022-09-09T20:32:25.544507Z"
    },
    "id": "25a1afdf",
    "papermill": {
     "duration": 0.442681,
     "end_time": "2022-09-09T20:32:25.548618",
     "exception": false,
     "start_time": "2022-09-09T20:32:25.105937",
     "status": "completed"
    },
    "tags": []
   },
   "outputs": [],
   "source": [
    "# Removing stopwords.\n",
    "\n",
    "df['stopwords_removed'] = df['lower'].apply(\n",
    "    lambda x: [word for word in x if word not in stop_words])"
   ]
  },
  {
   "cell_type": "code",
   "execution_count": 172,
   "id": "52bd2c1e",
   "metadata": {
    "execution": {
     "iopub.execute_input": "2022-09-09T20:32:25.589289Z",
     "iopub.status.busy": "2022-09-09T20:32:25.588906Z",
     "iopub.status.idle": "2022-09-09T20:34:21.566496Z",
     "shell.execute_reply": "2022-09-09T20:34:21.565576Z"
    },
    "id": "52bd2c1e",
    "papermill": {
     "duration": 116.018941,
     "end_time": "2022-09-09T20:34:21.587225",
     "exception": false,
     "start_time": "2022-09-09T20:32:25.568284",
     "status": "completed"
    },
    "tags": []
   },
   "outputs": [],
   "source": [
    "# Applying part of speech tags.\n",
    "\n",
    "df['pos_tags'] = df['stopwords_removed'].apply(nltk.tag.pos_tag)"
   ]
  },
  {
   "cell_type": "code",
   "execution_count": 173,
   "id": "fe5510ef",
   "metadata": {
    "execution": {
     "iopub.execute_input": "2022-09-09T20:34:21.629654Z",
     "iopub.status.busy": "2022-09-09T20:34:21.629250Z",
     "iopub.status.idle": "2022-09-09T20:34:25.197460Z",
     "shell.execute_reply": "2022-09-09T20:34:25.196510Z"
    },
    "id": "fe5510ef",
    "papermill": {
     "duration": 3.592393,
     "end_time": "2022-09-09T20:34:25.199768",
     "exception": false,
     "start_time": "2022-09-09T20:34:21.607375",
     "status": "completed"
    },
    "tags": []
   },
   "outputs": [],
   "source": [
    "def get_wordnet_pos(tag):\n",
    "    if tag.startswith('J'):\n",
    "        return wordnet.ADJ\n",
    "    elif tag.startswith('V'):\n",
    "        return wordnet.VERB\n",
    "    elif tag.startswith('N'):\n",
    "        return wordnet.NOUN\n",
    "    elif tag.startswith('R'):\n",
    "        return wordnet.ADV\n",
    "    else:\n",
    "        return wordnet.NOUN\n",
    "\n",
    "\n",
    "df['wordnet_pos'] = df['pos_tags'].apply(\n",
    "    lambda x: [(word, get_wordnet_pos(pos_tag)) for (word, pos_tag) in x])"
   ]
  },
  {
   "cell_type": "code",
   "execution_count": 174,
   "id": "3b4b1e63",
   "metadata": {
    "execution": {
     "iopub.execute_input": "2022-09-09T20:34:25.241791Z",
     "iopub.status.busy": "2022-09-09T20:34:25.241433Z",
     "iopub.status.idle": "2022-09-09T20:34:33.644082Z",
     "shell.execute_reply": "2022-09-09T20:34:33.643077Z"
    },
    "id": "3b4b1e63",
    "papermill": {
     "duration": 8.42579,
     "end_time": "2022-09-09T20:34:33.645894",
     "exception": false,
     "start_time": "2022-09-09T20:34:25.220104",
     "status": "completed"
    },
    "tags": []
   },
   "outputs": [],
   "source": [
    "# Applying word lemmatizer.\n",
    "\n",
    "wnl = WordNetLemmatizer()\n",
    "\n",
    "df['lemmatized'] = df['wordnet_pos'].apply(\n",
    "    lambda x: [wnl.lemmatize(word, tag) for word, tag in x])\n",
    "\n",
    "df['lemmatized'] = df['lemmatized'].apply(\n",
    "    lambda x: [word for word in x if word not in stop_words])\n",
    "\n",
    "df['Final'] = [' '.join(map(str, l)) for l in df['lemmatized']]"
   ]
  },
  {
   "cell_type": "code",
   "execution_count": 175,
   "id": "f30be958",
   "metadata": {
    "colab": {
     "base_uri": "https://localhost:8080/"
    },
    "execution": {
     "iopub.execute_input": "2022-09-09T20:34:33.689489Z",
     "iopub.status.busy": "2022-09-09T20:34:33.688878Z",
     "iopub.status.idle": "2022-09-09T20:34:33.694871Z",
     "shell.execute_reply": "2022-09-09T20:34:33.693218Z"
    },
    "id": "f30be958",
    "outputId": "095f6490-c4ec-4757-ed97-2d255ab7c612",
    "papermill": {
     "duration": 0.031225,
     "end_time": "2022-09-09T20:34:33.697794",
     "exception": false,
     "start_time": "2022-09-09T20:34:33.666569",
     "status": "completed"
    },
    "tags": []
   },
   "outputs": [
    {
     "name": "stdout",
     "output_type": "stream",
     "text": [
      "Total Rows = 107758\n"
     ]
    }
   ],
   "source": [
    "print(\"Total Rows =\", len(df.clean_text))"
   ]
  },
  {
   "cell_type": "code",
   "execution_count": 176,
   "id": "b4c2473a",
   "metadata": {
    "colab": {
     "base_uri": "https://localhost:8080/",
     "height": 657
    },
    "execution": {
     "iopub.execute_input": "2022-09-09T20:34:33.753846Z",
     "iopub.status.busy": "2022-09-09T20:34:33.753427Z",
     "iopub.status.idle": "2022-09-09T20:34:33.832206Z",
     "shell.execute_reply": "2022-09-09T20:34:33.830449Z"
    },
    "id": "b4c2473a",
    "outputId": "81b1bdbb-38b6-4af0-e1dc-8b63ca56bb6d",
    "papermill": {
     "duration": 0.111766,
     "end_time": "2022-09-09T20:34:33.834908",
     "exception": false,
     "start_time": "2022-09-09T20:34:33.723142",
     "status": "completed"
    },
    "tags": []
   },
   "outputs": [
    {
     "data": {
      "text/html": [
       "\n",
       "  <div id=\"df-8ca68bf9-c0ae-4eab-bc0e-a3f0d9090ccc\" class=\"colab-df-container\">\n",
       "    <div>\n",
       "<style scoped>\n",
       "    .dataframe tbody tr th:only-of-type {\n",
       "        vertical-align: middle;\n",
       "    }\n",
       "\n",
       "    .dataframe tbody tr th {\n",
       "        vertical-align: top;\n",
       "    }\n",
       "\n",
       "    .dataframe thead th {\n",
       "        text-align: right;\n",
       "    }\n",
       "</style>\n",
       "<table border=\"1\" class=\"dataframe\">\n",
       "  <thead>\n",
       "    <tr style=\"text-align: right;\">\n",
       "      <th></th>\n",
       "      <th>clean_text</th>\n",
       "      <th>category</th>\n",
       "      <th>mod_text</th>\n",
       "      <th>tokenized</th>\n",
       "      <th>lower</th>\n",
       "      <th>stopwords_removed</th>\n",
       "      <th>pos_tags</th>\n",
       "      <th>wordnet_pos</th>\n",
       "      <th>lemmatized</th>\n",
       "      <th>Final</th>\n",
       "    </tr>\n",
       "  </thead>\n",
       "  <tbody>\n",
       "    <tr>\n",
       "      <th>0</th>\n",
       "      <td>when modi promised “minimum government maximum...</td>\n",
       "      <td>NEGATIVE</td>\n",
       "      <td>when modi promised minimum government maximum ...</td>\n",
       "      <td>[when, modi, promised, minimum, government, ma...</td>\n",
       "      <td>[when, modi, promised, minimum, government, ma...</td>\n",
       "      <td>[modi, promised, minimum, government, maximum,...</td>\n",
       "      <td>[(modi, NNS), (promised, VBD), (minimum, JJ), ...</td>\n",
       "      <td>[(modi, n), (promised, v), (minimum, a), (gove...</td>\n",
       "      <td>[modi, promise, minimum, government, maximum, ...</td>\n",
       "      <td>modi promise minimum government maximum govern...</td>\n",
       "    </tr>\n",
       "    <tr>\n",
       "      <th>2</th>\n",
       "      <td>what did just say vote for modi  welcome bjp t...</td>\n",
       "      <td>POSITIVE</td>\n",
       "      <td>what did just say vote for modi  welcome bjp t...</td>\n",
       "      <td>[what, did, just, say, vote, for, modi, welcom...</td>\n",
       "      <td>[what, did, just, say, vote, for, modi, welcom...</td>\n",
       "      <td>[say, vote, modi, welcome, bjp, told, rahul, m...</td>\n",
       "      <td>[(say, VB), (vote, NN), (modi, FW), (welcome, ...</td>\n",
       "      <td>[(say, v), (vote, n), (modi, n), (welcome, a),...</td>\n",
       "      <td>[say, vote, modi, welcome, bjp, tell, rahul, m...</td>\n",
       "      <td>say vote modi welcome bjp tell rahul main camp...</td>\n",
       "    </tr>\n",
       "    <tr>\n",
       "      <th>3</th>\n",
       "      <td>asking his supporters prefix chowkidar their n...</td>\n",
       "      <td>POSITIVE</td>\n",
       "      <td>asking his supporters prefix chowkidar their n...</td>\n",
       "      <td>[asking, his, supporters, prefix, chowkidar, t...</td>\n",
       "      <td>[asking, his, supporters, prefix, chowkidar, t...</td>\n",
       "      <td>[asking, supporters, prefix, chowkidar, names,...</td>\n",
       "      <td>[(asking, VBG), (supporters, NNS), (prefix, VB...</td>\n",
       "      <td>[(asking, v), (supporters, n), (prefix, v), (c...</td>\n",
       "      <td>[ask, supporter, prefix, chowkidar, name, modi...</td>\n",
       "      <td>ask supporter prefix chowkidar name modi great...</td>\n",
       "    </tr>\n",
       "    <tr>\n",
       "      <th>4</th>\n",
       "      <td>answer who among these the most powerful world...</td>\n",
       "      <td>POSITIVE</td>\n",
       "      <td>answer who among these the most powerful world...</td>\n",
       "      <td>[answer, who, among, these, the, most, powerfu...</td>\n",
       "      <td>[answer, who, among, these, the, most, powerfu...</td>\n",
       "      <td>[answer, among, powerful, world, leader, today...</td>\n",
       "      <td>[(answer, NN), (among, IN), (powerful, JJ), (w...</td>\n",
       "      <td>[(answer, n), (among, n), (powerful, a), (worl...</td>\n",
       "      <td>[answer, among, powerful, world, leader, today...</td>\n",
       "      <td>answer among powerful world leader today trump...</td>\n",
       "    </tr>\n",
       "    <tr>\n",
       "      <th>8</th>\n",
       "      <td>with upcoming election india saga going import...</td>\n",
       "      <td>POSITIVE</td>\n",
       "      <td>with upcoming election india saga going import...</td>\n",
       "      <td>[with, upcoming, election, india, saga, going,...</td>\n",
       "      <td>[with, upcoming, election, india, saga, going,...</td>\n",
       "      <td>[upcoming, election, india, saga, going, impor...</td>\n",
       "      <td>[(upcoming, JJ), (election, NN), (india, NN), ...</td>\n",
       "      <td>[(upcoming, a), (election, n), (india, n), (sa...</td>\n",
       "      <td>[upcoming, election, india, saga, go, importan...</td>\n",
       "      <td>upcoming election india saga go important pair...</td>\n",
       "    </tr>\n",
       "  </tbody>\n",
       "</table>\n",
       "</div>\n",
       "    <div class=\"colab-df-buttons\">\n",
       "\n",
       "  <div class=\"colab-df-container\">\n",
       "    <button class=\"colab-df-convert\" onclick=\"convertToInteractive('df-8ca68bf9-c0ae-4eab-bc0e-a3f0d9090ccc')\"\n",
       "            title=\"Convert this dataframe to an interactive table.\"\n",
       "            style=\"display:none;\">\n",
       "\n",
       "  <svg xmlns=\"http://www.w3.org/2000/svg\" height=\"24px\" viewBox=\"0 -960 960 960\">\n",
       "    <path d=\"M120-120v-720h720v720H120Zm60-500h600v-160H180v160Zm220 220h160v-160H400v160Zm0 220h160v-160H400v160ZM180-400h160v-160H180v160Zm440 0h160v-160H620v160ZM180-180h160v-160H180v160Zm440 0h160v-160H620v160Z\"/>\n",
       "  </svg>\n",
       "    </button>\n",
       "\n",
       "  <style>\n",
       "    .colab-df-container {\n",
       "      display:flex;\n",
       "      gap: 12px;\n",
       "    }\n",
       "\n",
       "    .colab-df-convert {\n",
       "      background-color: #E8F0FE;\n",
       "      border: none;\n",
       "      border-radius: 50%;\n",
       "      cursor: pointer;\n",
       "      display: none;\n",
       "      fill: #1967D2;\n",
       "      height: 32px;\n",
       "      padding: 0 0 0 0;\n",
       "      width: 32px;\n",
       "    }\n",
       "\n",
       "    .colab-df-convert:hover {\n",
       "      background-color: #E2EBFA;\n",
       "      box-shadow: 0px 1px 2px rgba(60, 64, 67, 0.3), 0px 1px 3px 1px rgba(60, 64, 67, 0.15);\n",
       "      fill: #174EA6;\n",
       "    }\n",
       "\n",
       "    .colab-df-buttons div {\n",
       "      margin-bottom: 4px;\n",
       "    }\n",
       "\n",
       "    [theme=dark] .colab-df-convert {\n",
       "      background-color: #3B4455;\n",
       "      fill: #D2E3FC;\n",
       "    }\n",
       "\n",
       "    [theme=dark] .colab-df-convert:hover {\n",
       "      background-color: #434B5C;\n",
       "      box-shadow: 0px 1px 3px 1px rgba(0, 0, 0, 0.15);\n",
       "      filter: drop-shadow(0px 1px 2px rgba(0, 0, 0, 0.3));\n",
       "      fill: #FFFFFF;\n",
       "    }\n",
       "  </style>\n",
       "\n",
       "    <script>\n",
       "      const buttonEl =\n",
       "        document.querySelector('#df-8ca68bf9-c0ae-4eab-bc0e-a3f0d9090ccc button.colab-df-convert');\n",
       "      buttonEl.style.display =\n",
       "        google.colab.kernel.accessAllowed ? 'block' : 'none';\n",
       "\n",
       "      async function convertToInteractive(key) {\n",
       "        const element = document.querySelector('#df-8ca68bf9-c0ae-4eab-bc0e-a3f0d9090ccc');\n",
       "        const dataTable =\n",
       "          await google.colab.kernel.invokeFunction('convertToInteractive',\n",
       "                                                    [key], {});\n",
       "        if (!dataTable) return;\n",
       "\n",
       "        const docLinkHtml = 'Like what you see? Visit the ' +\n",
       "          '<a target=\"_blank\" href=https://colab.research.google.com/notebooks/data_table.ipynb>data table notebook</a>'\n",
       "          + ' to learn more about interactive tables.';\n",
       "        element.innerHTML = '';\n",
       "        dataTable['output_type'] = 'display_data';\n",
       "        await google.colab.output.renderOutput(dataTable, element);\n",
       "        const docLink = document.createElement('div');\n",
       "        docLink.innerHTML = docLinkHtml;\n",
       "        element.appendChild(docLink);\n",
       "      }\n",
       "    </script>\n",
       "  </div>\n",
       "\n",
       "\n",
       "<div id=\"df-cc383379-825d-4cfd-87f5-91a3968c608b\">\n",
       "  <button class=\"colab-df-quickchart\" onclick=\"quickchart('df-cc383379-825d-4cfd-87f5-91a3968c608b')\"\n",
       "            title=\"Suggest charts\"\n",
       "            style=\"display:none;\">\n",
       "\n",
       "<svg xmlns=\"http://www.w3.org/2000/svg\" height=\"24px\"viewBox=\"0 0 24 24\"\n",
       "     width=\"24px\">\n",
       "    <g>\n",
       "        <path d=\"M19 3H5c-1.1 0-2 .9-2 2v14c0 1.1.9 2 2 2h14c1.1 0 2-.9 2-2V5c0-1.1-.9-2-2-2zM9 17H7v-7h2v7zm4 0h-2V7h2v10zm4 0h-2v-4h2v4z\"/>\n",
       "    </g>\n",
       "</svg>\n",
       "  </button>\n",
       "\n",
       "<style>\n",
       "  .colab-df-quickchart {\n",
       "      --bg-color: #E8F0FE;\n",
       "      --fill-color: #1967D2;\n",
       "      --hover-bg-color: #E2EBFA;\n",
       "      --hover-fill-color: #174EA6;\n",
       "      --disabled-fill-color: #AAA;\n",
       "      --disabled-bg-color: #DDD;\n",
       "  }\n",
       "\n",
       "  [theme=dark] .colab-df-quickchart {\n",
       "      --bg-color: #3B4455;\n",
       "      --fill-color: #D2E3FC;\n",
       "      --hover-bg-color: #434B5C;\n",
       "      --hover-fill-color: #FFFFFF;\n",
       "      --disabled-bg-color: #3B4455;\n",
       "      --disabled-fill-color: #666;\n",
       "  }\n",
       "\n",
       "  .colab-df-quickchart {\n",
       "    background-color: var(--bg-color);\n",
       "    border: none;\n",
       "    border-radius: 50%;\n",
       "    cursor: pointer;\n",
       "    display: none;\n",
       "    fill: var(--fill-color);\n",
       "    height: 32px;\n",
       "    padding: 0;\n",
       "    width: 32px;\n",
       "  }\n",
       "\n",
       "  .colab-df-quickchart:hover {\n",
       "    background-color: var(--hover-bg-color);\n",
       "    box-shadow: 0 1px 2px rgba(60, 64, 67, 0.3), 0 1px 3px 1px rgba(60, 64, 67, 0.15);\n",
       "    fill: var(--button-hover-fill-color);\n",
       "  }\n",
       "\n",
       "  .colab-df-quickchart-complete:disabled,\n",
       "  .colab-df-quickchart-complete:disabled:hover {\n",
       "    background-color: var(--disabled-bg-color);\n",
       "    fill: var(--disabled-fill-color);\n",
       "    box-shadow: none;\n",
       "  }\n",
       "\n",
       "  .colab-df-spinner {\n",
       "    border: 2px solid var(--fill-color);\n",
       "    border-color: transparent;\n",
       "    border-bottom-color: var(--fill-color);\n",
       "    animation:\n",
       "      spin 1s steps(1) infinite;\n",
       "  }\n",
       "\n",
       "  @keyframes spin {\n",
       "    0% {\n",
       "      border-color: transparent;\n",
       "      border-bottom-color: var(--fill-color);\n",
       "      border-left-color: var(--fill-color);\n",
       "    }\n",
       "    20% {\n",
       "      border-color: transparent;\n",
       "      border-left-color: var(--fill-color);\n",
       "      border-top-color: var(--fill-color);\n",
       "    }\n",
       "    30% {\n",
       "      border-color: transparent;\n",
       "      border-left-color: var(--fill-color);\n",
       "      border-top-color: var(--fill-color);\n",
       "      border-right-color: var(--fill-color);\n",
       "    }\n",
       "    40% {\n",
       "      border-color: transparent;\n",
       "      border-right-color: var(--fill-color);\n",
       "      border-top-color: var(--fill-color);\n",
       "    }\n",
       "    60% {\n",
       "      border-color: transparent;\n",
       "      border-right-color: var(--fill-color);\n",
       "    }\n",
       "    80% {\n",
       "      border-color: transparent;\n",
       "      border-right-color: var(--fill-color);\n",
       "      border-bottom-color: var(--fill-color);\n",
       "    }\n",
       "    90% {\n",
       "      border-color: transparent;\n",
       "      border-bottom-color: var(--fill-color);\n",
       "    }\n",
       "  }\n",
       "</style>\n",
       "\n",
       "  <script>\n",
       "    async function quickchart(key) {\n",
       "      const quickchartButtonEl =\n",
       "        document.querySelector('#' + key + ' button');\n",
       "      quickchartButtonEl.disabled = true;  // To prevent multiple clicks.\n",
       "      quickchartButtonEl.classList.add('colab-df-spinner');\n",
       "      try {\n",
       "        const charts = await google.colab.kernel.invokeFunction(\n",
       "            'suggestCharts', [key], {});\n",
       "      } catch (error) {\n",
       "        console.error('Error during call to suggestCharts:', error);\n",
       "      }\n",
       "      quickchartButtonEl.classList.remove('colab-df-spinner');\n",
       "      quickchartButtonEl.classList.add('colab-df-quickchart-complete');\n",
       "    }\n",
       "    (() => {\n",
       "      let quickchartButtonEl =\n",
       "        document.querySelector('#df-cc383379-825d-4cfd-87f5-91a3968c608b button');\n",
       "      quickchartButtonEl.style.display =\n",
       "        google.colab.kernel.accessAllowed ? 'block' : 'none';\n",
       "    })();\n",
       "  </script>\n",
       "</div>\n",
       "    </div>\n",
       "  </div>\n"
      ],
      "text/plain": [
       "                                          clean_text  category  \\\n",
       "0  when modi promised “minimum government maximum...  NEGATIVE   \n",
       "2  what did just say vote for modi  welcome bjp t...  POSITIVE   \n",
       "3  asking his supporters prefix chowkidar their n...  POSITIVE   \n",
       "4  answer who among these the most powerful world...  POSITIVE   \n",
       "8  with upcoming election india saga going import...  POSITIVE   \n",
       "\n",
       "                                            mod_text  \\\n",
       "0  when modi promised minimum government maximum ...   \n",
       "2  what did just say vote for modi  welcome bjp t...   \n",
       "3  asking his supporters prefix chowkidar their n...   \n",
       "4  answer who among these the most powerful world...   \n",
       "8  with upcoming election india saga going import...   \n",
       "\n",
       "                                           tokenized  \\\n",
       "0  [when, modi, promised, minimum, government, ma...   \n",
       "2  [what, did, just, say, vote, for, modi, welcom...   \n",
       "3  [asking, his, supporters, prefix, chowkidar, t...   \n",
       "4  [answer, who, among, these, the, most, powerfu...   \n",
       "8  [with, upcoming, election, india, saga, going,...   \n",
       "\n",
       "                                               lower  \\\n",
       "0  [when, modi, promised, minimum, government, ma...   \n",
       "2  [what, did, just, say, vote, for, modi, welcom...   \n",
       "3  [asking, his, supporters, prefix, chowkidar, t...   \n",
       "4  [answer, who, among, these, the, most, powerfu...   \n",
       "8  [with, upcoming, election, india, saga, going,...   \n",
       "\n",
       "                                   stopwords_removed  \\\n",
       "0  [modi, promised, minimum, government, maximum,...   \n",
       "2  [say, vote, modi, welcome, bjp, told, rahul, m...   \n",
       "3  [asking, supporters, prefix, chowkidar, names,...   \n",
       "4  [answer, among, powerful, world, leader, today...   \n",
       "8  [upcoming, election, india, saga, going, impor...   \n",
       "\n",
       "                                            pos_tags  \\\n",
       "0  [(modi, NNS), (promised, VBD), (minimum, JJ), ...   \n",
       "2  [(say, VB), (vote, NN), (modi, FW), (welcome, ...   \n",
       "3  [(asking, VBG), (supporters, NNS), (prefix, VB...   \n",
       "4  [(answer, NN), (among, IN), (powerful, JJ), (w...   \n",
       "8  [(upcoming, JJ), (election, NN), (india, NN), ...   \n",
       "\n",
       "                                         wordnet_pos  \\\n",
       "0  [(modi, n), (promised, v), (minimum, a), (gove...   \n",
       "2  [(say, v), (vote, n), (modi, n), (welcome, a),...   \n",
       "3  [(asking, v), (supporters, n), (prefix, v), (c...   \n",
       "4  [(answer, n), (among, n), (powerful, a), (worl...   \n",
       "8  [(upcoming, a), (election, n), (india, n), (sa...   \n",
       "\n",
       "                                          lemmatized  \\\n",
       "0  [modi, promise, minimum, government, maximum, ...   \n",
       "2  [say, vote, modi, welcome, bjp, tell, rahul, m...   \n",
       "3  [ask, supporter, prefix, chowkidar, name, modi...   \n",
       "4  [answer, among, powerful, world, leader, today...   \n",
       "8  [upcoming, election, india, saga, go, importan...   \n",
       "\n",
       "                                               Final  \n",
       "0  modi promise minimum government maximum govern...  \n",
       "2  say vote modi welcome bjp tell rahul main camp...  \n",
       "3  ask supporter prefix chowkidar name modi great...  \n",
       "4  answer among powerful world leader today trump...  \n",
       "8  upcoming election india saga go important pair...  "
      ]
     },
     "execution_count": 176,
     "metadata": {},
     "output_type": "execute_result"
    }
   ],
   "source": [
    "df.head()"
   ]
  },
  {
   "cell_type": "code",
   "execution_count": 177,
   "id": "21a0c8c5",
   "metadata": {
    "colab": {
     "base_uri": "https://localhost:8080/",
     "height": 206
    },
    "execution": {
     "iopub.execute_input": "2022-09-09T20:34:33.881349Z",
     "iopub.status.busy": "2022-09-09T20:34:33.880984Z",
     "iopub.status.idle": "2022-09-09T20:34:33.946973Z",
     "shell.execute_reply": "2022-09-09T20:34:33.945094Z"
    },
    "id": "21a0c8c5",
    "outputId": "06fca9a4-4e09-44d8-fed8-604a921afcb3",
    "papermill": {
     "duration": 0.092661,
     "end_time": "2022-09-09T20:34:33.949535",
     "exception": false,
     "start_time": "2022-09-09T20:34:33.856874",
     "status": "completed"
    },
    "tags": []
   },
   "outputs": [
    {
     "data": {
      "text/html": [
       "\n",
       "  <div id=\"df-3419ced8-12f8-45a8-bd2d-1840541f5843\" class=\"colab-df-container\">\n",
       "    <div>\n",
       "<style scoped>\n",
       "    .dataframe tbody tr th:only-of-type {\n",
       "        vertical-align: middle;\n",
       "    }\n",
       "\n",
       "    .dataframe tbody tr th {\n",
       "        vertical-align: top;\n",
       "    }\n",
       "\n",
       "    .dataframe thead th {\n",
       "        text-align: right;\n",
       "    }\n",
       "</style>\n",
       "<table border=\"1\" class=\"dataframe\">\n",
       "  <thead>\n",
       "    <tr style=\"text-align: right;\">\n",
       "      <th></th>\n",
       "      <th>Final</th>\n",
       "      <th>category</th>\n",
       "    </tr>\n",
       "  </thead>\n",
       "  <tbody>\n",
       "    <tr>\n",
       "      <th>0</th>\n",
       "      <td>modi promise minimum government maximum govern...</td>\n",
       "      <td>NEGATIVE</td>\n",
       "    </tr>\n",
       "    <tr>\n",
       "      <th>2</th>\n",
       "      <td>say vote modi welcome bjp tell rahul main camp...</td>\n",
       "      <td>POSITIVE</td>\n",
       "    </tr>\n",
       "    <tr>\n",
       "      <th>3</th>\n",
       "      <td>ask supporter prefix chowkidar name modi great...</td>\n",
       "      <td>POSITIVE</td>\n",
       "    </tr>\n",
       "    <tr>\n",
       "      <th>4</th>\n",
       "      <td>answer among powerful world leader today trump...</td>\n",
       "      <td>POSITIVE</td>\n",
       "    </tr>\n",
       "    <tr>\n",
       "      <th>8</th>\n",
       "      <td>upcoming election india saga go important pair...</td>\n",
       "      <td>POSITIVE</td>\n",
       "    </tr>\n",
       "  </tbody>\n",
       "</table>\n",
       "</div>\n",
       "    <div class=\"colab-df-buttons\">\n",
       "\n",
       "  <div class=\"colab-df-container\">\n",
       "    <button class=\"colab-df-convert\" onclick=\"convertToInteractive('df-3419ced8-12f8-45a8-bd2d-1840541f5843')\"\n",
       "            title=\"Convert this dataframe to an interactive table.\"\n",
       "            style=\"display:none;\">\n",
       "\n",
       "  <svg xmlns=\"http://www.w3.org/2000/svg\" height=\"24px\" viewBox=\"0 -960 960 960\">\n",
       "    <path d=\"M120-120v-720h720v720H120Zm60-500h600v-160H180v160Zm220 220h160v-160H400v160Zm0 220h160v-160H400v160ZM180-400h160v-160H180v160Zm440 0h160v-160H620v160ZM180-180h160v-160H180v160Zm440 0h160v-160H620v160Z\"/>\n",
       "  </svg>\n",
       "    </button>\n",
       "\n",
       "  <style>\n",
       "    .colab-df-container {\n",
       "      display:flex;\n",
       "      gap: 12px;\n",
       "    }\n",
       "\n",
       "    .colab-df-convert {\n",
       "      background-color: #E8F0FE;\n",
       "      border: none;\n",
       "      border-radius: 50%;\n",
       "      cursor: pointer;\n",
       "      display: none;\n",
       "      fill: #1967D2;\n",
       "      height: 32px;\n",
       "      padding: 0 0 0 0;\n",
       "      width: 32px;\n",
       "    }\n",
       "\n",
       "    .colab-df-convert:hover {\n",
       "      background-color: #E2EBFA;\n",
       "      box-shadow: 0px 1px 2px rgba(60, 64, 67, 0.3), 0px 1px 3px 1px rgba(60, 64, 67, 0.15);\n",
       "      fill: #174EA6;\n",
       "    }\n",
       "\n",
       "    .colab-df-buttons div {\n",
       "      margin-bottom: 4px;\n",
       "    }\n",
       "\n",
       "    [theme=dark] .colab-df-convert {\n",
       "      background-color: #3B4455;\n",
       "      fill: #D2E3FC;\n",
       "    }\n",
       "\n",
       "    [theme=dark] .colab-df-convert:hover {\n",
       "      background-color: #434B5C;\n",
       "      box-shadow: 0px 1px 3px 1px rgba(0, 0, 0, 0.15);\n",
       "      filter: drop-shadow(0px 1px 2px rgba(0, 0, 0, 0.3));\n",
       "      fill: #FFFFFF;\n",
       "    }\n",
       "  </style>\n",
       "\n",
       "    <script>\n",
       "      const buttonEl =\n",
       "        document.querySelector('#df-3419ced8-12f8-45a8-bd2d-1840541f5843 button.colab-df-convert');\n",
       "      buttonEl.style.display =\n",
       "        google.colab.kernel.accessAllowed ? 'block' : 'none';\n",
       "\n",
       "      async function convertToInteractive(key) {\n",
       "        const element = document.querySelector('#df-3419ced8-12f8-45a8-bd2d-1840541f5843');\n",
       "        const dataTable =\n",
       "          await google.colab.kernel.invokeFunction('convertToInteractive',\n",
       "                                                    [key], {});\n",
       "        if (!dataTable) return;\n",
       "\n",
       "        const docLinkHtml = 'Like what you see? Visit the ' +\n",
       "          '<a target=\"_blank\" href=https://colab.research.google.com/notebooks/data_table.ipynb>data table notebook</a>'\n",
       "          + ' to learn more about interactive tables.';\n",
       "        element.innerHTML = '';\n",
       "        dataTable['output_type'] = 'display_data';\n",
       "        await google.colab.output.renderOutput(dataTable, element);\n",
       "        const docLink = document.createElement('div');\n",
       "        docLink.innerHTML = docLinkHtml;\n",
       "        element.appendChild(docLink);\n",
       "      }\n",
       "    </script>\n",
       "  </div>\n",
       "\n",
       "\n",
       "<div id=\"df-155f377c-ea95-48ca-a659-98ebc6673432\">\n",
       "  <button class=\"colab-df-quickchart\" onclick=\"quickchart('df-155f377c-ea95-48ca-a659-98ebc6673432')\"\n",
       "            title=\"Suggest charts\"\n",
       "            style=\"display:none;\">\n",
       "\n",
       "<svg xmlns=\"http://www.w3.org/2000/svg\" height=\"24px\"viewBox=\"0 0 24 24\"\n",
       "     width=\"24px\">\n",
       "    <g>\n",
       "        <path d=\"M19 3H5c-1.1 0-2 .9-2 2v14c0 1.1.9 2 2 2h14c1.1 0 2-.9 2-2V5c0-1.1-.9-2-2-2zM9 17H7v-7h2v7zm4 0h-2V7h2v10zm4 0h-2v-4h2v4z\"/>\n",
       "    </g>\n",
       "</svg>\n",
       "  </button>\n",
       "\n",
       "<style>\n",
       "  .colab-df-quickchart {\n",
       "      --bg-color: #E8F0FE;\n",
       "      --fill-color: #1967D2;\n",
       "      --hover-bg-color: #E2EBFA;\n",
       "      --hover-fill-color: #174EA6;\n",
       "      --disabled-fill-color: #AAA;\n",
       "      --disabled-bg-color: #DDD;\n",
       "  }\n",
       "\n",
       "  [theme=dark] .colab-df-quickchart {\n",
       "      --bg-color: #3B4455;\n",
       "      --fill-color: #D2E3FC;\n",
       "      --hover-bg-color: #434B5C;\n",
       "      --hover-fill-color: #FFFFFF;\n",
       "      --disabled-bg-color: #3B4455;\n",
       "      --disabled-fill-color: #666;\n",
       "  }\n",
       "\n",
       "  .colab-df-quickchart {\n",
       "    background-color: var(--bg-color);\n",
       "    border: none;\n",
       "    border-radius: 50%;\n",
       "    cursor: pointer;\n",
       "    display: none;\n",
       "    fill: var(--fill-color);\n",
       "    height: 32px;\n",
       "    padding: 0;\n",
       "    width: 32px;\n",
       "  }\n",
       "\n",
       "  .colab-df-quickchart:hover {\n",
       "    background-color: var(--hover-bg-color);\n",
       "    box-shadow: 0 1px 2px rgba(60, 64, 67, 0.3), 0 1px 3px 1px rgba(60, 64, 67, 0.15);\n",
       "    fill: var(--button-hover-fill-color);\n",
       "  }\n",
       "\n",
       "  .colab-df-quickchart-complete:disabled,\n",
       "  .colab-df-quickchart-complete:disabled:hover {\n",
       "    background-color: var(--disabled-bg-color);\n",
       "    fill: var(--disabled-fill-color);\n",
       "    box-shadow: none;\n",
       "  }\n",
       "\n",
       "  .colab-df-spinner {\n",
       "    border: 2px solid var(--fill-color);\n",
       "    border-color: transparent;\n",
       "    border-bottom-color: var(--fill-color);\n",
       "    animation:\n",
       "      spin 1s steps(1) infinite;\n",
       "  }\n",
       "\n",
       "  @keyframes spin {\n",
       "    0% {\n",
       "      border-color: transparent;\n",
       "      border-bottom-color: var(--fill-color);\n",
       "      border-left-color: var(--fill-color);\n",
       "    }\n",
       "    20% {\n",
       "      border-color: transparent;\n",
       "      border-left-color: var(--fill-color);\n",
       "      border-top-color: var(--fill-color);\n",
       "    }\n",
       "    30% {\n",
       "      border-color: transparent;\n",
       "      border-left-color: var(--fill-color);\n",
       "      border-top-color: var(--fill-color);\n",
       "      border-right-color: var(--fill-color);\n",
       "    }\n",
       "    40% {\n",
       "      border-color: transparent;\n",
       "      border-right-color: var(--fill-color);\n",
       "      border-top-color: var(--fill-color);\n",
       "    }\n",
       "    60% {\n",
       "      border-color: transparent;\n",
       "      border-right-color: var(--fill-color);\n",
       "    }\n",
       "    80% {\n",
       "      border-color: transparent;\n",
       "      border-right-color: var(--fill-color);\n",
       "      border-bottom-color: var(--fill-color);\n",
       "    }\n",
       "    90% {\n",
       "      border-color: transparent;\n",
       "      border-bottom-color: var(--fill-color);\n",
       "    }\n",
       "  }\n",
       "</style>\n",
       "\n",
       "  <script>\n",
       "    async function quickchart(key) {\n",
       "      const quickchartButtonEl =\n",
       "        document.querySelector('#' + key + ' button');\n",
       "      quickchartButtonEl.disabled = true;  // To prevent multiple clicks.\n",
       "      quickchartButtonEl.classList.add('colab-df-spinner');\n",
       "      try {\n",
       "        const charts = await google.colab.kernel.invokeFunction(\n",
       "            'suggestCharts', [key], {});\n",
       "      } catch (error) {\n",
       "        console.error('Error during call to suggestCharts:', error);\n",
       "      }\n",
       "      quickchartButtonEl.classList.remove('colab-df-spinner');\n",
       "      quickchartButtonEl.classList.add('colab-df-quickchart-complete');\n",
       "    }\n",
       "    (() => {\n",
       "      let quickchartButtonEl =\n",
       "        document.querySelector('#df-155f377c-ea95-48ca-a659-98ebc6673432 button');\n",
       "      quickchartButtonEl.style.display =\n",
       "        google.colab.kernel.accessAllowed ? 'block' : 'none';\n",
       "    })();\n",
       "  </script>\n",
       "</div>\n",
       "    </div>\n",
       "  </div>\n"
      ],
      "text/plain": [
       "                                               Final  category\n",
       "0  modi promise minimum government maximum govern...  NEGATIVE\n",
       "2  say vote modi welcome bjp tell rahul main camp...  POSITIVE\n",
       "3  ask supporter prefix chowkidar name modi great...  POSITIVE\n",
       "4  answer among powerful world leader today trump...  POSITIVE\n",
       "8  upcoming election india saga go important pair...  POSITIVE"
      ]
     },
     "execution_count": 177,
     "metadata": {},
     "output_type": "execute_result"
    }
   ],
   "source": [
    "df_mod = df[[\"Final\", \"category\"]]\n",
    "df_mod.head()"
   ]
  },
  {
   "cell_type": "code",
   "execution_count": 178,
   "id": "e1f2af5e",
   "metadata": {
    "colab": {
     "base_uri": "https://localhost:8080/"
    },
    "execution": {
     "iopub.execute_input": "2022-09-09T20:34:34.035818Z",
     "iopub.status.busy": "2022-09-09T20:34:34.034741Z",
     "iopub.status.idle": "2022-09-09T20:34:34.057266Z",
     "shell.execute_reply": "2022-09-09T20:34:34.056261Z"
    },
    "id": "e1f2af5e",
    "outputId": "f80543f9-0e44-49c3-bdfe-70a4633d3fe3",
    "papermill": {
     "duration": 0.046858,
     "end_time": "2022-09-09T20:34:34.059523",
     "exception": false,
     "start_time": "2022-09-09T20:34:34.012665",
     "status": "completed"
    },
    "tags": []
   },
   "outputs": [
    {
     "name": "stdout",
     "output_type": "stream",
     "text": [
      "TRAIN size: 86206\n",
      "TEST size: 21552\n"
     ]
    }
   ],
   "source": [
    "df_train, df_test = train_test_split(df_mod, test_size=1-TRAIN_SIZE, random_state=42)\n",
    "print(\"TRAIN size:\", len(df_train))\n",
    "print(\"TEST size:\", len(df_test))"
   ]
  },
  {
   "cell_type": "code",
   "execution_count": 179,
   "id": "ac3927b4",
   "metadata": {
    "colab": {
     "base_uri": "https://localhost:8080/"
    },
    "execution": {
     "iopub.execute_input": "2022-09-09T20:34:41.668644Z",
     "iopub.status.busy": "2022-09-09T20:34:41.667789Z",
     "iopub.status.idle": "2022-09-09T20:34:42.581958Z",
     "shell.execute_reply": "2022-09-09T20:34:42.581289Z"
    },
    "id": "ac3927b4",
    "outputId": "32bea69a-0529-4606-e5ae-f0ba83128ab8",
    "papermill": {
     "duration": 0.944222,
     "end_time": "2022-09-09T20:34:42.584176",
     "exception": false,
     "start_time": "2022-09-09T20:34:41.639954",
     "status": "completed"
    },
    "tags": []
   },
   "outputs": [
    {
     "name": "stdout",
     "output_type": "stream",
     "text": [
      "CPU times: user 145 ms, sys: 46.2 ms, total: 191 ms\n",
      "Wall time: 193 ms\n"
     ]
    }
   ],
   "source": [
    "%%time\n",
    "documents = [text.split() for text in df_train.Final]"
   ]
  },
  {
   "cell_type": "code",
   "execution_count": 180,
   "id": "e1cd2073",
   "metadata": {
    "execution": {
     "iopub.execute_input": "2022-09-09T20:34:42.707175Z",
     "iopub.status.busy": "2022-09-09T20:34:42.706386Z",
     "iopub.status.idle": "2022-09-09T20:34:42.712867Z",
     "shell.execute_reply": "2022-09-09T20:34:42.711939Z"
    },
    "id": "e1cd2073",
    "papermill": {
     "duration": 0.036161,
     "end_time": "2022-09-09T20:34:42.714915",
     "exception": false,
     "start_time": "2022-09-09T20:34:42.678754",
     "status": "completed"
    },
    "tags": []
   },
   "outputs": [],
   "source": [
    "w2v_model = gensim.models.word2vec.Word2Vec(vector_size=W2V_SIZE,\n",
    "                                            window=W2V_WINDOW,\n",
    "                                            min_count=W2V_MIN_COUNT,\n",
    "                                            workers=8)"
   ]
  },
  {
   "cell_type": "code",
   "execution_count": 181,
   "id": "d19574e3",
   "metadata": {
    "execution": {
     "iopub.execute_input": "2022-09-09T20:34:42.824467Z",
     "iopub.status.busy": "2022-09-09T20:34:42.824097Z",
     "iopub.status.idle": "2022-09-09T20:34:43.396656Z",
     "shell.execute_reply": "2022-09-09T20:34:43.395689Z"
    },
    "id": "d19574e3",
    "papermill": {
     "duration": 0.60381,
     "end_time": "2022-09-09T20:34:43.399053",
     "exception": false,
     "start_time": "2022-09-09T20:34:42.795243",
     "status": "completed"
    },
    "tags": []
   },
   "outputs": [],
   "source": [
    "w2v_model.build_vocab(documents)"
   ]
  },
  {
   "cell_type": "code",
   "execution_count": 182,
   "id": "2246d9f6",
   "metadata": {
    "colab": {
     "base_uri": "https://localhost:8080/"
    },
    "execution": {
     "iopub.execute_input": "2022-09-09T20:34:43.453419Z",
     "iopub.status.busy": "2022-09-09T20:34:43.452713Z",
     "iopub.status.idle": "2022-09-09T20:34:43.458605Z",
     "shell.execute_reply": "2022-09-09T20:34:43.457327Z"
    },
    "id": "2246d9f6",
    "outputId": "1357e325-6806-4f10-f886-3ddee5de76b8",
    "papermill": {
     "duration": 0.036699,
     "end_time": "2022-09-09T20:34:43.461442",
     "exception": false,
     "start_time": "2022-09-09T20:34:43.424743",
     "status": "completed"
    },
    "tags": []
   },
   "outputs": [
    {
     "name": "stdout",
     "output_type": "stream",
     "text": [
      "Vocab size 8353\n"
     ]
    }
   ],
   "source": [
    "words = w2v_model.wv.key_to_index.keys()\n",
    "vocab_size = len(words)\n",
    "print(\"Vocab size\", vocab_size)\n"
   ]
  },
  {
   "cell_type": "code",
   "execution_count": 183,
   "id": "033eb18a",
   "metadata": {
    "colab": {
     "base_uri": "https://localhost:8080/"
    },
    "execution": {
     "iopub.execute_input": "2022-09-09T20:34:43.569171Z",
     "iopub.status.busy": "2022-09-09T20:34:43.568468Z",
     "iopub.status.idle": "2022-09-09T20:35:28.628621Z",
     "shell.execute_reply": "2022-09-09T20:35:28.627678Z"
    },
    "id": "033eb18a",
    "outputId": "414b33c2-b09c-44c1-e7e4-5ee08caa59de",
    "papermill": {
     "duration": 45.114566,
     "end_time": "2022-09-09T20:35:28.655333",
     "exception": false,
     "start_time": "2022-09-09T20:34:43.540767",
     "status": "completed"
    },
    "tags": []
   },
   "outputs": [
    {
     "name": "stdout",
     "output_type": "stream",
     "text": [
      "CPU times: user 2min 23s, sys: 539 ms, total: 2min 24s\n",
      "Wall time: 1min 26s\n"
     ]
    },
    {
     "data": {
      "text/plain": [
       "(37099518, 45364480)"
      ]
     },
     "execution_count": 183,
     "metadata": {},
     "output_type": "execute_result"
    }
   ],
   "source": [
    "%%time\n",
    "w2v_model.train(documents, total_examples=len(documents), epochs=W2V_EPOCH)"
   ]
  },
  {
   "cell_type": "code",
   "execution_count": 184,
   "id": "8191de24",
   "metadata": {
    "colab": {
     "base_uri": "https://localhost:8080/"
    },
    "execution": {
     "iopub.execute_input": "2022-09-09T20:35:28.761114Z",
     "iopub.status.busy": "2022-09-09T20:35:28.760352Z",
     "iopub.status.idle": "2022-09-09T20:35:28.779189Z",
     "shell.execute_reply": "2022-09-09T20:35:28.778364Z"
    },
    "id": "8191de24",
    "outputId": "e759f456-28a4-47cd-b871-30d6bd0026fc",
    "papermill": {
     "duration": 0.048028,
     "end_time": "2022-09-09T20:35:28.781155",
     "exception": false,
     "start_time": "2022-09-09T20:35:28.733127",
     "status": "completed"
    },
    "tags": []
   },
   "outputs": [
    {
     "data": {
      "text/plain": [
       "[('dad', 0.46934497356414795),\n",
       " ('mother', 0.46515747904777527),\n",
       " ('italy', 0.4437188506126404),\n",
       " ('daughter', 0.42541003227233887),\n",
       " ('sambit', 0.3910185992717743),\n",
       " ('beta', 0.3800462782382965),\n",
       " ('patra', 0.3720467686653137),\n",
       " ('son', 0.37152332067489624),\n",
       " ('parent', 0.365308552980423),\n",
       " ('nephew', 0.36126795411109924)]"
      ]
     },
     "execution_count": 184,
     "metadata": {},
     "output_type": "execute_result"
    }
   ],
   "source": [
    "w2v_model.wv.most_similar(\"mom\")"
   ]
  },
  {
   "cell_type": "code",
   "execution_count": 185,
   "id": "992efcf4",
   "metadata": {
    "colab": {
     "base_uri": "https://localhost:8080/"
    },
    "execution": {
     "iopub.execute_input": "2022-09-09T20:35:29.077458Z",
     "iopub.status.busy": "2022-09-09T20:35:29.077109Z",
     "iopub.status.idle": "2022-09-09T20:35:31.018698Z",
     "shell.execute_reply": "2022-09-09T20:35:31.017730Z"
    },
    "id": "992efcf4",
    "outputId": "9b3350b0-70ef-48d7-f3a2-7fb37cd08e8b",
    "papermill": {
     "duration": 1.971601,
     "end_time": "2022-09-09T20:35:31.021513",
     "exception": false,
     "start_time": "2022-09-09T20:35:29.049912",
     "status": "completed"
    },
    "tags": []
   },
   "outputs": [
    {
     "name": "stdout",
     "output_type": "stream",
     "text": [
      "Total words 70297\n",
      "CPU times: user 1.64 s, sys: 80.6 ms, total: 1.72 s\n",
      "Wall time: 1.65 s\n"
     ]
    }
   ],
   "source": [
    "%%time\n",
    "tokenizer = Tokenizer()\n",
    "tokenizer.fit_on_texts(df_train.Final)\n",
    "\n",
    "vocab_size = len(tokenizer.word_index) + 1\n",
    "print(\"Total words\", vocab_size)"
   ]
  },
  {
   "cell_type": "code",
   "execution_count": 186,
   "id": "1f3e47e8",
   "metadata": {
    "colab": {
     "base_uri": "https://localhost:8080/"
    },
    "execution": {
     "iopub.execute_input": "2022-09-09T20:35:31.081163Z",
     "iopub.status.busy": "2022-09-09T20:35:31.080798Z",
     "iopub.status.idle": "2022-09-09T20:35:33.307267Z",
     "shell.execute_reply": "2022-09-09T20:35:33.304461Z"
    },
    "id": "1f3e47e8",
    "outputId": "dde5e82b-996f-4c2e-d008-c957bcdbeb05",
    "papermill": {
     "duration": 2.258748,
     "end_time": "2022-09-09T20:35:33.310783",
     "exception": false,
     "start_time": "2022-09-09T20:35:31.052035",
     "status": "completed"
    },
    "tags": []
   },
   "outputs": [
    {
     "name": "stdout",
     "output_type": "stream",
     "text": [
      "CPU times: user 1.7 s, sys: 34.1 ms, total: 1.73 s\n",
      "Wall time: 1.74 s\n"
     ]
    }
   ],
   "source": [
    "%%time\n",
    "x_train = pad_sequences(tokenizer.texts_to_sequences(df_train.Final), maxlen=SEQUENCE_LENGTH)\n",
    "x_test = pad_sequences(tokenizer.texts_to_sequences(df_test.Final), maxlen=SEQUENCE_LENGTH)"
   ]
  },
  {
   "cell_type": "code",
   "execution_count": 187,
   "id": "4f0efc22",
   "metadata": {
    "colab": {
     "base_uri": "https://localhost:8080/"
    },
    "execution": {
     "iopub.execute_input": "2022-09-09T20:35:33.423151Z",
     "iopub.status.busy": "2022-09-09T20:35:33.422795Z",
     "iopub.status.idle": "2022-09-09T20:35:33.435296Z",
     "shell.execute_reply": "2022-09-09T20:35:33.434260Z"
    },
    "id": "4f0efc22",
    "outputId": "13d155a0-088f-4ceb-ea2c-73f3b6e4064a",
    "papermill": {
     "duration": 0.043239,
     "end_time": "2022-09-09T20:35:33.437389",
     "exception": false,
     "start_time": "2022-09-09T20:35:33.394150",
     "status": "completed"
    },
    "tags": []
   },
   "outputs": [
    {
     "data": {
      "text/plain": [
       "['POSITIVE', 'NEGATIVE', 'NEUTRAL']"
      ]
     },
     "execution_count": 187,
     "metadata": {},
     "output_type": "execute_result"
    }
   ],
   "source": [
    "labels = df_train.category.unique().tolist()\n",
    "labels.append(NEUTRAL)\n",
    "labels"
   ]
  },
  {
   "cell_type": "code",
   "execution_count": 188,
   "id": "bf9ef672",
   "metadata": {
    "colab": {
     "base_uri": "https://localhost:8080/"
    },
    "execution": {
     "iopub.execute_input": "2022-09-09T20:35:33.494355Z",
     "iopub.status.busy": "2022-09-09T20:35:33.494015Z",
     "iopub.status.idle": "2022-09-09T20:35:33.591431Z",
     "shell.execute_reply": "2022-09-09T20:35:33.589828Z"
    },
    "id": "bf9ef672",
    "outputId": "e1da1189-5626-4f48-f4e4-c9f3632bdaa8",
    "papermill": {
     "duration": 0.129028,
     "end_time": "2022-09-09T20:35:33.594141",
     "exception": false,
     "start_time": "2022-09-09T20:35:33.465113",
     "status": "completed"
    },
    "tags": []
   },
   "outputs": [
    {
     "name": "stdout",
     "output_type": "stream",
     "text": [
      "y_train (86206, 1)\n",
      "y_test (21552, 1)\n"
     ]
    }
   ],
   "source": [
    "encoder = LabelEncoder()\n",
    "encoder.fit(df_train.category.tolist())\n",
    "\n",
    "y_train = encoder.transform(df_train.category.tolist())\n",
    "y_test = encoder.transform(df_test.category.tolist())\n",
    "\n",
    "y_train = y_train.reshape(-1,1)\n",
    "y_test = y_test.reshape(-1,1)\n",
    "\n",
    "print(\"y_train\",y_train.shape)\n",
    "print(\"y_test\",y_test.shape)"
   ]
  },
  {
   "cell_type": "code",
   "execution_count": 189,
   "id": "4698b528",
   "metadata": {
    "colab": {
     "base_uri": "https://localhost:8080/"
    },
    "execution": {
     "iopub.execute_input": "2022-09-09T20:35:33.653110Z",
     "iopub.status.busy": "2022-09-09T20:35:33.652129Z",
     "iopub.status.idle": "2022-09-09T20:35:33.658582Z",
     "shell.execute_reply": "2022-09-09T20:35:33.657211Z"
    },
    "id": "4698b528",
    "outputId": "9bbdcac8-146c-4f28-cfcc-c9461da4f8ef",
    "papermill": {
     "duration": 0.038914,
     "end_time": "2022-09-09T20:35:33.661604",
     "exception": false,
     "start_time": "2022-09-09T20:35:33.622690",
     "status": "completed"
    },
    "tags": []
   },
   "outputs": [
    {
     "name": "stdout",
     "output_type": "stream",
     "text": [
      "x_train (86206, 300)\n",
      "y_train (86206, 1)\n",
      "\n",
      "x_test (21552, 300)\n",
      "y_test (21552, 1)\n"
     ]
    }
   ],
   "source": [
    "print(\"x_train\", x_train.shape)\n",
    "print(\"y_train\", y_train.shape)\n",
    "print()\n",
    "print(\"x_test\", x_test.shape)\n",
    "print(\"y_test\", y_test.shape)"
   ]
  },
  {
   "cell_type": "code",
   "execution_count": 190,
   "id": "e4e88424",
   "metadata": {
    "colab": {
     "base_uri": "https://localhost:8080/"
    },
    "execution": {
     "iopub.execute_input": "2022-09-09T20:35:33.721707Z",
     "iopub.status.busy": "2022-09-09T20:35:33.721340Z",
     "iopub.status.idle": "2022-09-09T20:35:33.727681Z",
     "shell.execute_reply": "2022-09-09T20:35:33.726862Z"
    },
    "id": "e4e88424",
    "outputId": "182b1310-5844-4847-c0a7-d6f01c619b23",
    "papermill": {
     "duration": 0.037117,
     "end_time": "2022-09-09T20:35:33.729347",
     "exception": false,
     "start_time": "2022-09-09T20:35:33.692230",
     "status": "completed"
    },
    "tags": []
   },
   "outputs": [
    {
     "data": {
      "text/plain": [
       "array([[1],\n",
       "       [0],\n",
       "       [0],\n",
       "       [1],\n",
       "       [1],\n",
       "       [1],\n",
       "       [0],\n",
       "       [1],\n",
       "       [0],\n",
       "       [1]])"
      ]
     },
     "execution_count": 190,
     "metadata": {},
     "output_type": "execute_result"
    }
   ],
   "source": [
    "y_train[:10]"
   ]
  },
  {
   "cell_type": "code",
   "execution_count": 191,
   "id": "55f50ba3",
   "metadata": {
    "colab": {
     "base_uri": "https://localhost:8080/"
    },
    "execution": {
     "iopub.execute_input": "2022-09-09T20:35:33.841737Z",
     "iopub.status.busy": "2022-09-09T20:35:33.841398Z",
     "iopub.status.idle": "2022-09-09T20:35:33.941819Z",
     "shell.execute_reply": "2022-09-09T20:35:33.940884Z"
    },
    "id": "55f50ba3",
    "outputId": "b81af299-0f6f-4c5f-95a0-f508b58dd245",
    "papermill": {
     "duration": 0.131174,
     "end_time": "2022-09-09T20:35:33.943474",
     "exception": false,
     "start_time": "2022-09-09T20:35:33.812300",
     "status": "completed"
    },
    "tags": []
   },
   "outputs": [
    {
     "name": "stdout",
     "output_type": "stream",
     "text": [
      "(70297, 300)\n"
     ]
    }
   ],
   "source": [
    "embedding_matrix = np.zeros((vocab_size, W2V_SIZE))\n",
    "for word, i in tokenizer.word_index.items():\n",
    "  if word in w2v_model.wv:\n",
    "    embedding_matrix[i] = w2v_model.wv[word]\n",
    "print(embedding_matrix.shape)"
   ]
  },
  {
   "cell_type": "code",
   "execution_count": 192,
   "id": "913545d3",
   "metadata": {
    "execution": {
     "iopub.execute_input": "2022-09-09T20:35:33.999326Z",
     "iopub.status.busy": "2022-09-09T20:35:33.998461Z",
     "iopub.status.idle": "2022-09-09T20:35:34.028477Z",
     "shell.execute_reply": "2022-09-09T20:35:34.027488Z"
    },
    "id": "913545d3",
    "papermill": {
     "duration": 0.060901,
     "end_time": "2022-09-09T20:35:34.030535",
     "exception": false,
     "start_time": "2022-09-09T20:35:33.969634",
     "status": "completed"
    },
    "tags": []
   },
   "outputs": [],
   "source": [
    "embedding_layer = Embedding(vocab_size, W2V_SIZE, weights=[embedding_matrix], input_length=SEQUENCE_LENGTH, trainable=False)"
   ]
  },
  {
   "cell_type": "code",
   "execution_count": 193,
   "id": "4a71f515",
   "metadata": {
    "colab": {
     "base_uri": "https://localhost:8080/"
    },
    "execution": {
     "iopub.execute_input": "2022-09-09T20:35:34.140219Z",
     "iopub.status.busy": "2022-09-09T20:35:34.139599Z",
     "iopub.status.idle": "2022-09-09T20:35:34.568447Z",
     "shell.execute_reply": "2022-09-09T20:35:34.567542Z"
    },
    "id": "4a71f515",
    "outputId": "f20993c8-a133-4622-e9e5-8b4b39872823",
    "papermill": {
     "duration": 0.458633,
     "end_time": "2022-09-09T20:35:34.570753",
     "exception": false,
     "start_time": "2022-09-09T20:35:34.112120",
     "status": "completed"
    },
    "tags": []
   },
   "outputs": [
    {
     "name": "stderr",
     "output_type": "stream",
     "text": [
      "WARNING:tensorflow:Layer lstm_3 will not use cuDNN kernels since it doesn't meet the criteria. It will use a generic GPU kernel as fallback when running on GPU.\n"
     ]
    },
    {
     "name": "stdout",
     "output_type": "stream",
     "text": [
      "Model: \"sequential_3\"\n",
      "_________________________________________________________________\n",
      " Layer (type)                Output Shape              Param #   \n",
      "=================================================================\n",
      " embedding_3 (Embedding)     (None, 300, 300)          21089100  \n",
      "                                                                 \n",
      " dropout_3 (Dropout)         (None, 300, 300)          0         \n",
      "                                                                 \n",
      " conv1d_3 (Conv1D)           (None, 298, 48)           43248     \n",
      "                                                                 \n",
      " conv1d_4 (Conv1D)           (None, 296, 16)           2320      \n",
      "                                                                 \n",
      " max_pooling1d_3 (MaxPoolin  (None, 148, 16)           0         \n",
      " g1D)                                                            \n",
      "                                                                 \n",
      " lstm_3 (LSTM)               (None, 50)                13400     \n",
      "                                                                 \n",
      " dense_6 (Dense)             (None, 10)                510       \n",
      "                                                                 \n",
      " dense_7 (Dense)             (None, 1)                 11        \n",
      "                                                                 \n",
      "=================================================================\n",
      "Total params: 21148589 (80.68 MB)\n",
      "Trainable params: 59489 (232.38 KB)\n",
      "Non-trainable params: 21089100 (80.45 MB)\n",
      "_________________________________________________________________\n"
     ]
    }
   ],
   "source": [
    "model = Sequential()\n",
    "model.add(embedding_layer)\n",
    "model.add(Dropout(0.4))\n",
    "model.add(Conv1D(filters=48, kernel_size=3, activation='relu'))\n",
    "model.add(Conv1D(filters=16, kernel_size=3, activation='relu'))\n",
    "model.add(MaxPooling1D(pool_size=2))\n",
    "model.add(LSTM(50, dropout=0.2, recurrent_dropout=0.2))\n",
    "model.add(Dense(10, activation='relu'))\n",
    "model.add(Dense(1, activation='sigmoid'))\n",
    "\n",
    "model.summary()"
   ]
  },
  {
   "cell_type": "code",
   "execution_count": 194,
   "id": "ee71683f",
   "metadata": {
    "execution": {
     "iopub.execute_input": "2022-09-09T20:35:34.682383Z",
     "iopub.status.busy": "2022-09-09T20:35:34.681513Z",
     "iopub.status.idle": "2022-09-09T20:35:34.695160Z",
     "shell.execute_reply": "2022-09-09T20:35:34.694100Z"
    },
    "id": "ee71683f",
    "papermill": {
     "duration": 0.044085,
     "end_time": "2022-09-09T20:35:34.697342",
     "exception": false,
     "start_time": "2022-09-09T20:35:34.653257",
     "status": "completed"
    },
    "tags": []
   },
   "outputs": [],
   "source": [
    "model.compile(loss='binary_crossentropy',\n",
    "              optimizer=\"adam\",\n",
    "              metrics=['accuracy'])"
   ]
  },
  {
   "cell_type": "code",
   "execution_count": 195,
   "id": "caae0337",
   "metadata": {
    "execution": {
     "iopub.execute_input": "2022-09-09T20:35:34.806315Z",
     "iopub.status.busy": "2022-09-09T20:35:34.805816Z",
     "iopub.status.idle": "2022-09-09T20:35:34.810092Z",
     "shell.execute_reply": "2022-09-09T20:35:34.809385Z"
    },
    "id": "caae0337",
    "papermill": {
     "duration": 0.033511,
     "end_time": "2022-09-09T20:35:34.811789",
     "exception": false,
     "start_time": "2022-09-09T20:35:34.778278",
     "status": "completed"
    },
    "tags": []
   },
   "outputs": [],
   "source": [
    "callbacks = [ ReduceLROnPlateau(monitor='val_loss', patience=5, cooldown=0),\n",
    "              EarlyStopping(monitor='val_acc', min_delta=1e-4, patience=5)]"
   ]
  },
  {
   "cell_type": "code",
   "execution_count": 196,
   "id": "9fba0a18",
   "metadata": {
    "colab": {
     "base_uri": "https://localhost:8080/"
    },
    "execution": {
     "iopub.execute_input": "2022-09-09T20:35:34.920902Z",
     "iopub.status.busy": "2022-09-09T20:35:34.920412Z",
     "iopub.status.idle": "2022-09-09T22:05:39.707606Z",
     "shell.execute_reply": "2022-09-09T22:05:39.705931Z"
    },
    "id": "9fba0a18",
    "outputId": "c466b777-640a-419c-acdf-a669b7b1e9b6",
    "papermill": {
     "duration": 5404.874936,
     "end_time": "2022-09-09T22:05:39.766172",
     "exception": false,
     "start_time": "2022-09-09T20:35:34.891236",
     "status": "completed"
    },
    "tags": []
   },
   "outputs": [
    {
     "name": "stdout",
     "output_type": "stream",
     "text": [
      "Epoch 1/50\n",
      "76/76 [==============================] - ETA: 0s - loss: 0.6092 - accuracy: 0.6622"
     ]
    },
    {
     "name": "stderr",
     "output_type": "stream",
     "text": [
      "WARNING:tensorflow:Early stopping conditioned on metric `val_acc` which is not available. Available metrics are: loss,accuracy,val_loss,val_accuracy,lr\n"
     ]
    },
    {
     "name": "stdout",
     "output_type": "stream",
     "text": [
      "\b\b\b\b\b\b\b\b\b\b\b\b\b\b\b\b\b\b\b\b\b\b\b\b\b\b\b\b\b\b\b\b\b\b\b\b\b\b\b\b\b\b\b\b\b\b\b\b\b\b\b\b\b\b\b\b\b\b\b\b\b\b\b\b\b\b\b\b\b\b\b\b\b\b\b\b\b\b\b\b\b\b\r",
      "76/76 [==============================] - 58s 703ms/step - loss: 0.6092 - accuracy: 0.6622 - val_loss: 0.5275 - val_accuracy: 0.6757 - lr: 0.0010\n",
      "Epoch 2/50\n",
      "76/76 [==============================] - ETA: 0s - loss: 0.5282 - accuracy: 0.7094"
     ]
    },
    {
     "name": "stderr",
     "output_type": "stream",
     "text": [
      "WARNING:tensorflow:Early stopping conditioned on metric `val_acc` which is not available. Available metrics are: loss,accuracy,val_loss,val_accuracy,lr\n"
     ]
    },
    {
     "name": "stdout",
     "output_type": "stream",
     "text": [
      "\b\b\b\b\b\b\b\b\b\b\b\b\b\b\b\b\b\b\b\b\b\b\b\b\b\b\b\b\b\b\b\b\b\b\b\b\b\b\b\b\b\b\b\b\b\b\b\b\b\b\b\b\b\b\b\b\b\b\b\b\b\b\b\b\b\b\b\b\b\b\b\b\b\b\b\b\b\b\b\b\b\b\r",
      "76/76 [==============================] - 52s 688ms/step - loss: 0.5282 - accuracy: 0.7094 - val_loss: 0.4616 - val_accuracy: 0.7863 - lr: 0.0010\n",
      "Epoch 3/50\n",
      "76/76 [==============================] - ETA: 0s - loss: 0.4861 - accuracy: 0.7660"
     ]
    },
    {
     "name": "stderr",
     "output_type": "stream",
     "text": [
      "WARNING:tensorflow:Early stopping conditioned on metric `val_acc` which is not available. Available metrics are: loss,accuracy,val_loss,val_accuracy,lr\n"
     ]
    },
    {
     "name": "stdout",
     "output_type": "stream",
     "text": [
      "\b\b\b\b\b\b\b\b\b\b\b\b\b\b\b\b\b\b\b\b\b\b\b\b\b\b\b\b\b\b\b\b\b\b\b\b\b\b\b\b\b\b\b\b\b\b\b\b\b\b\b\b\b\b\b\b\b\b\b\b\b\b\b\b\b\b\b\b\b\b\b\b\b\b\b\b\b\b\b\b\b\b\r",
      "76/76 [==============================] - 52s 691ms/step - loss: 0.4861 - accuracy: 0.7660 - val_loss: 0.4295 - val_accuracy: 0.8155 - lr: 0.0010\n",
      "Epoch 4/50\n",
      "76/76 [==============================] - ETA: 0s - loss: 0.4487 - accuracy: 0.7897"
     ]
    },
    {
     "name": "stderr",
     "output_type": "stream",
     "text": [
      "WARNING:tensorflow:Early stopping conditioned on metric `val_acc` which is not available. Available metrics are: loss,accuracy,val_loss,val_accuracy,lr\n"
     ]
    },
    {
     "name": "stdout",
     "output_type": "stream",
     "text": [
      "\b\b\b\b\b\b\b\b\b\b\b\b\b\b\b\b\b\b\b\b\b\b\b\b\b\b\b\b\b\b\b\b\b\b\b\b\b\b\b\b\b\b\b\b\b\b\b\b\b\b\b\b\b\b\b\b\b\b\b\b\b\b\b\b\b\b\b\b\b\b\b\b\b\b\b\b\b\b\b\b\b\b\r",
      "76/76 [==============================] - 51s 678ms/step - loss: 0.4487 - accuracy: 0.7897 - val_loss: 0.3654 - val_accuracy: 0.8344 - lr: 0.0010\n",
      "Epoch 5/50\n",
      "76/76 [==============================] - ETA: 0s - loss: 0.4071 - accuracy: 0.8074"
     ]
    },
    {
     "name": "stderr",
     "output_type": "stream",
     "text": [
      "WARNING:tensorflow:Early stopping conditioned on metric `val_acc` which is not available. Available metrics are: loss,accuracy,val_loss,val_accuracy,lr\n"
     ]
    },
    {
     "name": "stdout",
     "output_type": "stream",
     "text": [
      "\b\b\b\b\b\b\b\b\b\b\b\b\b\b\b\b\b\b\b\b\b\b\b\b\b\b\b\b\b\b\b\b\b\b\b\b\b\b\b\b\b\b\b\b\b\b\b\b\b\b\b\b\b\b\b\b\b\b\b\b\b\b\b\b\b\b\b\b\b\b\b\b\b\b\b\b\b\b\b\b\b\b\r",
      "76/76 [==============================] - 52s 673ms/step - loss: 0.4071 - accuracy: 0.8074 - val_loss: 0.3454 - val_accuracy: 0.8404 - lr: 0.0010\n",
      "Epoch 6/50\n",
      "76/76 [==============================] - ETA: 0s - loss: 0.3873 - accuracy: 0.8162"
     ]
    },
    {
     "name": "stderr",
     "output_type": "stream",
     "text": [
      "WARNING:tensorflow:Early stopping conditioned on metric `val_acc` which is not available. Available metrics are: loss,accuracy,val_loss,val_accuracy,lr\n"
     ]
    },
    {
     "name": "stdout",
     "output_type": "stream",
     "text": [
      "\b\b\b\b\b\b\b\b\b\b\b\b\b\b\b\b\b\b\b\b\b\b\b\b\b\b\b\b\b\b\b\b\b\b\b\b\b\b\b\b\b\b\b\b\b\b\b\b\b\b\b\b\b\b\b\b\b\b\b\b\b\b\b\b\b\b\b\b\b\b\b\b\b\b\b\b\b\b\b\b\b\b\r",
      "76/76 [==============================] - 52s 682ms/step - loss: 0.3873 - accuracy: 0.8162 - val_loss: 0.3305 - val_accuracy: 0.8493 - lr: 0.0010\n",
      "Epoch 7/50\n",
      "76/76 [==============================] - ETA: 0s - loss: 0.3721 - accuracy: 0.8278"
     ]
    },
    {
     "name": "stderr",
     "output_type": "stream",
     "text": [
      "WARNING:tensorflow:Early stopping conditioned on metric `val_acc` which is not available. Available metrics are: loss,accuracy,val_loss,val_accuracy,lr\n"
     ]
    },
    {
     "name": "stdout",
     "output_type": "stream",
     "text": [
      "\b\b\b\b\b\b\b\b\b\b\b\b\b\b\b\b\b\b\b\b\b\b\b\b\b\b\b\b\b\b\b\b\b\b\b\b\b\b\b\b\b\b\b\b\b\b\b\b\b\b\b\b\b\b\b\b\b\b\b\b\b\b\b\b\b\b\b\b\b\b\b\b\b\b\b\b\b\b\b\b\b\b\r",
      "76/76 [==============================] - 52s 683ms/step - loss: 0.3721 - accuracy: 0.8278 - val_loss: 0.3210 - val_accuracy: 0.8537 - lr: 0.0010\n",
      "Epoch 8/50\n",
      "76/76 [==============================] - ETA: 0s - loss: 0.3605 - accuracy: 0.8344"
     ]
    },
    {
     "name": "stderr",
     "output_type": "stream",
     "text": [
      "WARNING:tensorflow:Early stopping conditioned on metric `val_acc` which is not available. Available metrics are: loss,accuracy,val_loss,val_accuracy,lr\n"
     ]
    },
    {
     "name": "stdout",
     "output_type": "stream",
     "text": [
      "\b\b\b\b\b\b\b\b\b\b\b\b\b\b\b\b\b\b\b\b\b\b\b\b\b\b\b\b\b\b\b\b\b\b\b\b\b\b\b\b\b\b\b\b\b\b\b\b\b\b\b\b\b\b\b\b\b\b\b\b\b\b\b\b\b\b\b\b\b\b\b\b\b\b\b\b\b\b\b\b\b\b\r",
      "76/76 [==============================] - 51s 676ms/step - loss: 0.3605 - accuracy: 0.8344 - val_loss: 0.3133 - val_accuracy: 0.8588 - lr: 0.0010\n",
      "Epoch 9/50\n",
      "76/76 [==============================] - ETA: 0s - loss: 0.3532 - accuracy: 0.8388"
     ]
    },
    {
     "name": "stderr",
     "output_type": "stream",
     "text": [
      "WARNING:tensorflow:Early stopping conditioned on metric `val_acc` which is not available. Available metrics are: loss,accuracy,val_loss,val_accuracy,lr\n"
     ]
    },
    {
     "name": "stdout",
     "output_type": "stream",
     "text": [
      "\b\b\b\b\b\b\b\b\b\b\b\b\b\b\b\b\b\b\b\b\b\b\b\b\b\b\b\b\b\b\b\b\b\b\b\b\b\b\b\b\b\b\b\b\b\b\b\b\b\b\b\b\b\b\b\b\b\b\b\b\b\b\b\b\b\b\b\b\b\b\b\b\b\b\b\b\b\b\b\b\b\b\r",
      "76/76 [==============================] - 51s 666ms/step - loss: 0.3532 - accuracy: 0.8388 - val_loss: 0.3085 - val_accuracy: 0.8602 - lr: 0.0010\n",
      "Epoch 10/50\n",
      "76/76 [==============================] - ETA: 0s - loss: 0.3463 - accuracy: 0.8419"
     ]
    },
    {
     "name": "stderr",
     "output_type": "stream",
     "text": [
      "WARNING:tensorflow:Early stopping conditioned on metric `val_acc` which is not available. Available metrics are: loss,accuracy,val_loss,val_accuracy,lr\n"
     ]
    },
    {
     "name": "stdout",
     "output_type": "stream",
     "text": [
      "\b\b\b\b\b\b\b\b\b\b\b\b\b\b\b\b\b\b\b\b\b\b\b\b\b\b\b\b\b\b\b\b\b\b\b\b\b\b\b\b\b\b\b\b\b\b\b\b\b\b\b\b\b\b\b\b\b\b\b\b\b\b\b\b\b\b\b\b\b\b\b\b\b\b\b\b\b\b\b\b\b\b\r",
      "76/76 [==============================] - 52s 686ms/step - loss: 0.3463 - accuracy: 0.8419 - val_loss: 0.3099 - val_accuracy: 0.8595 - lr: 0.0010\n",
      "Epoch 11/50\n",
      "76/76 [==============================] - ETA: 0s - loss: 0.3399 - accuracy: 0.8445"
     ]
    },
    {
     "name": "stderr",
     "output_type": "stream",
     "text": [
      "WARNING:tensorflow:Early stopping conditioned on metric `val_acc` which is not available. Available metrics are: loss,accuracy,val_loss,val_accuracy,lr\n"
     ]
    },
    {
     "name": "stdout",
     "output_type": "stream",
     "text": [
      "\b\b\b\b\b\b\b\b\b\b\b\b\b\b\b\b\b\b\b\b\b\b\b\b\b\b\b\b\b\b\b\b\b\b\b\b\b\b\b\b\b\b\b\b\b\b\b\b\b\b\b\b\b\b\b\b\b\b\b\b\b\b\b\b\b\b\b\b\b\b\b\b\b\b\b\b\b\b\b\b\b\b\r",
      "76/76 [==============================] - 51s 676ms/step - loss: 0.3399 - accuracy: 0.8445 - val_loss: 0.3011 - val_accuracy: 0.8660 - lr: 0.0010\n",
      "Epoch 12/50\n",
      "76/76 [==============================] - ETA: 0s - loss: 0.3336 - accuracy: 0.8490"
     ]
    },
    {
     "name": "stderr",
     "output_type": "stream",
     "text": [
      "WARNING:tensorflow:Early stopping conditioned on metric `val_acc` which is not available. Available metrics are: loss,accuracy,val_loss,val_accuracy,lr\n"
     ]
    },
    {
     "name": "stdout",
     "output_type": "stream",
     "text": [
      "\b\b\b\b\b\b\b\b\b\b\b\b\b\b\b\b\b\b\b\b\b\b\b\b\b\b\b\b\b\b\b\b\b\b\b\b\b\b\b\b\b\b\b\b\b\b\b\b\b\b\b\b\b\b\b\b\b\b\b\b\b\b\b\b\b\b\b\b\b\b\b\b\b\b\b\b\b\b\b\b\b\b\r",
      "76/76 [==============================] - 51s 668ms/step - loss: 0.3336 - accuracy: 0.8490 - val_loss: 0.2960 - val_accuracy: 0.8671 - lr: 0.0010\n",
      "Epoch 13/50\n",
      "76/76 [==============================] - ETA: 0s - loss: 0.3270 - accuracy: 0.8522"
     ]
    },
    {
     "name": "stderr",
     "output_type": "stream",
     "text": [
      "WARNING:tensorflow:Early stopping conditioned on metric `val_acc` which is not available. Available metrics are: loss,accuracy,val_loss,val_accuracy,lr\n"
     ]
    },
    {
     "name": "stdout",
     "output_type": "stream",
     "text": [
      "\b\b\b\b\b\b\b\b\b\b\b\b\b\b\b\b\b\b\b\b\b\b\b\b\b\b\b\b\b\b\b\b\b\b\b\b\b\b\b\b\b\b\b\b\b\b\b\b\b\b\b\b\b\b\b\b\b\b\b\b\b\b\b\b\b\b\b\b\b\b\b\b\b\b\b\b\b\b\b\b\b\b\r",
      "76/76 [==============================] - 52s 669ms/step - loss: 0.3270 - accuracy: 0.8522 - val_loss: 0.2957 - val_accuracy: 0.8663 - lr: 0.0010\n",
      "Epoch 14/50\n",
      "76/76 [==============================] - ETA: 0s - loss: 0.3234 - accuracy: 0.8553"
     ]
    },
    {
     "name": "stderr",
     "output_type": "stream",
     "text": [
      "WARNING:tensorflow:Early stopping conditioned on metric `val_acc` which is not available. Available metrics are: loss,accuracy,val_loss,val_accuracy,lr\n"
     ]
    },
    {
     "name": "stdout",
     "output_type": "stream",
     "text": [
      "\b\b\b\b\b\b\b\b\b\b\b\b\b\b\b\b\b\b\b\b\b\b\b\b\b\b\b\b\b\b\b\b\b\b\b\b\b\b\b\b\b\b\b\b\b\b\b\b\b\b\b\b\b\b\b\b\b\b\b\b\b\b\b\b\b\b\b\b\b\b\b\b\b\b\b\b\b\b\b\b\b\b\r",
      "76/76 [==============================] - 51s 678ms/step - loss: 0.3234 - accuracy: 0.8553 - val_loss: 0.2919 - val_accuracy: 0.8689 - lr: 0.0010\n",
      "Epoch 15/50\n",
      "76/76 [==============================] - ETA: 0s - loss: 0.3174 - accuracy: 0.8585"
     ]
    },
    {
     "name": "stderr",
     "output_type": "stream",
     "text": [
      "WARNING:tensorflow:Early stopping conditioned on metric `val_acc` which is not available. Available metrics are: loss,accuracy,val_loss,val_accuracy,lr\n"
     ]
    },
    {
     "name": "stdout",
     "output_type": "stream",
     "text": [
      "\b\b\b\b\b\b\b\b\b\b\b\b\b\b\b\b\b\b\b\b\b\b\b\b\b\b\b\b\b\b\b\b\b\b\b\b\b\b\b\b\b\b\b\b\b\b\b\b\b\b\b\b\b\b\b\b\b\b\b\b\b\b\b\b\b\b\b\b\b\b\b\b\b\b\b\b\b\b\b\b\b\b\r",
      "76/76 [==============================] - 52s 691ms/step - loss: 0.3174 - accuracy: 0.8585 - val_loss: 0.2906 - val_accuracy: 0.8699 - lr: 0.0010\n",
      "Epoch 16/50\n",
      "76/76 [==============================] - ETA: 0s - loss: 0.3135 - accuracy: 0.8595"
     ]
    },
    {
     "name": "stderr",
     "output_type": "stream",
     "text": [
      "WARNING:tensorflow:Early stopping conditioned on metric `val_acc` which is not available. Available metrics are: loss,accuracy,val_loss,val_accuracy,lr\n"
     ]
    },
    {
     "name": "stdout",
     "output_type": "stream",
     "text": [
      "\b\b\b\b\b\b\b\b\b\b\b\b\b\b\b\b\b\b\b\b\b\b\b\b\b\b\b\b\b\b\b\b\b\b\b\b\b\b\b\b\b\b\b\b\b\b\b\b\b\b\b\b\b\b\b\b\b\b\b\b\b\b\b\b\b\b\b\b\b\b\b\b\b\b\b\b\b\b\b\b\b\b\r",
      "76/76 [==============================] - 50s 655ms/step - loss: 0.3135 - accuracy: 0.8595 - val_loss: 0.2877 - val_accuracy: 0.8709 - lr: 0.0010\n",
      "Epoch 17/50\n",
      "76/76 [==============================] - ETA: 0s - loss: 0.3105 - accuracy: 0.8611"
     ]
    },
    {
     "name": "stderr",
     "output_type": "stream",
     "text": [
      "WARNING:tensorflow:Early stopping conditioned on metric `val_acc` which is not available. Available metrics are: loss,accuracy,val_loss,val_accuracy,lr\n"
     ]
    },
    {
     "name": "stdout",
     "output_type": "stream",
     "text": [
      "\b\b\b\b\b\b\b\b\b\b\b\b\b\b\b\b\b\b\b\b\b\b\b\b\b\b\b\b\b\b\b\b\b\b\b\b\b\b\b\b\b\b\b\b\b\b\b\b\b\b\b\b\b\b\b\b\b\b\b\b\b\b\b\b\b\b\b\b\b\b\b\b\b\b\b\b\b\b\b\b\b\b\r",
      "76/76 [==============================] - 52s 688ms/step - loss: 0.3105 - accuracy: 0.8611 - val_loss: 0.2845 - val_accuracy: 0.8766 - lr: 0.0010\n",
      "Epoch 18/50\n",
      "76/76 [==============================] - ETA: 0s - loss: 0.3073 - accuracy: 0.8631"
     ]
    },
    {
     "name": "stderr",
     "output_type": "stream",
     "text": [
      "WARNING:tensorflow:Early stopping conditioned on metric `val_acc` which is not available. Available metrics are: loss,accuracy,val_loss,val_accuracy,lr\n"
     ]
    },
    {
     "name": "stdout",
     "output_type": "stream",
     "text": [
      "\b\b\b\b\b\b\b\b\b\b\b\b\b\b\b\b\b\b\b\b\b\b\b\b\b\b\b\b\b\b\b\b\b\b\b\b\b\b\b\b\b\b\b\b\b\b\b\b\b\b\b\b\b\b\b\b\b\b\b\b\b\b\b\b\b\b\b\b\b\b\b\b\b\b\b\b\b\b\b\b\b\b\r",
      "76/76 [==============================] - 52s 680ms/step - loss: 0.3073 - accuracy: 0.8631 - val_loss: 0.2821 - val_accuracy: 0.8774 - lr: 0.0010\n",
      "Epoch 19/50\n",
      "76/76 [==============================] - ETA: 0s - loss: 0.3048 - accuracy: 0.8652"
     ]
    },
    {
     "name": "stderr",
     "output_type": "stream",
     "text": [
      "WARNING:tensorflow:Early stopping conditioned on metric `val_acc` which is not available. Available metrics are: loss,accuracy,val_loss,val_accuracy,lr\n"
     ]
    },
    {
     "name": "stdout",
     "output_type": "stream",
     "text": [
      "\b\b\b\b\b\b\b\b\b\b\b\b\b\b\b\b\b\b\b\b\b\b\b\b\b\b\b\b\b\b\b\b\b\b\b\b\b\b\b\b\b\b\b\b\b\b\b\b\b\b\b\b\b\b\b\b\b\b\b\b\b\b\b\b\b\b\b\b\b\b\b\b\b\b\b\b\b\b\b\b\b\b\r",
      "76/76 [==============================] - 51s 679ms/step - loss: 0.3048 - accuracy: 0.8652 - val_loss: 0.2813 - val_accuracy: 0.8799 - lr: 0.0010\n",
      "Epoch 20/50\n",
      "76/76 [==============================] - ETA: 0s - loss: 0.3008 - accuracy: 0.8662"
     ]
    },
    {
     "name": "stderr",
     "output_type": "stream",
     "text": [
      "WARNING:tensorflow:Early stopping conditioned on metric `val_acc` which is not available. Available metrics are: loss,accuracy,val_loss,val_accuracy,lr\n"
     ]
    },
    {
     "name": "stdout",
     "output_type": "stream",
     "text": [
      "\b\b\b\b\b\b\b\b\b\b\b\b\b\b\b\b\b\b\b\b\b\b\b\b\b\b\b\b\b\b\b\b\b\b\b\b\b\b\b\b\b\b\b\b\b\b\b\b\b\b\b\b\b\b\b\b\b\b\b\b\b\b\b\b\b\b\b\b\b\b\b\b\b\b\b\b\b\b\b\b\b\b\r",
      "76/76 [==============================] - 49s 650ms/step - loss: 0.3008 - accuracy: 0.8662 - val_loss: 0.2815 - val_accuracy: 0.8781 - lr: 0.0010\n",
      "Epoch 21/50\n",
      "76/76 [==============================] - ETA: 0s - loss: 0.2986 - accuracy: 0.8676"
     ]
    },
    {
     "name": "stderr",
     "output_type": "stream",
     "text": [
      "WARNING:tensorflow:Early stopping conditioned on metric `val_acc` which is not available. Available metrics are: loss,accuracy,val_loss,val_accuracy,lr\n"
     ]
    },
    {
     "name": "stdout",
     "output_type": "stream",
     "text": [
      "\b\b\b\b\b\b\b\b\b\b\b\b\b\b\b\b\b\b\b\b\b\b\b\b\b\b\b\b\b\b\b\b\b\b\b\b\b\b\b\b\b\b\b\b\b\b\b\b\b\b\b\b\b\b\b\b\b\b\b\b\b\b\b\b\b\b\b\b\b\b\b\b\b\b\b\b\b\b\b\b\b\b\r",
      "76/76 [==============================] - 51s 674ms/step - loss: 0.2986 - accuracy: 0.8676 - val_loss: 0.2782 - val_accuracy: 0.8799 - lr: 0.0010\n",
      "Epoch 22/50\n",
      "76/76 [==============================] - ETA: 0s - loss: 0.2944 - accuracy: 0.8694"
     ]
    },
    {
     "name": "stderr",
     "output_type": "stream",
     "text": [
      "WARNING:tensorflow:Early stopping conditioned on metric `val_acc` which is not available. Available metrics are: loss,accuracy,val_loss,val_accuracy,lr\n"
     ]
    },
    {
     "name": "stdout",
     "output_type": "stream",
     "text": [
      "\b\b\b\b\b\b\b\b\b\b\b\b\b\b\b\b\b\b\b\b\b\b\b\b\b\b\b\b\b\b\b\b\b\b\b\b\b\b\b\b\b\b\b\b\b\b\b\b\b\b\b\b\b\b\b\b\b\b\b\b\b\b\b\b\b\b\b\b\b\b\b\b\b\b\b\b\b\b\b\b\b\b\r",
      "76/76 [==============================] - 52s 680ms/step - loss: 0.2944 - accuracy: 0.8694 - val_loss: 0.2755 - val_accuracy: 0.8815 - lr: 0.0010\n",
      "Epoch 23/50\n",
      "76/76 [==============================] - ETA: 0s - loss: 0.2926 - accuracy: 0.8706"
     ]
    },
    {
     "name": "stderr",
     "output_type": "stream",
     "text": [
      "WARNING:tensorflow:Early stopping conditioned on metric `val_acc` which is not available. Available metrics are: loss,accuracy,val_loss,val_accuracy,lr\n"
     ]
    },
    {
     "name": "stdout",
     "output_type": "stream",
     "text": [
      "\b\b\b\b\b\b\b\b\b\b\b\b\b\b\b\b\b\b\b\b\b\b\b\b\b\b\b\b\b\b\b\b\b\b\b\b\b\b\b\b\b\b\b\b\b\b\b\b\b\b\b\b\b\b\b\b\b\b\b\b\b\b\b\b\b\b\b\b\b\b\b\b\b\b\b\b\b\b\b\b\b\b\r",
      "76/76 [==============================] - 51s 670ms/step - loss: 0.2926 - accuracy: 0.8706 - val_loss: 0.2783 - val_accuracy: 0.8818 - lr: 0.0010\n",
      "Epoch 24/50\n",
      "76/76 [==============================] - ETA: 0s - loss: 0.2933 - accuracy: 0.8706"
     ]
    },
    {
     "name": "stderr",
     "output_type": "stream",
     "text": [
      "WARNING:tensorflow:Early stopping conditioned on metric `val_acc` which is not available. Available metrics are: loss,accuracy,val_loss,val_accuracy,lr\n"
     ]
    },
    {
     "name": "stdout",
     "output_type": "stream",
     "text": [
      "\b\b\b\b\b\b\b\b\b\b\b\b\b\b\b\b\b\b\b\b\b\b\b\b\b\b\b\b\b\b\b\b\b\b\b\b\b\b\b\b\b\b\b\b\b\b\b\b\b\b\b\b\b\b\b\b\b\b\b\b\b\b\b\b\b\b\b\b\b\b\b\b\b\b\b\b\b\b\b\b\b\b\r",
      "76/76 [==============================] - 52s 670ms/step - loss: 0.2933 - accuracy: 0.8706 - val_loss: 0.2755 - val_accuracy: 0.8832 - lr: 0.0010\n",
      "Epoch 25/50\n",
      "76/76 [==============================] - ETA: 0s - loss: 0.2908 - accuracy: 0.8722"
     ]
    },
    {
     "name": "stderr",
     "output_type": "stream",
     "text": [
      "WARNING:tensorflow:Early stopping conditioned on metric `val_acc` which is not available. Available metrics are: loss,accuracy,val_loss,val_accuracy,lr\n"
     ]
    },
    {
     "name": "stdout",
     "output_type": "stream",
     "text": [
      "\b\b\b\b\b\b\b\b\b\b\b\b\b\b\b\b\b\b\b\b\b\b\b\b\b\b\b\b\b\b\b\b\b\b\b\b\b\b\b\b\b\b\b\b\b\b\b\b\b\b\b\b\b\b\b\b\b\b\b\b\b\b\b\b\b\b\b\b\b\b\b\b\b\b\b\b\b\b\b\b\b\b\r",
      "76/76 [==============================] - 52s 683ms/step - loss: 0.2908 - accuracy: 0.8722 - val_loss: 0.2761 - val_accuracy: 0.8838 - lr: 0.0010\n",
      "Epoch 26/50\n",
      "76/76 [==============================] - ETA: 0s - loss: 0.2845 - accuracy: 0.8741"
     ]
    },
    {
     "name": "stderr",
     "output_type": "stream",
     "text": [
      "WARNING:tensorflow:Early stopping conditioned on metric `val_acc` which is not available. Available metrics are: loss,accuracy,val_loss,val_accuracy,lr\n"
     ]
    },
    {
     "name": "stdout",
     "output_type": "stream",
     "text": [
      "\b\b\b\b\b\b\b\b\b\b\b\b\b\b\b\b\b\b\b\b\b\b\b\b\b\b\b\b\b\b\b\b\b\b\b\b\b\b\b\b\b\b\b\b\b\b\b\b\b\b\b\b\b\b\b\b\b\b\b\b\b\b\b\b\b\b\b\b\b\b\b\b\b\b\b\b\b\b\b\b\b\b\r",
      "76/76 [==============================] - 52s 688ms/step - loss: 0.2845 - accuracy: 0.8741 - val_loss: 0.2766 - val_accuracy: 0.8852 - lr: 0.0010\n",
      "Epoch 27/50\n",
      "76/76 [==============================] - ETA: 0s - loss: 0.2855 - accuracy: 0.8742"
     ]
    },
    {
     "name": "stderr",
     "output_type": "stream",
     "text": [
      "WARNING:tensorflow:Early stopping conditioned on metric `val_acc` which is not available. Available metrics are: loss,accuracy,val_loss,val_accuracy,lr\n"
     ]
    },
    {
     "name": "stdout",
     "output_type": "stream",
     "text": [
      "\b\b\b\b\b\b\b\b\b\b\b\b\b\b\b\b\b\b\b\b\b\b\b\b\b\b\b\b\b\b\b\b\b\b\b\b\b\b\b\b\b\b\b\b\b\b\b\b\b\b\b\b\b\b\b\b\b\b\b\b\b\b\b\b\b\b\b\b\b\b\b\b\b\b\b\b\b\b\b\b\b\b\r",
      "76/76 [==============================] - 50s 657ms/step - loss: 0.2855 - accuracy: 0.8742 - val_loss: 0.2756 - val_accuracy: 0.8834 - lr: 0.0010\n",
      "Epoch 28/50\n",
      "76/76 [==============================] - ETA: 0s - loss: 0.2776 - accuracy: 0.8785"
     ]
    },
    {
     "name": "stderr",
     "output_type": "stream",
     "text": [
      "WARNING:tensorflow:Early stopping conditioned on metric `val_acc` which is not available. Available metrics are: loss,accuracy,val_loss,val_accuracy,lr\n"
     ]
    },
    {
     "name": "stdout",
     "output_type": "stream",
     "text": [
      "\b\b\b\b\b\b\b\b\b\b\b\b\b\b\b\b\b\b\b\b\b\b\b\b\b\b\b\b\b\b\b\b\b\b\b\b\b\b\b\b\b\b\b\b\b\b\b\b\b\b\b\b\b\b\b\b\b\b\b\b\b\b\b\b\b\b\b\b\b\b\b\b\b\b\b\b\b\b\b\b\b\b\r",
      "76/76 [==============================] - 52s 683ms/step - loss: 0.2776 - accuracy: 0.8785 - val_loss: 0.2733 - val_accuracy: 0.8864 - lr: 1.0000e-04\n",
      "Epoch 29/50\n",
      "76/76 [==============================] - ETA: 0s - loss: 0.2765 - accuracy: 0.8797"
     ]
    },
    {
     "name": "stderr",
     "output_type": "stream",
     "text": [
      "WARNING:tensorflow:Early stopping conditioned on metric `val_acc` which is not available. Available metrics are: loss,accuracy,val_loss,val_accuracy,lr\n"
     ]
    },
    {
     "name": "stdout",
     "output_type": "stream",
     "text": [
      "\b\b\b\b\b\b\b\b\b\b\b\b\b\b\b\b\b\b\b\b\b\b\b\b\b\b\b\b\b\b\b\b\b\b\b\b\b\b\b\b\b\b\b\b\b\b\b\b\b\b\b\b\b\b\b\b\b\b\b\b\b\b\b\b\b\b\b\b\b\b\b\b\b\b\b\b\b\b\b\b\b\b\r",
      "76/76 [==============================] - 53s 701ms/step - loss: 0.2765 - accuracy: 0.8797 - val_loss: 0.2734 - val_accuracy: 0.8873 - lr: 1.0000e-04\n",
      "Epoch 30/50\n",
      "76/76 [==============================] - ETA: 0s - loss: 0.2777 - accuracy: 0.8777"
     ]
    },
    {
     "name": "stderr",
     "output_type": "stream",
     "text": [
      "WARNING:tensorflow:Early stopping conditioned on metric `val_acc` which is not available. Available metrics are: loss,accuracy,val_loss,val_accuracy,lr\n"
     ]
    },
    {
     "name": "stdout",
     "output_type": "stream",
     "text": [
      "\b\b\b\b\b\b\b\b\b\b\b\b\b\b\b\b\b\b\b\b\b\b\b\b\b\b\b\b\b\b\b\b\b\b\b\b\b\b\b\b\b\b\b\b\b\b\b\b\b\b\b\b\b\b\b\b\b\b\b\b\b\b\b\b\b\b\b\b\b\b\b\b\b\b\b\b\b\b\b\b\b\b\r",
      "76/76 [==============================] - 52s 688ms/step - loss: 0.2777 - accuracy: 0.8777 - val_loss: 0.2730 - val_accuracy: 0.8875 - lr: 1.0000e-04\n",
      "Epoch 31/50\n",
      "76/76 [==============================] - ETA: 0s - loss: 0.2754 - accuracy: 0.8802"
     ]
    },
    {
     "name": "stderr",
     "output_type": "stream",
     "text": [
      "WARNING:tensorflow:Early stopping conditioned on metric `val_acc` which is not available. Available metrics are: loss,accuracy,val_loss,val_accuracy,lr\n"
     ]
    },
    {
     "name": "stdout",
     "output_type": "stream",
     "text": [
      "\b\b\b\b\b\b\b\b\b\b\b\b\b\b\b\b\b\b\b\b\b\b\b\b\b\b\b\b\b\b\b\b\b\b\b\b\b\b\b\b\b\b\b\b\b\b\b\b\b\b\b\b\b\b\b\b\b\b\b\b\b\b\b\b\b\b\b\b\b\b\b\b\b\b\b\b\b\b\b\b\b\b\r",
      "76/76 [==============================] - 52s 693ms/step - loss: 0.2754 - accuracy: 0.8802 - val_loss: 0.2733 - val_accuracy: 0.8868 - lr: 1.0000e-04\n",
      "Epoch 32/50\n",
      "76/76 [==============================] - ETA: 0s - loss: 0.2724 - accuracy: 0.8812"
     ]
    },
    {
     "name": "stderr",
     "output_type": "stream",
     "text": [
      "WARNING:tensorflow:Early stopping conditioned on metric `val_acc` which is not available. Available metrics are: loss,accuracy,val_loss,val_accuracy,lr\n"
     ]
    },
    {
     "name": "stdout",
     "output_type": "stream",
     "text": [
      "\b\b\b\b\b\b\b\b\b\b\b\b\b\b\b\b\b\b\b\b\b\b\b\b\b\b\b\b\b\b\b\b\b\b\b\b\b\b\b\b\b\b\b\b\b\b\b\b\b\b\b\b\b\b\b\b\b\b\b\b\b\b\b\b\b\b\b\b\b\b\b\b\b\b\b\b\b\b\b\b\b\b\r",
      "76/76 [==============================] - 51s 668ms/step - loss: 0.2724 - accuracy: 0.8812 - val_loss: 0.2721 - val_accuracy: 0.8886 - lr: 1.0000e-04\n",
      "Epoch 33/50\n",
      "76/76 [==============================] - ETA: 0s - loss: 0.2755 - accuracy: 0.8795"
     ]
    },
    {
     "name": "stderr",
     "output_type": "stream",
     "text": [
      "WARNING:tensorflow:Early stopping conditioned on metric `val_acc` which is not available. Available metrics are: loss,accuracy,val_loss,val_accuracy,lr\n"
     ]
    },
    {
     "name": "stdout",
     "output_type": "stream",
     "text": [
      "\b\b\b\b\b\b\b\b\b\b\b\b\b\b\b\b\b\b\b\b\b\b\b\b\b\b\b\b\b\b\b\b\b\b\b\b\b\b\b\b\b\b\b\b\b\b\b\b\b\b\b\b\b\b\b\b\b\b\b\b\b\b\b\b\b\b\b\b\b\b\b\b\b\b\b\b\b\b\b\b\b\b\r",
      "76/76 [==============================] - 53s 693ms/step - loss: 0.2755 - accuracy: 0.8795 - val_loss: 0.2714 - val_accuracy: 0.8877 - lr: 1.0000e-04\n",
      "Epoch 34/50\n",
      "76/76 [==============================] - ETA: 0s - loss: 0.2743 - accuracy: 0.8791"
     ]
    },
    {
     "name": "stderr",
     "output_type": "stream",
     "text": [
      "WARNING:tensorflow:Early stopping conditioned on metric `val_acc` which is not available. Available metrics are: loss,accuracy,val_loss,val_accuracy,lr\n"
     ]
    },
    {
     "name": "stdout",
     "output_type": "stream",
     "text": [
      "\b\b\b\b\b\b\b\b\b\b\b\b\b\b\b\b\b\b\b\b\b\b\b\b\b\b\b\b\b\b\b\b\b\b\b\b\b\b\b\b\b\b\b\b\b\b\b\b\b\b\b\b\b\b\b\b\b\b\b\b\b\b\b\b\b\b\b\b\b\b\b\b\b\b\b\b\b\b\b\b\b\b\r",
      "76/76 [==============================] - 51s 679ms/step - loss: 0.2743 - accuracy: 0.8791 - val_loss: 0.2717 - val_accuracy: 0.8867 - lr: 1.0000e-04\n",
      "Epoch 35/50\n",
      "76/76 [==============================] - ETA: 0s - loss: 0.2746 - accuracy: 0.8803"
     ]
    },
    {
     "name": "stderr",
     "output_type": "stream",
     "text": [
      "WARNING:tensorflow:Early stopping conditioned on metric `val_acc` which is not available. Available metrics are: loss,accuracy,val_loss,val_accuracy,lr\n"
     ]
    },
    {
     "name": "stdout",
     "output_type": "stream",
     "text": [
      "\b\b\b\b\b\b\b\b\b\b\b\b\b\b\b\b\b\b\b\b\b\b\b\b\b\b\b\b\b\b\b\b\b\b\b\b\b\b\b\b\b\b\b\b\b\b\b\b\b\b\b\b\b\b\b\b\b\b\b\b\b\b\b\b\b\b\b\b\b\b\b\b\b\b\b\b\b\b\b\b\b\b\r",
      "76/76 [==============================] - 52s 684ms/step - loss: 0.2746 - accuracy: 0.8803 - val_loss: 0.2716 - val_accuracy: 0.8866 - lr: 1.0000e-04\n",
      "Epoch 36/50\n",
      "76/76 [==============================] - ETA: 0s - loss: 0.2709 - accuracy: 0.8819"
     ]
    },
    {
     "name": "stderr",
     "output_type": "stream",
     "text": [
      "WARNING:tensorflow:Early stopping conditioned on metric `val_acc` which is not available. Available metrics are: loss,accuracy,val_loss,val_accuracy,lr\n"
     ]
    },
    {
     "name": "stdout",
     "output_type": "stream",
     "text": [
      "\b\b\b\b\b\b\b\b\b\b\b\b\b\b\b\b\b\b\b\b\b\b\b\b\b\b\b\b\b\b\b\b\b\b\b\b\b\b\b\b\b\b\b\b\b\b\b\b\b\b\b\b\b\b\b\b\b\b\b\b\b\b\b\b\b\b\b\b\b\b\b\b\b\b\b\b\b\b\b\b\b\b\r",
      "76/76 [==============================] - 51s 672ms/step - loss: 0.2709 - accuracy: 0.8819 - val_loss: 0.2721 - val_accuracy: 0.8873 - lr: 1.0000e-04\n",
      "Epoch 37/50\n",
      "76/76 [==============================] - ETA: 0s - loss: 0.2714 - accuracy: 0.8823"
     ]
    },
    {
     "name": "stderr",
     "output_type": "stream",
     "text": [
      "WARNING:tensorflow:Early stopping conditioned on metric `val_acc` which is not available. Available metrics are: loss,accuracy,val_loss,val_accuracy,lr\n"
     ]
    },
    {
     "name": "stdout",
     "output_type": "stream",
     "text": [
      "\b\b\b\b\b\b\b\b\b\b\b\b\b\b\b\b\b\b\b\b\b\b\b\b\b\b\b\b\b\b\b\b\b\b\b\b\b\b\b\b\b\b\b\b\b\b\b\b\b\b\b\b\b\b\b\b\b\b\b\b\b\b\b\b\b\b\b\b\b\b\b\b\b\b\b\b\b\b\b\b\b\b\r",
      "76/76 [==============================] - 51s 667ms/step - loss: 0.2714 - accuracy: 0.8823 - val_loss: 0.2718 - val_accuracy: 0.8869 - lr: 1.0000e-04\n",
      "Epoch 38/50\n",
      "76/76 [==============================] - ETA: 0s - loss: 0.2704 - accuracy: 0.8818"
     ]
    },
    {
     "name": "stderr",
     "output_type": "stream",
     "text": [
      "WARNING:tensorflow:Early stopping conditioned on metric `val_acc` which is not available. Available metrics are: loss,accuracy,val_loss,val_accuracy,lr\n"
     ]
    },
    {
     "name": "stdout",
     "output_type": "stream",
     "text": [
      "\b\b\b\b\b\b\b\b\b\b\b\b\b\b\b\b\b\b\b\b\b\b\b\b\b\b\b\b\b\b\b\b\b\b\b\b\b\b\b\b\b\b\b\b\b\b\b\b\b\b\b\b\b\b\b\b\b\b\b\b\b\b\b\b\b\b\b\b\b\b\b\b\b\b\b\b\b\b\b\b\b\b\r",
      "76/76 [==============================] - 52s 683ms/step - loss: 0.2704 - accuracy: 0.8818 - val_loss: 0.2706 - val_accuracy: 0.8873 - lr: 1.0000e-04\n",
      "Epoch 39/50\n",
      "76/76 [==============================] - ETA: 0s - loss: 0.2720 - accuracy: 0.8818"
     ]
    },
    {
     "name": "stderr",
     "output_type": "stream",
     "text": [
      "WARNING:tensorflow:Early stopping conditioned on metric `val_acc` which is not available. Available metrics are: loss,accuracy,val_loss,val_accuracy,lr\n"
     ]
    },
    {
     "name": "stdout",
     "output_type": "stream",
     "text": [
      "\b\b\b\b\b\b\b\b\b\b\b\b\b\b\b\b\b\b\b\b\b\b\b\b\b\b\b\b\b\b\b\b\b\b\b\b\b\b\b\b\b\b\b\b\b\b\b\b\b\b\b\b\b\b\b\b\b\b\b\b\b\b\b\b\b\b\b\b\b\b\b\b\b\b\b\b\b\b\b\b\b\b\r",
      "76/76 [==============================] - 51s 679ms/step - loss: 0.2720 - accuracy: 0.8818 - val_loss: 0.2710 - val_accuracy: 0.8876 - lr: 1.0000e-04\n",
      "Epoch 40/50\n",
      "76/76 [==============================] - ETA: 0s - loss: 0.2701 - accuracy: 0.8829"
     ]
    },
    {
     "name": "stderr",
     "output_type": "stream",
     "text": [
      "WARNING:tensorflow:Early stopping conditioned on metric `val_acc` which is not available. Available metrics are: loss,accuracy,val_loss,val_accuracy,lr\n"
     ]
    },
    {
     "name": "stdout",
     "output_type": "stream",
     "text": [
      "\b\b\b\b\b\b\b\b\b\b\b\b\b\b\b\b\b\b\b\b\b\b\b\b\b\b\b\b\b\b\b\b\b\b\b\b\b\b\b\b\b\b\b\b\b\b\b\b\b\b\b\b\b\b\b\b\b\b\b\b\b\b\b\b\b\b\b\b\b\b\b\b\b\b\b\b\b\b\b\b\b\b\r",
      "76/76 [==============================] - 50s 657ms/step - loss: 0.2701 - accuracy: 0.8829 - val_loss: 0.2719 - val_accuracy: 0.8874 - lr: 1.0000e-04\n",
      "Epoch 41/50\n",
      "76/76 [==============================] - ETA: 0s - loss: 0.2709 - accuracy: 0.8827"
     ]
    },
    {
     "name": "stderr",
     "output_type": "stream",
     "text": [
      "WARNING:tensorflow:Early stopping conditioned on metric `val_acc` which is not available. Available metrics are: loss,accuracy,val_loss,val_accuracy,lr\n"
     ]
    },
    {
     "name": "stdout",
     "output_type": "stream",
     "text": [
      "\b\b\b\b\b\b\b\b\b\b\b\b\b\b\b\b\b\b\b\b\b\b\b\b\b\b\b\b\b\b\b\b\b\b\b\b\b\b\b\b\b\b\b\b\b\b\b\b\b\b\b\b\b\b\b\b\b\b\b\b\b\b\b\b\b\b\b\b\b\b\b\b\b\b\b\b\b\b\b\b\b\b\r",
      "76/76 [==============================] - 52s 689ms/step - loss: 0.2709 - accuracy: 0.8827 - val_loss: 0.2720 - val_accuracy: 0.8874 - lr: 1.0000e-04\n",
      "Epoch 42/50\n",
      "76/76 [==============================] - ETA: 0s - loss: 0.2704 - accuracy: 0.8815"
     ]
    },
    {
     "name": "stderr",
     "output_type": "stream",
     "text": [
      "WARNING:tensorflow:Early stopping conditioned on metric `val_acc` which is not available. Available metrics are: loss,accuracy,val_loss,val_accuracy,lr\n"
     ]
    },
    {
     "name": "stdout",
     "output_type": "stream",
     "text": [
      "\b\b\b\b\b\b\b\b\b\b\b\b\b\b\b\b\b\b\b\b\b\b\b\b\b\b\b\b\b\b\b\b\b\b\b\b\b\b\b\b\b\b\b\b\b\b\b\b\b\b\b\b\b\b\b\b\b\b\b\b\b\b\b\b\b\b\b\b\b\b\b\b\b\b\b\b\b\b\b\b\b\b\r",
      "76/76 [==============================] - 52s 686ms/step - loss: 0.2704 - accuracy: 0.8815 - val_loss: 0.2714 - val_accuracy: 0.8888 - lr: 1.0000e-04\n",
      "Epoch 43/50\n",
      "76/76 [==============================] - ETA: 0s - loss: 0.2685 - accuracy: 0.8822"
     ]
    },
    {
     "name": "stderr",
     "output_type": "stream",
     "text": [
      "WARNING:tensorflow:Early stopping conditioned on metric `val_acc` which is not available. Available metrics are: loss,accuracy,val_loss,val_accuracy,lr\n"
     ]
    },
    {
     "name": "stdout",
     "output_type": "stream",
     "text": [
      "\b\b\b\b\b\b\b\b\b\b\b\b\b\b\b\b\b\b\b\b\b\b\b\b\b\b\b\b\b\b\b\b\b\b\b\b\b\b\b\b\b\b\b\b\b\b\b\b\b\b\b\b\b\b\b\b\b\b\b\b\b\b\b\b\b\b\b\b\b\b\b\b\b\b\b\b\b\b\b\b\b\b\r",
      "76/76 [==============================] - 52s 682ms/step - loss: 0.2685 - accuracy: 0.8822 - val_loss: 0.2709 - val_accuracy: 0.8885 - lr: 1.0000e-04\n",
      "Epoch 44/50\n",
      "76/76 [==============================] - ETA: 0s - loss: 0.2684 - accuracy: 0.8833"
     ]
    },
    {
     "name": "stderr",
     "output_type": "stream",
     "text": [
      "WARNING:tensorflow:Early stopping conditioned on metric `val_acc` which is not available. Available metrics are: loss,accuracy,val_loss,val_accuracy,lr\n"
     ]
    },
    {
     "name": "stdout",
     "output_type": "stream",
     "text": [
      "\b\b\b\b\b\b\b\b\b\b\b\b\b\b\b\b\b\b\b\b\b\b\b\b\b\b\b\b\b\b\b\b\b\b\b\b\b\b\b\b\b\b\b\b\b\b\b\b\b\b\b\b\b\b\b\b\b\b\b\b\b\b\b\b\b\b\b\b\b\b\b\b\b\b\b\b\b\b\b\b\b\b\r",
      "76/76 [==============================] - 50s 653ms/step - loss: 0.2684 - accuracy: 0.8833 - val_loss: 0.2709 - val_accuracy: 0.8881 - lr: 1.0000e-05\n",
      "Epoch 45/50\n",
      "76/76 [==============================] - ETA: 0s - loss: 0.2693 - accuracy: 0.8825"
     ]
    },
    {
     "name": "stderr",
     "output_type": "stream",
     "text": [
      "WARNING:tensorflow:Early stopping conditioned on metric `val_acc` which is not available. Available metrics are: loss,accuracy,val_loss,val_accuracy,lr\n"
     ]
    },
    {
     "name": "stdout",
     "output_type": "stream",
     "text": [
      "\b\b\b\b\b\b\b\b\b\b\b\b\b\b\b\b\b\b\b\b\b\b\b\b\b\b\b\b\b\b\b\b\b\b\b\b\b\b\b\b\b\b\b\b\b\b\b\b\b\b\b\b\b\b\b\b\b\b\b\b\b\b\b\b\b\b\b\b\b\b\b\b\b\b\b\b\b\b\b\b\b\b\r",
      "76/76 [==============================] - 52s 683ms/step - loss: 0.2693 - accuracy: 0.8825 - val_loss: 0.2708 - val_accuracy: 0.8879 - lr: 1.0000e-05\n",
      "Epoch 46/50\n",
      "76/76 [==============================] - ETA: 0s - loss: 0.2716 - accuracy: 0.8804"
     ]
    },
    {
     "name": "stderr",
     "output_type": "stream",
     "text": [
      "WARNING:tensorflow:Early stopping conditioned on metric `val_acc` which is not available. Available metrics are: loss,accuracy,val_loss,val_accuracy,lr\n"
     ]
    },
    {
     "name": "stdout",
     "output_type": "stream",
     "text": [
      "\b\b\b\b\b\b\b\b\b\b\b\b\b\b\b\b\b\b\b\b\b\b\b\b\b\b\b\b\b\b\b\b\b\b\b\b\b\b\b\b\b\b\b\b\b\b\b\b\b\b\b\b\b\b\b\b\b\b\b\b\b\b\b\b\b\b\b\b\b\b\b\b\b\b\b\b\b\b\b\b\b\b\r",
      "76/76 [==============================] - 52s 685ms/step - loss: 0.2716 - accuracy: 0.8804 - val_loss: 0.2707 - val_accuracy: 0.8881 - lr: 1.0000e-05\n",
      "Epoch 47/50\n",
      "76/76 [==============================] - ETA: 0s - loss: 0.2676 - accuracy: 0.8823"
     ]
    },
    {
     "name": "stderr",
     "output_type": "stream",
     "text": [
      "WARNING:tensorflow:Early stopping conditioned on metric `val_acc` which is not available. Available metrics are: loss,accuracy,val_loss,val_accuracy,lr\n"
     ]
    },
    {
     "name": "stdout",
     "output_type": "stream",
     "text": [
      "\b\b\b\b\b\b\b\b\b\b\b\b\b\b\b\b\b\b\b\b\b\b\b\b\b\b\b\b\b\b\b\b\b\b\b\b\b\b\b\b\b\b\b\b\b\b\b\b\b\b\b\b\b\b\b\b\b\b\b\b\b\b\b\b\b\b\b\b\b\b\b\b\b\b\b\b\b\b\b\b\b\b\r",
      "76/76 [==============================] - 51s 677ms/step - loss: 0.2676 - accuracy: 0.8823 - val_loss: 0.2707 - val_accuracy: 0.8881 - lr: 1.0000e-05\n",
      "Epoch 48/50\n",
      "76/76 [==============================] - ETA: 0s - loss: 0.2694 - accuracy: 0.8839"
     ]
    },
    {
     "name": "stderr",
     "output_type": "stream",
     "text": [
      "WARNING:tensorflow:Early stopping conditioned on metric `val_acc` which is not available. Available metrics are: loss,accuracy,val_loss,val_accuracy,lr\n"
     ]
    },
    {
     "name": "stdout",
     "output_type": "stream",
     "text": [
      "\b\b\b\b\b\b\b\b\b\b\b\b\b\b\b\b\b\b\b\b\b\b\b\b\b\b\b\b\b\b\b\b\b\b\b\b\b\b\b\b\b\b\b\b\b\b\b\b\b\b\b\b\b\b\b\b\b\b\b\b\b\b\b\b\b\b\b\b\b\b\b\b\b\b\b\b\b\b\b\b\b\b\r",
      "76/76 [==============================] - 51s 662ms/step - loss: 0.2694 - accuracy: 0.8839 - val_loss: 0.2706 - val_accuracy: 0.8881 - lr: 1.0000e-05\n",
      "Epoch 49/50\n",
      "76/76 [==============================] - ETA: 0s - loss: 0.2675 - accuracy: 0.8824"
     ]
    },
    {
     "name": "stderr",
     "output_type": "stream",
     "text": [
      "WARNING:tensorflow:Early stopping conditioned on metric `val_acc` which is not available. Available metrics are: loss,accuracy,val_loss,val_accuracy,lr\n"
     ]
    },
    {
     "name": "stdout",
     "output_type": "stream",
     "text": [
      "\b\b\b\b\b\b\b\b\b\b\b\b\b\b\b\b\b\b\b\b\b\b\b\b\b\b\b\b\b\b\b\b\b\b\b\b\b\b\b\b\b\b\b\b\b\b\b\b\b\b\b\b\b\b\b\b\b\b\b\b\b\b\b\b\b\b\b\b\b\b\b\b\b\b\b\b\b\b\b\b\b\b\r",
      "76/76 [==============================] - 54s 709ms/step - loss: 0.2675 - accuracy: 0.8824 - val_loss: 0.2706 - val_accuracy: 0.8879 - lr: 1.0000e-06\n",
      "Epoch 50/50\n",
      "76/76 [==============================] - ETA: 0s - loss: 0.2685 - accuracy: 0.8834"
     ]
    },
    {
     "name": "stderr",
     "output_type": "stream",
     "text": [
      "WARNING:tensorflow:Early stopping conditioned on metric `val_acc` which is not available. Available metrics are: loss,accuracy,val_loss,val_accuracy,lr\n"
     ]
    },
    {
     "name": "stdout",
     "output_type": "stream",
     "text": [
      "\b\b\b\b\b\b\b\b\b\b\b\b\b\b\b\b\b\b\b\b\b\b\b\b\b\b\b\b\b\b\b\b\b\b\b\b\b\b\b\b\b\b\b\b\b\b\b\b\b\b\b\b\b\b\b\b\b\b\b\b\b\b\b\b\b\b\b\b\b\b\b\b\b\b\b\b\b\b\b\b\b\b\r",
      "76/76 [==============================] - 52s 687ms/step - loss: 0.2685 - accuracy: 0.8834 - val_loss: 0.2706 - val_accuracy: 0.8881 - lr: 1.0000e-06\n",
      "CPU times: user 55min 27s, sys: 5min 33s, total: 1h 1min 1s\n",
      "Wall time: 43min 4s\n"
     ]
    }
   ],
   "source": [
    "%%time\n",
    "history = model.fit(x_train, y_train,\n",
    "                    batch_size=BATCH_SIZE,\n",
    "                    epochs=EPOCHS,\n",
    "                    validation_split=0.1,\n",
    "                    verbose=1,\n",
    "                    callbacks=callbacks)"
   ]
  },
  {
   "cell_type": "code",
   "execution_count": 197,
   "id": "a8d3186c",
   "metadata": {
    "colab": {
     "base_uri": "https://localhost:8080/"
    },
    "execution": {
     "iopub.execute_input": "2022-09-09T22:05:40.019824Z",
     "iopub.status.busy": "2022-09-09T22:05:40.019431Z",
     "iopub.status.idle": "2022-09-09T22:06:26.294737Z",
     "shell.execute_reply": "2022-09-09T22:06:26.292580Z"
    },
    "id": "a8d3186c",
    "outputId": "5f58d753-8e5d-4ba8-ffe5-01fc719adca7",
    "papermill": {
     "duration": 46.344065,
     "end_time": "2022-09-09T22:06:26.297322",
     "exception": false,
     "start_time": "2022-09-09T22:05:39.953257",
     "status": "completed"
    },
    "tags": []
   },
   "outputs": [
    {
     "name": "stdout",
     "output_type": "stream",
     "text": [
      "22/22 [==============================] - 1s 46ms/step - loss: 0.2676 - accuracy: 0.8890\n",
      "\n",
      "ACCURACY: 0.8890126347541809\n",
      "LOSS: 0.26759713888168335\n",
      "CPU times: user 1.02 s, sys: 92.3 ms, total: 1.11 s\n",
      "Wall time: 1.34 s\n"
     ]
    }
   ],
   "source": [
    "%%time\n",
    "score = model.evaluate(x_test, y_test, batch_size=BATCH_SIZE)\n",
    "print()\n",
    "print(\"ACCURACY:\",score[1])\n",
    "print(\"LOSS:\",score[0])"
   ]
  },
  {
   "cell_type": "code",
   "execution_count": 198,
   "id": "38cbd93f",
   "metadata": {
    "colab": {
     "base_uri": "https://localhost:8080/",
     "height": 941
    },
    "execution": {
     "iopub.execute_input": "2022-09-09T22:06:26.421840Z",
     "iopub.status.busy": "2022-09-09T22:06:26.421511Z",
     "iopub.status.idle": "2022-09-09T22:06:26.771137Z",
     "shell.execute_reply": "2022-09-09T22:06:26.769292Z"
    },
    "id": "38cbd93f",
    "outputId": "e4f12e39-dde2-40f7-b9ff-5ab6cff152d8",
    "papermill": {
     "duration": 0.415686,
     "end_time": "2022-09-09T22:06:26.774075",
     "exception": false,
     "start_time": "2022-09-09T22:06:26.358389",
     "status": "completed"
    },
    "tags": []
   },
   "outputs": [
    {
     "data": {
      "image/png": "[encoded data removed]",
      "text/plain": [
       "<Figure size 640x480 with 1 Axes>"
      ]
     },
     "metadata": {},
     "output_type": "display_data"
    },
    {
     "data": {
      "image/png": "[encoded data removed]",
      "text/plain": [
       "<Figure size 640x480 with 1 Axes>"
      ]
     },
     "metadata": {},
     "output_type": "display_data"
    }
   ],
   "source": [
    "acc = history.history['accuracy']\n",
    "val_acc = history.history['val_accuracy']\n",
    "loss = history.history['loss']\n",
    "val_loss = history.history['val_loss']\n",
    "\n",
    "epochs = range(len(acc))\n",
    "\n",
    "plt.plot(epochs, acc, 'b', label='Training acc')\n",
    "plt.plot(epochs, val_acc, 'r', label='Validation acc')\n",
    "plt.title('Training and validation accuracy')\n",
    "plt.legend()\n",
    "\n",
    "plt.figure()\n",
    "\n",
    "plt.plot(epochs, loss, 'b', label='Training loss')\n",
    "plt.plot(epochs, val_loss, 'r', label='Validation loss')\n",
    "plt.title('Training and validation loss')\n",
    "plt.legend()\n",
    "\n",
    "plt.show()"
   ]
  },
  {
   "cell_type": "code",
   "execution_count": 199,
   "id": "6c8f8273",
   "metadata": {
    "execution": {
     "iopub.execute_input": "2022-09-09T22:06:27.026178Z",
     "iopub.status.busy": "2022-09-09T22:06:27.025150Z",
     "iopub.status.idle": "2022-09-09T22:06:27.032290Z",
     "shell.execute_reply": "2022-09-09T22:06:27.030710Z"
    },
    "id": "6c8f8273",
    "papermill": {
     "duration": 0.074966,
     "end_time": "2022-09-09T22:06:27.034834",
     "exception": false,
     "start_time": "2022-09-09T22:06:26.959868",
     "status": "completed"
    },
    "tags": []
   },
   "outputs": [],
   "source": [
    "def decode_sentiment(score, include_neutral=True):\n",
    "    if include_neutral:\n",
    "        label = NEUTRAL\n",
    "        if score <= SENTIMENT_THRESHOLDS[0]:\n",
    "            label = NEGATIVE\n",
    "        elif score >= SENTIMENT_THRESHOLDS[1]:\n",
    "            label = POSITIVE\n",
    "\n",
    "        return label\n",
    "    else:\n",
    "        return NEGATIVE if score < 0.5 else POSITIVE"
   ]
  },
  {
   "cell_type": "code",
   "execution_count": 200,
   "id": "a3559216",
   "metadata": {
    "execution": {
     "iopub.execute_input": "2022-09-09T22:06:27.163604Z",
     "iopub.status.busy": "2022-09-09T22:06:27.163054Z",
     "iopub.status.idle": "2022-09-09T22:06:27.168637Z",
     "shell.execute_reply": "2022-09-09T22:06:27.167596Z"
    },
    "id": "a3559216",
    "papermill": {
     "duration": 0.071934,
     "end_time": "2022-09-09T22:06:27.171105",
     "exception": false,
     "start_time": "2022-09-09T22:06:27.099171",
     "status": "completed"
    },
    "tags": []
   },
   "outputs": [],
   "source": [
    "def predict(clean_text, include_neutral=True):\n",
    "    start_at = time.time()\n",
    "    # Tokenize clean_text\n",
    "    x_test = pad_sequences(tokenizer.texts_to_sequences([clean_text]), maxlen=SEQUENCE_LENGTH)\n",
    "    # Predict\n",
    "    score = model.predict([x_test])[0]\n",
    "    # Decode sentiment\n",
    "    label = decode_sentiment(score, include_neutral=include_neutral)\n",
    "\n",
    "    return {\"label\": label, \"score\": float(score),\n",
    "       \"elapsed_time\": time.time()-start_at}"
   ]
  },
  {
   "cell_type": "code",
   "execution_count": 201,
   "id": "87206056",
   "metadata": {
    "colab": {
     "base_uri": "https://localhost:8080/"
    },
    "execution": {
     "iopub.execute_input": "2022-09-09T22:06:27.300857Z",
     "iopub.status.busy": "2022-09-09T22:06:27.300320Z",
     "iopub.status.idle": "2022-09-09T22:06:27.828558Z",
     "shell.execute_reply": "2022-09-09T22:06:27.827384Z"
    },
    "id": "87206056",
    "outputId": "45ebf522-8efe-461c-fb09-813984e12762",
    "papermill": {
     "duration": 0.595484,
     "end_time": "2022-09-09T22:06:27.830616",
     "exception": false,
     "start_time": "2022-09-09T22:06:27.235132",
     "status": "completed"
    },
    "tags": []
   },
   "outputs": [
    {
     "name": "stdout",
     "output_type": "stream",
     "text": [
      "1/1 [==============================] - 0s 288ms/step\n"
     ]
    },
    {
     "data": {
      "text/plain": [
       "{'label': 'POSITIVE',\n",
       " 'score': 0.9995843768119812,\n",
       " 'elapsed_time': 0.4043595790863037}"
      ]
     },
     "execution_count": 201,
     "metadata": {},
     "output_type": "execute_result"
    }
   ],
   "source": [
    "predict(\"I love the music\")"
   ]
  },
  {
   "cell_type": "code",
   "execution_count": 202,
   "id": "6b629414",
   "metadata": {
    "colab": {
     "base_uri": "https://localhost:8080/"
    },
    "execution": {
     "iopub.execute_input": "2022-09-09T22:06:27.963302Z",
     "iopub.status.busy": "2022-09-09T22:06:27.962717Z",
     "iopub.status.idle": "2022-09-09T22:06:28.248269Z",
     "shell.execute_reply": "2022-09-09T22:06:28.247184Z"
    },
    "id": "6b629414",
    "outputId": "f25a01bd-b357-4418-d461-1f7387b48734",
    "papermill": {
     "duration": 0.355829,
     "end_time": "2022-09-09T22:06:28.250611",
     "exception": false,
     "start_time": "2022-09-09T22:06:27.894782",
     "status": "completed"
    },
    "tags": []
   },
   "outputs": [
    {
     "name": "stdout",
     "output_type": "stream",
     "text": [
      "1/1 [==============================] - 0s 49ms/step\n"
     ]
    },
    {
     "data": {
      "text/plain": [
       "{'label': 'NEGATIVE',\n",
       " 'score': 0.34366267919540405,\n",
       " 'elapsed_time': 0.0957491397857666}"
      ]
     },
     "execution_count": 202,
     "metadata": {},
     "output_type": "execute_result"
    }
   ],
   "source": [
    "predict(\"I have nothing to lose\")"
   ]
  },
  {
   "cell_type": "code",
   "execution_count": 203,
   "id": "6b585f2f",
   "metadata": {
    "colab": {
     "base_uri": "https://localhost:8080/"
    },
    "execution": {
     "iopub.execute_input": "2022-09-09T22:06:28.390112Z",
     "iopub.status.busy": "2022-09-09T22:06:28.389696Z",
     "iopub.status.idle": "2022-09-09T22:06:28.668600Z",
     "shell.execute_reply": "2022-09-09T22:06:28.666932Z"
    },
    "id": "6b585f2f",
    "outputId": "a5d064e5-4580-4869-8fc5-f616645e3103",
    "papermill": {
     "duration": 0.353257,
     "end_time": "2022-09-09T22:06:28.671676",
     "exception": false,
     "start_time": "2022-09-09T22:06:28.318419",
     "status": "completed"
    },
    "tags": []
   },
   "outputs": [
    {
     "name": "stdout",
     "output_type": "stream",
     "text": [
      "1/1 [==============================] - 0s 53ms/step\n"
     ]
    },
    {
     "data": {
      "text/plain": [
       "{'label': 'NEGATIVE',\n",
       " 'score': 0.015789005905389786,\n",
       " 'elapsed_time': 0.0920248031616211}"
      ]
     },
     "execution_count": 203,
     "metadata": {},
     "output_type": "execute_result"
    }
   ],
   "source": [
    "predict(\"Experience has been bad\")"
   ]
  },
  {
   "cell_type": "code",
   "execution_count": 204,
   "id": "3ea308da",
   "metadata": {
    "colab": {
     "base_uri": "https://localhost:8080/"
    },
    "execution": {
     "iopub.execute_input": "2022-09-09T22:06:28.924168Z",
     "iopub.status.busy": "2022-09-09T22:06:28.923562Z",
     "iopub.status.idle": "2022-09-09T22:07:03.258797Z",
     "shell.execute_reply": "2022-09-09T22:07:03.257138Z"
    },
    "id": "3ea308da",
    "outputId": "e2e6b5b8-839f-4d08-d3ea-f4d254d22544",
    "papermill": {
     "duration": 34.423391,
     "end_time": "2022-09-09T22:07:03.282955",
     "exception": false,
     "start_time": "2022-09-09T22:06:28.859564",
     "status": "completed"
    },
    "tags": []
   },
   "outputs": [
    {
     "name": "stdout",
     "output_type": "stream",
     "text": [
      "3/3 [==============================] - 1s 260ms/step\n",
      "CPU times: user 1.19 s, sys: 132 ms, total: 1.32 s\n",
      "Wall time: 1.32 s\n"
     ]
    }
   ],
   "source": [
    "%%time\n",
    "y_pred_1d = []\n",
    "y_test_1d = list(df_test.category)\n",
    "scores = model.predict(x_test, verbose=1, batch_size=8000)\n",
    "y_pred_1d = [decode_sentiment(score, include_neutral=False) for score in scores]"
   ]
  },
  {
   "cell_type": "code",
   "execution_count": 205,
   "id": "ccf98f0e",
   "metadata": {
    "execution": {
     "iopub.execute_input": "2022-09-09T22:07:03.412941Z",
     "iopub.status.busy": "2022-09-09T22:07:03.411814Z",
     "iopub.status.idle": "2022-09-09T22:07:03.420950Z",
     "shell.execute_reply": "2022-09-09T22:07:03.419905Z"
    },
    "id": "ccf98f0e",
    "papermill": {
     "duration": 0.075827,
     "end_time": "2022-09-09T22:07:03.423088",
     "exception": false,
     "start_time": "2022-09-09T22:07:03.347261",
     "status": "completed"
    },
    "tags": []
   },
   "outputs": [],
   "source": [
    "def plot_confusion_matrix(cm, classes,\n",
    "                          title='Confusion matrix',\n",
    "                          cmap=plt.cm.Blues):\n",
    "    \"\"\"\n",
    "    This function prints and plots the confusion matrix.\n",
    "    Normalization can be applied by setting `normalize=True`.\n",
    "    \"\"\"\n",
    "\n",
    "    cm = cm.astype('float') / cm.sum(axis=1)[:, np.newaxis]\n",
    "\n",
    "    plt.imshow(cm, interpolation='nearest', cmap=cmap)\n",
    "    plt.title(title, fontsize=30)\n",
    "    plt.colorbar()\n",
    "    tick_marks = np.arange(len(classes))\n",
    "    plt.xticks(tick_marks, classes, rotation=90, fontsize=22)\n",
    "    plt.yticks(tick_marks, classes, fontsize=22)\n",
    "\n",
    "    fmt = '.2f'\n",
    "    thresh = cm.max() / 2.\n",
    "    for i, j in itertools.product(range(cm.shape[0]), range(cm.shape[1])):\n",
    "        plt.text(j, i, format(cm[i, j], fmt),\n",
    "                 horizontalalignment=\"center\",\n",
    "                 color=\"white\" if cm[i, j] > thresh else \"black\")\n",
    "\n",
    "    plt.ylabel('True label', fontsize=25)\n",
    "    plt.xlabel('Predicted label', fontsize=25)"
   ]
  },
  {
   "cell_type": "code",
   "execution_count": 206,
   "id": "9647e8a0",
   "metadata": {
    "colab": {
     "base_uri": "https://localhost:8080/",
     "height": 1000
    },
    "execution": {
     "iopub.execute_input": "2022-09-09T22:07:03.559503Z",
     "iopub.status.busy": "2022-09-09T22:07:03.558777Z",
     "iopub.status.idle": "2022-09-09T22:07:03.902468Z",
     "shell.execute_reply": "2022-09-09T22:07:03.901494Z"
    },
    "id": "9647e8a0",
    "outputId": "a57f5cc0-d9eb-44c7-ed5a-2a3face8623f",
    "papermill": {
     "duration": 0.418908,
     "end_time": "2022-09-09T22:07:03.904830",
     "exception": false,
     "start_time": "2022-09-09T22:07:03.485922",
     "status": "completed"
    },
    "tags": []
   },
   "outputs": [
    {
     "data": {
      "image/png": "[encoded data removed]",
      "text/plain": [
       "<Figure size 1200x1200 with 2 Axes>"
      ]
     },
     "metadata": {},
     "output_type": "display_data"
    },
    {
     "name": "stdout",
     "output_type": "stream",
     "text": [
      "CPU times: user 454 ms, sys: 245 ms, total: 699 ms\n",
      "Wall time: 431 ms\n"
     ]
    }
   ],
   "source": [
    "%%time\n",
    "\n",
    "cnf_matrix = confusion_matrix(y_test_1d, y_pred_1d)\n",
    "plt.figure(figsize=(12,12))\n",
    "plot_confusion_matrix(cnf_matrix, classes=df_train.category.unique(), title=\"Confusion matrix\")\n",
    "plt.show()"
   ]
  },
  {
   "cell_type": "code",
   "execution_count": 207,
   "id": "54e1384d",
   "metadata": {
    "colab": {
     "base_uri": "https://localhost:8080/"
    },
    "execution": {
     "iopub.execute_input": "2022-09-09T22:07:04.176343Z",
     "iopub.status.busy": "2022-09-09T22:07:04.175575Z",
     "iopub.status.idle": "2022-09-09T22:07:04.440343Z",
     "shell.execute_reply": "2022-09-09T22:07:04.439646Z"
    },
    "id": "54e1384d",
    "outputId": "70d48561-2215-41c2-c842-0a2588fdd3c8",
    "papermill": {
     "duration": 0.336361,
     "end_time": "2022-09-09T22:07:04.442919",
     "exception": false,
     "start_time": "2022-09-09T22:07:04.106558",
     "status": "completed"
    },
    "tags": []
   },
   "outputs": [
    {
     "name": "stdout",
     "output_type": "stream",
     "text": [
      "              precision    recall  f1-score   support\n",
      "\n",
      "    NEGATIVE       0.83      0.82      0.83      7026\n",
      "    POSITIVE       0.92      0.92      0.92     14526\n",
      "\n",
      "    accuracy                           0.89     21552\n",
      "   macro avg       0.87      0.87      0.87     21552\n",
      "weighted avg       0.89      0.89      0.89     21552\n",
      "\n"
     ]
    }
   ],
   "source": [
    "print(classification_report(y_test_1d, y_pred_1d))"
   ]
  },
  {
   "cell_type": "code",
   "execution_count": 208,
   "id": "aa9e8c1d",
   "metadata": {
    "colab": {
     "base_uri": "https://localhost:8080/"
    },
    "execution": {
     "iopub.execute_input": "2022-09-09T22:07:04.722131Z",
     "iopub.status.busy": "2022-09-09T22:07:04.721450Z",
     "iopub.status.idle": "2022-09-09T22:07:04.754672Z",
     "shell.execute_reply": "2022-09-09T22:07:04.754055Z"
    },
    "id": "aa9e8c1d",
    "outputId": "5508fc40-3c75-4014-cfe5-e1625a9e83dc",
    "papermill": {
     "duration": 0.105614,
     "end_time": "2022-09-09T22:07:04.756417",
     "exception": false,
     "start_time": "2022-09-09T22:07:04.650803",
     "status": "completed"
    },
    "tags": []
   },
   "outputs": [
    {
     "data": {
      "text/plain": [
       "0.8890126206384559"
      ]
     },
     "execution_count": 208,
     "metadata": {},
     "output_type": "execute_result"
    }
   ],
   "source": [
    "accuracy_score(y_test_1d, y_pred_1d)"
   ]
  }
 ],
 "metadata": {
  "accelerator": "GPU",
  "colab": {
   "gpuType": "T4",
   "provenance": []
  },
  "kernelspec": {
   "display_name": "Python 3 (ipykernel)",
   "language": "python",
   "name": "python3"
  },
  "language_info": {
   "codemirror_mode": {
    "name": "ipython",
    "version": 3
   },
   "file_extension": ".py",
   "mimetype": "text/x-python",
   "name": "python",
   "nbconvert_exporter": "python",
   "pygments_lexer": "ipython3",
   "version": "3.9.13"
  },
  "papermill": {
   "default_parameters": {},
   "duration": 5723.060248,
   "end_time": "2022-09-09T22:07:08.895055",
   "environment_variables": {},
   "exception": null,
   "input_path": "__notebook__.ipynb",
   "output_path": "__notebook__.ipynb",
   "parameters": {},
   "start_time": "2022-09-09T20:31:45.834807",
   "version": "2.3.4"
  }
 },
 "nbformat": 4,
 "nbformat_minor": 5
}
