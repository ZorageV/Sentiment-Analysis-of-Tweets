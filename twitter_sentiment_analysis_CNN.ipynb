{
  "cells": [
    {
      "cell_type": "code",
      "execution_count": 1,
      "id": "55ae76de",
      "metadata": {
        "execution": {
          "iopub.execute_input": "2022-09-09T20:31:54.799040Z",
          "iopub.status.busy": "2022-09-09T20:31:54.798685Z",
          "iopub.status.idle": "2022-09-09T20:32:04.322971Z",
          "shell.execute_reply": "2022-09-09T20:32:04.321546Z"
        },
        "papermill": {
          "duration": 9.544983,
          "end_time": "2022-09-09T20:32:04.325543",
          "exception": false,
          "start_time": "2022-09-09T20:31:54.780560",
          "status": "completed"
        },
        "tags": [],
        "colab": {
          "base_uri": "https://localhost:8080/"
        },
        "id": "55ae76de",
        "outputId": "52692ac4-6acf-4192-b770-f7042cc307e4"
      },
      "outputs": [
        {
          "output_type": "stream",
          "name": "stderr",
          "text": [
            "[nltk_data] Downloading package stopwords to /root/nltk_data...\n",
            "[nltk_data]   Unzipping corpora/stopwords.zip.\n",
            "[nltk_data] Downloading package punkt to /root/nltk_data...\n",
            "[nltk_data]   Unzipping tokenizers/punkt.zip.\n",
            "[nltk_data] Downloading package averaged_perceptron_tagger to\n",
            "[nltk_data]     /root/nltk_data...\n",
            "[nltk_data]   Unzipping taggers/averaged_perceptron_tagger.zip.\n",
            "[nltk_data] Downloading package wordnet to /root/nltk_data...\n",
            "[nltk_data] Downloading package omw-1.4 to /root/nltk_data...\n"
          ]
        }
      ],
      "source": [
        "# DataFrame\n",
        "import pandas as pd\n",
        "\n",
        "# Matplot\n",
        "import matplotlib.pyplot as plt\n",
        "%matplotlib inline\n",
        "\n",
        "from matplotlib.ticker import MaxNLocator\n",
        "import matplotlib.gridspec as gridspec\n",
        "import matplotlib.patches as mpatches\n",
        "\n",
        "# Scikit-learn\n",
        "from sklearn.model_selection import train_test_split\n",
        "from sklearn.preprocessing import LabelEncoder\n",
        "from sklearn.metrics import confusion_matrix, classification_report, accuracy_score\n",
        "from sklearn.manifold import TSNE\n",
        "from sklearn.feature_extraction.text import CountVectorizer, TfidfVectorizer\n",
        "from sklearn.decomposition import LatentDirichletAllocation, NMF\n",
        "from sklearn.metrics import f1_score, accuracy_score\n",
        "\n",
        "\n",
        "# Keras\n",
        "from keras.preprocessing.text import Tokenizer\n",
        "from keras.preprocessing.sequence import pad_sequences\n",
        "from keras.models import Sequential\n",
        "from keras.layers import Activation, Dense, Dropout, Embedding, Flatten, Conv1D, MaxPooling1D, LSTM, SimpleRNN\n",
        "from keras import utils\n",
        "from keras.callbacks import ReduceLROnPlateau, EarlyStopping\n",
        "\n",
        "# nltk\n",
        "from nltk.corpus import stopwords\n",
        "from nltk.stem import SnowballStemmer\n",
        "import nltk\n",
        "nltk.download('stopwords')\n",
        "nltk.download('punkt')\n",
        "nltk.download('averaged_perceptron_tagger')\n",
        "nltk.download('wordnet')\n",
        "from nltk.corpus import stopwords, wordnet\n",
        "from nltk.stem import WordNetLemmatizer\n",
        "from nltk.tokenize import word_tokenize\n",
        "from nltk.probability import FreqDist\n",
        "import nltk\n",
        "nltk.download('omw-1.4')\n",
        "\n",
        "# Word2vec\n",
        "import gensim\n",
        "from gensim.test.utils import common_texts\n",
        "from gensim.models import Word2Vec\n",
        "\n",
        "\n",
        "# Utility\n",
        "import string\n",
        "import re\n",
        "import numpy as np\n",
        "import os\n",
        "from collections import Counter\n",
        "import logging\n",
        "import time\n",
        "import pickle\n",
        "import itertools\n",
        "import random\n",
        "import datetime\n",
        "\n",
        "# Warnings\n",
        "import warnings\n",
        "warnings.filterwarnings('ignore')\n",
        "\n",
        "# Set log\n",
        "logging.basicConfig(format='%(asctime)s : %(levelname)s : %(message)s', level=logging.INFO)\n"
      ]
    },
    {
      "cell_type": "code",
      "execution_count": 4,
      "id": "821c4a6a",
      "metadata": {
        "execution": {
          "iopub.execute_input": "2022-09-09T20:32:04.396283Z",
          "iopub.status.busy": "2022-09-09T20:32:04.395702Z",
          "iopub.status.idle": "2022-09-09T20:32:05.009269Z",
          "shell.execute_reply": "2022-09-09T20:32:05.007911Z"
        },
        "papermill": {
          "duration": 0.634912,
          "end_time": "2022-09-09T20:32:05.011856",
          "exception": false,
          "start_time": "2022-09-09T20:32:04.376944",
          "status": "completed"
        },
        "tags": [],
        "id": "821c4a6a"
      },
      "outputs": [],
      "source": [
        "df = pd.read_csv(\"Twitter_Data.csv\")\n",
        "df1 = df"
      ]
    },
    {
      "cell_type": "code",
      "execution_count": 5,
      "id": "27d43fbc",
      "metadata": {
        "execution": {
          "iopub.execute_input": "2022-09-09T20:32:05.047469Z",
          "iopub.status.busy": "2022-09-09T20:32:05.047092Z",
          "iopub.status.idle": "2022-09-09T20:32:05.068919Z",
          "shell.execute_reply": "2022-09-09T20:32:05.067617Z"
        },
        "papermill": {
          "duration": 0.042802,
          "end_time": "2022-09-09T20:32:05.071535",
          "exception": false,
          "start_time": "2022-09-09T20:32:05.028733",
          "status": "completed"
        },
        "tags": [],
        "id": "27d43fbc",
        "colab": {
          "base_uri": "https://localhost:8080/",
          "height": 206
        },
        "outputId": "985bdbf4-a30c-47cb-f671-fd1680a23275"
      },
      "outputs": [
        {
          "output_type": "execute_result",
          "data": {
            "text/plain": [
              "                                          clean_text  category\n",
              "0  when modi promised “minimum government maximum...      -1.0\n",
              "1  talk all the nonsense and continue all the dra...       0.0\n",
              "2  what did just say vote for modi  welcome bjp t...       1.0\n",
              "3  asking his supporters prefix chowkidar their n...       1.0\n",
              "4  answer who among these the most powerful world...       1.0"
            ],
            "text/html": [
              "\n",
              "  <div id=\"df-b25185e3-0f55-4829-8112-ed1c8734c332\" class=\"colab-df-container\">\n",
              "    <div>\n",
              "<style scoped>\n",
              "    .dataframe tbody tr th:only-of-type {\n",
              "        vertical-align: middle;\n",
              "    }\n",
              "\n",
              "    .dataframe tbody tr th {\n",
              "        vertical-align: top;\n",
              "    }\n",
              "\n",
              "    .dataframe thead th {\n",
              "        text-align: right;\n",
              "    }\n",
              "</style>\n",
              "<table border=\"1\" class=\"dataframe\">\n",
              "  <thead>\n",
              "    <tr style=\"text-align: right;\">\n",
              "      <th></th>\n",
              "      <th>clean_text</th>\n",
              "      <th>category</th>\n",
              "    </tr>\n",
              "  </thead>\n",
              "  <tbody>\n",
              "    <tr>\n",
              "      <th>0</th>\n",
              "      <td>when modi promised “minimum government maximum...</td>\n",
              "      <td>-1.0</td>\n",
              "    </tr>\n",
              "    <tr>\n",
              "      <th>1</th>\n",
              "      <td>talk all the nonsense and continue all the dra...</td>\n",
              "      <td>0.0</td>\n",
              "    </tr>\n",
              "    <tr>\n",
              "      <th>2</th>\n",
              "      <td>what did just say vote for modi  welcome bjp t...</td>\n",
              "      <td>1.0</td>\n",
              "    </tr>\n",
              "    <tr>\n",
              "      <th>3</th>\n",
              "      <td>asking his supporters prefix chowkidar their n...</td>\n",
              "      <td>1.0</td>\n",
              "    </tr>\n",
              "    <tr>\n",
              "      <th>4</th>\n",
              "      <td>answer who among these the most powerful world...</td>\n",
              "      <td>1.0</td>\n",
              "    </tr>\n",
              "  </tbody>\n",
              "</table>\n",
              "</div>\n",
              "    <div class=\"colab-df-buttons\">\n",
              "\n",
              "  <div class=\"colab-df-container\">\n",
              "    <button class=\"colab-df-convert\" onclick=\"convertToInteractive('df-b25185e3-0f55-4829-8112-ed1c8734c332')\"\n",
              "            title=\"Convert this dataframe to an interactive table.\"\n",
              "            style=\"display:none;\">\n",
              "\n",
              "  <svg xmlns=\"http://www.w3.org/2000/svg\" height=\"24px\" viewBox=\"0 -960 960 960\">\n",
              "    <path d=\"M120-120v-720h720v720H120Zm60-500h600v-160H180v160Zm220 220h160v-160H400v160Zm0 220h160v-160H400v160ZM180-400h160v-160H180v160Zm440 0h160v-160H620v160ZM180-180h160v-160H180v160Zm440 0h160v-160H620v160Z\"/>\n",
              "  </svg>\n",
              "    </button>\n",
              "\n",
              "  <style>\n",
              "    .colab-df-container {\n",
              "      display:flex;\n",
              "      gap: 12px;\n",
              "    }\n",
              "\n",
              "    .colab-df-convert {\n",
              "      background-color: #E8F0FE;\n",
              "      border: none;\n",
              "      border-radius: 50%;\n",
              "      cursor: pointer;\n",
              "      display: none;\n",
              "      fill: #1967D2;\n",
              "      height: 32px;\n",
              "      padding: 0 0 0 0;\n",
              "      width: 32px;\n",
              "    }\n",
              "\n",
              "    .colab-df-convert:hover {\n",
              "      background-color: #E2EBFA;\n",
              "      box-shadow: 0px 1px 2px rgba(60, 64, 67, 0.3), 0px 1px 3px 1px rgba(60, 64, 67, 0.15);\n",
              "      fill: #174EA6;\n",
              "    }\n",
              "\n",
              "    .colab-df-buttons div {\n",
              "      margin-bottom: 4px;\n",
              "    }\n",
              "\n",
              "    [theme=dark] .colab-df-convert {\n",
              "      background-color: #3B4455;\n",
              "      fill: #D2E3FC;\n",
              "    }\n",
              "\n",
              "    [theme=dark] .colab-df-convert:hover {\n",
              "      background-color: #434B5C;\n",
              "      box-shadow: 0px 1px 3px 1px rgba(0, 0, 0, 0.15);\n",
              "      filter: drop-shadow(0px 1px 2px rgba(0, 0, 0, 0.3));\n",
              "      fill: #FFFFFF;\n",
              "    }\n",
              "  </style>\n",
              "\n",
              "    <script>\n",
              "      const buttonEl =\n",
              "        document.querySelector('#df-b25185e3-0f55-4829-8112-ed1c8734c332 button.colab-df-convert');\n",
              "      buttonEl.style.display =\n",
              "        google.colab.kernel.accessAllowed ? 'block' : 'none';\n",
              "\n",
              "      async function convertToInteractive(key) {\n",
              "        const element = document.querySelector('#df-b25185e3-0f55-4829-8112-ed1c8734c332');\n",
              "        const dataTable =\n",
              "          await google.colab.kernel.invokeFunction('convertToInteractive',\n",
              "                                                    [key], {});\n",
              "        if (!dataTable) return;\n",
              "\n",
              "        const docLinkHtml = 'Like what you see? Visit the ' +\n",
              "          '<a target=\"_blank\" href=https://colab.research.google.com/notebooks/data_table.ipynb>data table notebook</a>'\n",
              "          + ' to learn more about interactive tables.';\n",
              "        element.innerHTML = '';\n",
              "        dataTable['output_type'] = 'display_data';\n",
              "        await google.colab.output.renderOutput(dataTable, element);\n",
              "        const docLink = document.createElement('div');\n",
              "        docLink.innerHTML = docLinkHtml;\n",
              "        element.appendChild(docLink);\n",
              "      }\n",
              "    </script>\n",
              "  </div>\n",
              "\n",
              "\n",
              "<div id=\"df-d4767a05-cb87-44fa-a18b-ee2c2192ca72\">\n",
              "  <button class=\"colab-df-quickchart\" onclick=\"quickchart('df-d4767a05-cb87-44fa-a18b-ee2c2192ca72')\"\n",
              "            title=\"Suggest charts\"\n",
              "            style=\"display:none;\">\n",
              "\n",
              "<svg xmlns=\"http://www.w3.org/2000/svg\" height=\"24px\"viewBox=\"0 0 24 24\"\n",
              "     width=\"24px\">\n",
              "    <g>\n",
              "        <path d=\"M19 3H5c-1.1 0-2 .9-2 2v14c0 1.1.9 2 2 2h14c1.1 0 2-.9 2-2V5c0-1.1-.9-2-2-2zM9 17H7v-7h2v7zm4 0h-2V7h2v10zm4 0h-2v-4h2v4z\"/>\n",
              "    </g>\n",
              "</svg>\n",
              "  </button>\n",
              "\n",
              "<style>\n",
              "  .colab-df-quickchart {\n",
              "      --bg-color: #E8F0FE;\n",
              "      --fill-color: #1967D2;\n",
              "      --hover-bg-color: #E2EBFA;\n",
              "      --hover-fill-color: #174EA6;\n",
              "      --disabled-fill-color: #AAA;\n",
              "      --disabled-bg-color: #DDD;\n",
              "  }\n",
              "\n",
              "  [theme=dark] .colab-df-quickchart {\n",
              "      --bg-color: #3B4455;\n",
              "      --fill-color: #D2E3FC;\n",
              "      --hover-bg-color: #434B5C;\n",
              "      --hover-fill-color: #FFFFFF;\n",
              "      --disabled-bg-color: #3B4455;\n",
              "      --disabled-fill-color: #666;\n",
              "  }\n",
              "\n",
              "  .colab-df-quickchart {\n",
              "    background-color: var(--bg-color);\n",
              "    border: none;\n",
              "    border-radius: 50%;\n",
              "    cursor: pointer;\n",
              "    display: none;\n",
              "    fill: var(--fill-color);\n",
              "    height: 32px;\n",
              "    padding: 0;\n",
              "    width: 32px;\n",
              "  }\n",
              "\n",
              "  .colab-df-quickchart:hover {\n",
              "    background-color: var(--hover-bg-color);\n",
              "    box-shadow: 0 1px 2px rgba(60, 64, 67, 0.3), 0 1px 3px 1px rgba(60, 64, 67, 0.15);\n",
              "    fill: var(--button-hover-fill-color);\n",
              "  }\n",
              "\n",
              "  .colab-df-quickchart-complete:disabled,\n",
              "  .colab-df-quickchart-complete:disabled:hover {\n",
              "    background-color: var(--disabled-bg-color);\n",
              "    fill: var(--disabled-fill-color);\n",
              "    box-shadow: none;\n",
              "  }\n",
              "\n",
              "  .colab-df-spinner {\n",
              "    border: 2px solid var(--fill-color);\n",
              "    border-color: transparent;\n",
              "    border-bottom-color: var(--fill-color);\n",
              "    animation:\n",
              "      spin 1s steps(1) infinite;\n",
              "  }\n",
              "\n",
              "  @keyframes spin {\n",
              "    0% {\n",
              "      border-color: transparent;\n",
              "      border-bottom-color: var(--fill-color);\n",
              "      border-left-color: var(--fill-color);\n",
              "    }\n",
              "    20% {\n",
              "      border-color: transparent;\n",
              "      border-left-color: var(--fill-color);\n",
              "      border-top-color: var(--fill-color);\n",
              "    }\n",
              "    30% {\n",
              "      border-color: transparent;\n",
              "      border-left-color: var(--fill-color);\n",
              "      border-top-color: var(--fill-color);\n",
              "      border-right-color: var(--fill-color);\n",
              "    }\n",
              "    40% {\n",
              "      border-color: transparent;\n",
              "      border-right-color: var(--fill-color);\n",
              "      border-top-color: var(--fill-color);\n",
              "    }\n",
              "    60% {\n",
              "      border-color: transparent;\n",
              "      border-right-color: var(--fill-color);\n",
              "    }\n",
              "    80% {\n",
              "      border-color: transparent;\n",
              "      border-right-color: var(--fill-color);\n",
              "      border-bottom-color: var(--fill-color);\n",
              "    }\n",
              "    90% {\n",
              "      border-color: transparent;\n",
              "      border-bottom-color: var(--fill-color);\n",
              "    }\n",
              "  }\n",
              "</style>\n",
              "\n",
              "  <script>\n",
              "    async function quickchart(key) {\n",
              "      const quickchartButtonEl =\n",
              "        document.querySelector('#' + key + ' button');\n",
              "      quickchartButtonEl.disabled = true;  // To prevent multiple clicks.\n",
              "      quickchartButtonEl.classList.add('colab-df-spinner');\n",
              "      try {\n",
              "        const charts = await google.colab.kernel.invokeFunction(\n",
              "            'suggestCharts', [key], {});\n",
              "      } catch (error) {\n",
              "        console.error('Error during call to suggestCharts:', error);\n",
              "      }\n",
              "      quickchartButtonEl.classList.remove('colab-df-spinner');\n",
              "      quickchartButtonEl.classList.add('colab-df-quickchart-complete');\n",
              "    }\n",
              "    (() => {\n",
              "      let quickchartButtonEl =\n",
              "        document.querySelector('#df-d4767a05-cb87-44fa-a18b-ee2c2192ca72 button');\n",
              "      quickchartButtonEl.style.display =\n",
              "        google.colab.kernel.accessAllowed ? 'block' : 'none';\n",
              "    })();\n",
              "  </script>\n",
              "</div>\n",
              "    </div>\n",
              "  </div>\n"
            ]
          },
          "metadata": {},
          "execution_count": 5
        }
      ],
      "source": [
        "df.head(5)"
      ]
    },
    {
      "cell_type": "code",
      "execution_count": 6,
      "id": "62c4b3c6",
      "metadata": {
        "execution": {
          "iopub.execute_input": "2022-09-09T20:32:05.107916Z",
          "iopub.status.busy": "2022-09-09T20:32:05.107563Z",
          "iopub.status.idle": "2022-09-09T20:32:05.126328Z",
          "shell.execute_reply": "2022-09-09T20:32:05.125123Z"
        },
        "papermill": {
          "duration": 0.039882,
          "end_time": "2022-09-09T20:32:05.128464",
          "exception": false,
          "start_time": "2022-09-09T20:32:05.088582",
          "status": "completed"
        },
        "tags": [],
        "id": "62c4b3c6"
      },
      "outputs": [],
      "source": [
        "df = df[df.category != 0.0]"
      ]
    },
    {
      "cell_type": "code",
      "execution_count": 7,
      "id": "aa70c3f4",
      "metadata": {
        "execution": {
          "iopub.execute_input": "2022-09-09T20:32:05.196504Z",
          "iopub.status.busy": "2022-09-09T20:32:05.195958Z",
          "iopub.status.idle": "2022-09-09T20:32:05.293474Z",
          "shell.execute_reply": "2022-09-09T20:32:05.292633Z"
        },
        "papermill": {
          "duration": 0.119022,
          "end_time": "2022-09-09T20:32:05.296627",
          "exception": false,
          "start_time": "2022-09-09T20:32:05.177605",
          "status": "completed"
        },
        "tags": [],
        "id": "aa70c3f4",
        "colab": {
          "base_uri": "https://localhost:8080/"
        },
        "outputId": "2f94bc7c-c7d8-4c16-cc87-55e03c9206a7"
      },
      "outputs": [
        {
          "output_type": "stream",
          "name": "stdout",
          "text": [
            "<class 'pandas.core.frame.DataFrame'>\n",
            "Int64Index: 107767 entries, 0 to 162979\n",
            "Data columns (total 2 columns):\n",
            " #   Column      Non-Null Count   Dtype  \n",
            "---  ------      --------------   -----  \n",
            " 0   clean_text  107765 non-null  object \n",
            " 1   category    107760 non-null  float64\n",
            "dtypes: float64(1), object(1)\n",
            "memory usage: 2.5+ MB\n"
          ]
        }
      ],
      "source": [
        "df.drop_duplicates()\n",
        "df.info()"
      ]
    },
    {
      "cell_type": "code",
      "execution_count": 8,
      "id": "9d7f4a59",
      "metadata": {
        "execution": {
          "iopub.execute_input": "2022-09-09T20:32:05.401261Z",
          "iopub.status.busy": "2022-09-09T20:32:05.400352Z",
          "iopub.status.idle": "2022-09-09T20:32:05.409116Z",
          "shell.execute_reply": "2022-09-09T20:32:05.407322Z"
        },
        "papermill": {
          "duration": 0.028534,
          "end_time": "2022-09-09T20:32:05.411318",
          "exception": false,
          "start_time": "2022-09-09T20:32:05.382784",
          "status": "completed"
        },
        "tags": [],
        "id": "9d7f4a59"
      },
      "outputs": [],
      "source": [
        "DATASET_COLUMNS = [\"clean_text\", \"category\"]\n",
        "DATASET_ENCODING = \"ISO-8859-1\"\n",
        "TRAIN_SIZE = 0.8\n",
        "\n",
        "W2V_SIZE = 300\n",
        "W2V_WINDOW = 7\n",
        "W2V_EPOCH = 32\n",
        "W2V_MIN_COUNT = 10\n",
        "\n",
        "SEQUENCE_LENGTH = 300\n",
        "EPOCHS = 5\n",
        "BATCH_SIZE = 1024\n",
        "\n",
        "POSITIVE = \"POSITIVE\"\n",
        "NEGATIVE = \"NEGATIVE\"\n",
        "NEUTRAL = \"NEUTRAL\"\n",
        "SENTIMENT_THRESHOLDS = (0.4, 0.7)\n",
        "\n",
        "KERAS_MODEL = \"model.h5\"\n",
        "WORD2VEC_MODEL = \"model.w2v\"\n",
        "TOKENIZER_MODEL = \"tokenizer.pkl\"\n",
        "ENCODER_MODEL = \"encoder.pkl\"\n",
        "\n",
        "\n",
        "plt.style.use('fivethirtyeight')\n",
        "pd.options.display.max_columns = 250\n",
        "pd.options.display.max_rows = 250\n"
      ]
    },
    {
      "cell_type": "code",
      "execution_count": 9,
      "id": "56dc0263",
      "metadata": {
        "execution": {
          "iopub.execute_input": "2022-09-09T20:32:05.482784Z",
          "iopub.status.busy": "2022-09-09T20:32:05.482464Z",
          "iopub.status.idle": "2022-09-09T20:32:05.504609Z",
          "shell.execute_reply": "2022-09-09T20:32:05.503694Z"
        },
        "papermill": {
          "duration": 0.04378,
          "end_time": "2022-09-09T20:32:05.506410",
          "exception": false,
          "start_time": "2022-09-09T20:32:05.462630",
          "status": "completed"
        },
        "tags": [],
        "id": "56dc0263",
        "colab": {
          "base_uri": "https://localhost:8080/"
        },
        "outputId": "270a84db-86b1-41e9-eb68-5dae5a741211"
      },
      "outputs": [
        {
          "output_type": "execute_result",
          "data": {
            "text/plain": [
              "clean_text    2\n",
              "category      7\n",
              "dtype: int64"
            ]
          },
          "metadata": {},
          "execution_count": 9
        }
      ],
      "source": [
        "df.isnull().sum()"
      ]
    },
    {
      "cell_type": "code",
      "execution_count": 10,
      "id": "f7fef2a2",
      "metadata": {
        "execution": {
          "iopub.execute_input": "2022-09-09T20:32:05.544669Z",
          "iopub.status.busy": "2022-09-09T20:32:05.543505Z",
          "iopub.status.idle": "2022-09-09T20:32:05.595171Z",
          "shell.execute_reply": "2022-09-09T20:32:05.593967Z"
        },
        "papermill": {
          "duration": 0.073905,
          "end_time": "2022-09-09T20:32:05.598154",
          "exception": false,
          "start_time": "2022-09-09T20:32:05.524249",
          "status": "completed"
        },
        "tags": [],
        "id": "f7fef2a2",
        "colab": {
          "base_uri": "https://localhost:8080/"
        },
        "outputId": "04289911-92ea-4cd7-d6b5-cc647615bc35"
      },
      "outputs": [
        {
          "output_type": "execute_result",
          "data": {
            "text/plain": [
              "clean_text    0\n",
              "category      0\n",
              "dtype: int64"
            ]
          },
          "metadata": {},
          "execution_count": 10
        }
      ],
      "source": [
        "df.dropna(how='any', inplace=True)\n",
        "df.isnull().sum()"
      ]
    },
    {
      "cell_type": "code",
      "execution_count": 11,
      "id": "c2cb7777",
      "metadata": {
        "execution": {
          "iopub.execute_input": "2022-09-09T20:32:05.706064Z",
          "iopub.status.busy": "2022-09-09T20:32:05.705415Z",
          "iopub.status.idle": "2022-09-09T20:32:05.711853Z",
          "shell.execute_reply": "2022-09-09T20:32:05.710321Z"
        },
        "papermill": {
          "duration": 0.02774,
          "end_time": "2022-09-09T20:32:05.713950",
          "exception": false,
          "start_time": "2022-09-09T20:32:05.686210",
          "status": "completed"
        },
        "tags": [],
        "id": "c2cb7777"
      },
      "outputs": [],
      "source": [
        "decode_map = {-1.0: \"NEGATIVE\", 1.0: \"POSITIVE\"}\n",
        "def decode_sentiment(label):\n",
        "    return decode_map[int(label)]"
      ]
    },
    {
      "cell_type": "code",
      "execution_count": 12,
      "id": "25dd1645",
      "metadata": {
        "execution": {
          "iopub.execute_input": "2022-09-09T20:32:05.753917Z",
          "iopub.status.busy": "2022-09-09T20:32:05.753584Z",
          "iopub.status.idle": "2022-09-09T20:32:05.806827Z",
          "shell.execute_reply": "2022-09-09T20:32:05.805337Z"
        },
        "papermill": {
          "duration": 0.07805,
          "end_time": "2022-09-09T20:32:05.810137",
          "exception": false,
          "start_time": "2022-09-09T20:32:05.732087",
          "status": "completed"
        },
        "tags": [],
        "id": "25dd1645",
        "colab": {
          "base_uri": "https://localhost:8080/"
        },
        "outputId": "62d0aaad-eaaa-463c-f54f-5ff753861346"
      },
      "outputs": [
        {
          "output_type": "stream",
          "name": "stdout",
          "text": [
            "CPU times: user 41.6 ms, sys: 2.78 ms, total: 44.4 ms\n",
            "Wall time: 44.3 ms\n"
          ]
        }
      ],
      "source": [
        "%%time\n",
        "df.category = df.category.apply(lambda x: decode_sentiment(x))"
      ]
    },
    {
      "cell_type": "code",
      "execution_count": 13,
      "id": "5c63f8b1",
      "metadata": {
        "execution": {
          "iopub.execute_input": "2022-09-09T20:32:06.147213Z",
          "iopub.status.busy": "2022-09-09T20:32:06.146835Z",
          "iopub.status.idle": "2022-09-09T20:32:06.157239Z",
          "shell.execute_reply": "2022-09-09T20:32:06.155586Z"
        },
        "papermill": {
          "duration": 0.032879,
          "end_time": "2022-09-09T20:32:06.159844",
          "exception": false,
          "start_time": "2022-09-09T20:32:06.126965",
          "status": "completed"
        },
        "tags": [],
        "id": "5c63f8b1"
      },
      "outputs": [],
      "source": [
        "stop_words = set(stopwords.words(\"english\"))\n",
        "stop_words.remove('not')\n",
        "more_stopwords = {'one', 'br', 'Po', 'th', 'sayi', 'fo', 'Unknown'}\n",
        "stop_words = stop_words.union(more_stopwords)\n",
        "\n",
        "stemmer = SnowballStemmer(\"english\")"
      ]
    },
    {
      "cell_type": "code",
      "execution_count": 14,
      "id": "a2abb5d3",
      "metadata": {
        "execution": {
          "iopub.execute_input": "2022-09-09T20:32:06.198137Z",
          "iopub.status.busy": "2022-09-09T20:32:06.197802Z",
          "iopub.status.idle": "2022-09-09T20:32:08.790411Z",
          "shell.execute_reply": "2022-09-09T20:32:08.789058Z"
        },
        "papermill": {
          "duration": 2.614544,
          "end_time": "2022-09-09T20:32:08.792607",
          "exception": false,
          "start_time": "2022-09-09T20:32:06.178063",
          "status": "completed"
        },
        "tags": [],
        "id": "a2abb5d3"
      },
      "outputs": [],
      "source": [
        "def remove_URL(text):\n",
        "    url = re.compile(r'https?://\\S+|www\\.\\S+')\n",
        "    return url.sub(r'', text)\n",
        "\n",
        "\n",
        "def remove_emoji(text):\n",
        "    emoji_pattern = re.compile(\n",
        "        '['\n",
        "        u'\\U0001F600-\\U0001F64F'  # emoticons\n",
        "        u'\\U0001F300-\\U0001F5FF'  # symbols & pictographs\n",
        "        u'\\U0001F680-\\U0001F6FF'  # transport & map symbols\n",
        "        u'\\U0001F1E0-\\U0001F1FF'  # flags (iOS)\n",
        "        u'\\U00002702-\\U000027B0'\n",
        "        u'\\U000024C2-\\U0001F251'\n",
        "        ']+',\n",
        "        flags=re.UNICODE)\n",
        "    return emoji_pattern.sub(r'', text)\n",
        "\n",
        "\n",
        "def remove_html(text):\n",
        "    html = re.compile(r'^[^ ]<.*?>|&([a-z0-9]+|#[0-9]\\\"\\'\\“{1,6}|#x[0-9a-f]{1,6});[^A-Za-z0-9]+')\n",
        "    return re.sub(html, '', text)\n",
        "\n",
        "\n",
        "def remove_punct(text):\n",
        "    table = str.maketrans('', '', string.punctuation)\n",
        "    return text.translate(table)\n",
        "\n",
        "def remove_quotes(text):\n",
        "    quotes = re.compile(r'[^A-Za-z0-9\\s]+')\n",
        "    return re.sub(quotes, '', text)\n",
        "\n",
        "\n",
        "# Applying helper functions\n",
        "\n",
        "df['mod_text'] = df['clean_text'].apply(lambda x: remove_URL(x))\n",
        "df['mod_text'] = df['mod_text'].apply(lambda x: remove_emoji(x))\n",
        "df['mod_text'] = df['mod_text'].apply(lambda x: remove_html(x))\n",
        "df['mod_text'] = df['mod_text'].apply(lambda x: remove_punct(x))\n",
        "df['mod_text'] = df['mod_text'].apply(lambda x: remove_quotes(x))"
      ]
    },
    {
      "cell_type": "code",
      "execution_count": 15,
      "id": "4ad56e65",
      "metadata": {
        "execution": {
          "iopub.execute_input": "2022-09-09T20:32:08.828408Z",
          "iopub.status.busy": "2022-09-09T20:32:08.828055Z",
          "iopub.status.idle": "2022-09-09T20:32:24.255505Z",
          "shell.execute_reply": "2022-09-09T20:32:24.254640Z"
        },
        "papermill": {
          "duration": 15.448349,
          "end_time": "2022-09-09T20:32:24.257860",
          "exception": false,
          "start_time": "2022-09-09T20:32:08.809511",
          "status": "completed"
        },
        "tags": [],
        "id": "4ad56e65"
      },
      "outputs": [],
      "source": [
        "df['tokenized'] = df['mod_text'].apply(word_tokenize)"
      ]
    },
    {
      "cell_type": "code",
      "execution_count": 16,
      "id": "3743d3ef",
      "metadata": {
        "execution": {
          "iopub.execute_input": "2022-09-09T20:32:24.298368Z",
          "iopub.status.busy": "2022-09-09T20:32:24.296703Z",
          "iopub.status.idle": "2022-09-09T20:32:25.084723Z",
          "shell.execute_reply": "2022-09-09T20:32:25.083407Z"
        },
        "papermill": {
          "duration": 0.810515,
          "end_time": "2022-09-09T20:32:25.087054",
          "exception": false,
          "start_time": "2022-09-09T20:32:24.276539",
          "status": "completed"
        },
        "tags": [],
        "id": "3743d3ef"
      },
      "outputs": [],
      "source": [
        "# Lower casing clean text.\n",
        "\n",
        "df['lower'] = df['tokenized'].apply(\n",
        "    lambda x: [word.lower() for word in x])"
      ]
    },
    {
      "cell_type": "code",
      "execution_count": 17,
      "id": "25a1afdf",
      "metadata": {
        "execution": {
          "iopub.execute_input": "2022-09-09T20:32:25.126542Z",
          "iopub.status.busy": "2022-09-09T20:32:25.126214Z",
          "iopub.status.idle": "2022-09-09T20:32:25.545947Z",
          "shell.execute_reply": "2022-09-09T20:32:25.544507Z"
        },
        "papermill": {
          "duration": 0.442681,
          "end_time": "2022-09-09T20:32:25.548618",
          "exception": false,
          "start_time": "2022-09-09T20:32:25.105937",
          "status": "completed"
        },
        "tags": [],
        "id": "25a1afdf"
      },
      "outputs": [],
      "source": [
        "# Removing stopwords.\n",
        "\n",
        "df['stopwords_removed'] = df['lower'].apply(\n",
        "    lambda x: [word for word in x if word not in stop_words])"
      ]
    },
    {
      "cell_type": "code",
      "execution_count": 18,
      "id": "52bd2c1e",
      "metadata": {
        "execution": {
          "iopub.execute_input": "2022-09-09T20:32:25.589289Z",
          "iopub.status.busy": "2022-09-09T20:32:25.588906Z",
          "iopub.status.idle": "2022-09-09T20:34:21.566496Z",
          "shell.execute_reply": "2022-09-09T20:34:21.565576Z"
        },
        "papermill": {
          "duration": 116.018941,
          "end_time": "2022-09-09T20:34:21.587225",
          "exception": false,
          "start_time": "2022-09-09T20:32:25.568284",
          "status": "completed"
        },
        "tags": [],
        "id": "52bd2c1e"
      },
      "outputs": [],
      "source": [
        "# Applying part of speech tags.\n",
        "\n",
        "df['pos_tags'] = df['stopwords_removed'].apply(nltk.tag.pos_tag)"
      ]
    },
    {
      "cell_type": "code",
      "execution_count": 19,
      "id": "fe5510ef",
      "metadata": {
        "execution": {
          "iopub.execute_input": "2022-09-09T20:34:21.629654Z",
          "iopub.status.busy": "2022-09-09T20:34:21.629250Z",
          "iopub.status.idle": "2022-09-09T20:34:25.197460Z",
          "shell.execute_reply": "2022-09-09T20:34:25.196510Z"
        },
        "papermill": {
          "duration": 3.592393,
          "end_time": "2022-09-09T20:34:25.199768",
          "exception": false,
          "start_time": "2022-09-09T20:34:21.607375",
          "status": "completed"
        },
        "tags": [],
        "id": "fe5510ef"
      },
      "outputs": [],
      "source": [
        "def get_wordnet_pos(tag):\n",
        "    if tag.startswith('J'):\n",
        "        return wordnet.ADJ\n",
        "    elif tag.startswith('V'):\n",
        "        return wordnet.VERB\n",
        "    elif tag.startswith('N'):\n",
        "        return wordnet.NOUN\n",
        "    elif tag.startswith('R'):\n",
        "        return wordnet.ADV\n",
        "    else:\n",
        "        return wordnet.NOUN\n",
        "\n",
        "\n",
        "df['wordnet_pos'] = df['pos_tags'].apply(\n",
        "    lambda x: [(word, get_wordnet_pos(pos_tag)) for (word, pos_tag) in x])"
      ]
    },
    {
      "cell_type": "code",
      "execution_count": 20,
      "id": "3b4b1e63",
      "metadata": {
        "execution": {
          "iopub.execute_input": "2022-09-09T20:34:25.241791Z",
          "iopub.status.busy": "2022-09-09T20:34:25.241433Z",
          "iopub.status.idle": "2022-09-09T20:34:33.644082Z",
          "shell.execute_reply": "2022-09-09T20:34:33.643077Z"
        },
        "papermill": {
          "duration": 8.42579,
          "end_time": "2022-09-09T20:34:33.645894",
          "exception": false,
          "start_time": "2022-09-09T20:34:25.220104",
          "status": "completed"
        },
        "tags": [],
        "id": "3b4b1e63"
      },
      "outputs": [],
      "source": [
        "# Applying word lemmatizer.\n",
        "\n",
        "wnl = WordNetLemmatizer()\n",
        "\n",
        "df['lemmatized'] = df['wordnet_pos'].apply(\n",
        "    lambda x: [wnl.lemmatize(word, tag) for word, tag in x])\n",
        "\n",
        "df['lemmatized'] = df['lemmatized'].apply(\n",
        "    lambda x: [word for word in x if word not in stop_words])\n",
        "\n",
        "df['Final'] = [' '.join(map(str, l)) for l in df['lemmatized']]"
      ]
    },
    {
      "cell_type": "code",
      "execution_count": 21,
      "id": "f30be958",
      "metadata": {
        "execution": {
          "iopub.execute_input": "2022-09-09T20:34:33.689489Z",
          "iopub.status.busy": "2022-09-09T20:34:33.688878Z",
          "iopub.status.idle": "2022-09-09T20:34:33.694871Z",
          "shell.execute_reply": "2022-09-09T20:34:33.693218Z"
        },
        "papermill": {
          "duration": 0.031225,
          "end_time": "2022-09-09T20:34:33.697794",
          "exception": false,
          "start_time": "2022-09-09T20:34:33.666569",
          "status": "completed"
        },
        "tags": [],
        "id": "f30be958",
        "colab": {
          "base_uri": "https://localhost:8080/"
        },
        "outputId": "35ab8778-9253-4205-dd85-ce698670d83b"
      },
      "outputs": [
        {
          "output_type": "stream",
          "name": "stdout",
          "text": [
            "Total Rows = 107758\n"
          ]
        }
      ],
      "source": [
        "print(\"Total Rows =\", len(df.clean_text))"
      ]
    },
    {
      "cell_type": "code",
      "execution_count": 22,
      "id": "b4c2473a",
      "metadata": {
        "execution": {
          "iopub.execute_input": "2022-09-09T20:34:33.753846Z",
          "iopub.status.busy": "2022-09-09T20:34:33.753427Z",
          "iopub.status.idle": "2022-09-09T20:34:33.832206Z",
          "shell.execute_reply": "2022-09-09T20:34:33.830449Z"
        },
        "papermill": {
          "duration": 0.111766,
          "end_time": "2022-09-09T20:34:33.834908",
          "exception": false,
          "start_time": "2022-09-09T20:34:33.723142",
          "status": "completed"
        },
        "tags": [],
        "id": "b4c2473a",
        "colab": {
          "base_uri": "https://localhost:8080/",
          "height": 431
        },
        "outputId": "24551943-1085-47f7-b576-be6961ccf593"
      },
      "outputs": [
        {
          "output_type": "execute_result",
          "data": {
            "text/plain": [
              "                                          clean_text  category  \\\n",
              "0  when modi promised “minimum government maximum...  NEGATIVE   \n",
              "2  what did just say vote for modi  welcome bjp t...  POSITIVE   \n",
              "3  asking his supporters prefix chowkidar their n...  POSITIVE   \n",
              "4  answer who among these the most powerful world...  POSITIVE   \n",
              "8  with upcoming election india saga going import...  POSITIVE   \n",
              "\n",
              "                                            mod_text  \\\n",
              "0  when modi promised minimum government maximum ...   \n",
              "2  what did just say vote for modi  welcome bjp t...   \n",
              "3  asking his supporters prefix chowkidar their n...   \n",
              "4  answer who among these the most powerful world...   \n",
              "8  with upcoming election india saga going import...   \n",
              "\n",
              "                                           tokenized  \\\n",
              "0  [when, modi, promised, minimum, government, ma...   \n",
              "2  [what, did, just, say, vote, for, modi, welcom...   \n",
              "3  [asking, his, supporters, prefix, chowkidar, t...   \n",
              "4  [answer, who, among, these, the, most, powerfu...   \n",
              "8  [with, upcoming, election, india, saga, going,...   \n",
              "\n",
              "                                               lower  \\\n",
              "0  [when, modi, promised, minimum, government, ma...   \n",
              "2  [what, did, just, say, vote, for, modi, welcom...   \n",
              "3  [asking, his, supporters, prefix, chowkidar, t...   \n",
              "4  [answer, who, among, these, the, most, powerfu...   \n",
              "8  [with, upcoming, election, india, saga, going,...   \n",
              "\n",
              "                                   stopwords_removed  \\\n",
              "0  [modi, promised, minimum, government, maximum,...   \n",
              "2  [say, vote, modi, welcome, bjp, told, rahul, m...   \n",
              "3  [asking, supporters, prefix, chowkidar, names,...   \n",
              "4  [answer, among, powerful, world, leader, today...   \n",
              "8  [upcoming, election, india, saga, going, impor...   \n",
              "\n",
              "                                            pos_tags  \\\n",
              "0  [(modi, NNS), (promised, VBD), (minimum, JJ), ...   \n",
              "2  [(say, VB), (vote, NN), (modi, FW), (welcome, ...   \n",
              "3  [(asking, VBG), (supporters, NNS), (prefix, VB...   \n",
              "4  [(answer, NN), (among, IN), (powerful, JJ), (w...   \n",
              "8  [(upcoming, JJ), (election, NN), (india, NN), ...   \n",
              "\n",
              "                                         wordnet_pos  \\\n",
              "0  [(modi, n), (promised, v), (minimum, a), (gove...   \n",
              "2  [(say, v), (vote, n), (modi, n), (welcome, a),...   \n",
              "3  [(asking, v), (supporters, n), (prefix, v), (c...   \n",
              "4  [(answer, n), (among, n), (powerful, a), (worl...   \n",
              "8  [(upcoming, a), (election, n), (india, n), (sa...   \n",
              "\n",
              "                                          lemmatized  \\\n",
              "0  [modi, promise, minimum, government, maximum, ...   \n",
              "2  [say, vote, modi, welcome, bjp, tell, rahul, m...   \n",
              "3  [ask, supporter, prefix, chowkidar, name, modi...   \n",
              "4  [answer, among, powerful, world, leader, today...   \n",
              "8  [upcoming, election, india, saga, go, importan...   \n",
              "\n",
              "                                               Final  \n",
              "0  modi promise minimum government maximum govern...  \n",
              "2  say vote modi welcome bjp tell rahul main camp...  \n",
              "3  ask supporter prefix chowkidar name modi great...  \n",
              "4  answer among powerful world leader today trump...  \n",
              "8  upcoming election india saga go important pair...  "
            ],
            "text/html": [
              "\n",
              "  <div id=\"df-938acc5d-8d76-4bc5-ab0b-7de04f1ffe73\" class=\"colab-df-container\">\n",
              "    <div>\n",
              "<style scoped>\n",
              "    .dataframe tbody tr th:only-of-type {\n",
              "        vertical-align: middle;\n",
              "    }\n",
              "\n",
              "    .dataframe tbody tr th {\n",
              "        vertical-align: top;\n",
              "    }\n",
              "\n",
              "    .dataframe thead th {\n",
              "        text-align: right;\n",
              "    }\n",
              "</style>\n",
              "<table border=\"1\" class=\"dataframe\">\n",
              "  <thead>\n",
              "    <tr style=\"text-align: right;\">\n",
              "      <th></th>\n",
              "      <th>clean_text</th>\n",
              "      <th>category</th>\n",
              "      <th>mod_text</th>\n",
              "      <th>tokenized</th>\n",
              "      <th>lower</th>\n",
              "      <th>stopwords_removed</th>\n",
              "      <th>pos_tags</th>\n",
              "      <th>wordnet_pos</th>\n",
              "      <th>lemmatized</th>\n",
              "      <th>Final</th>\n",
              "    </tr>\n",
              "  </thead>\n",
              "  <tbody>\n",
              "    <tr>\n",
              "      <th>0</th>\n",
              "      <td>when modi promised “minimum government maximum...</td>\n",
              "      <td>NEGATIVE</td>\n",
              "      <td>when modi promised minimum government maximum ...</td>\n",
              "      <td>[when, modi, promised, minimum, government, ma...</td>\n",
              "      <td>[when, modi, promised, minimum, government, ma...</td>\n",
              "      <td>[modi, promised, minimum, government, maximum,...</td>\n",
              "      <td>[(modi, NNS), (promised, VBD), (minimum, JJ), ...</td>\n",
              "      <td>[(modi, n), (promised, v), (minimum, a), (gove...</td>\n",
              "      <td>[modi, promise, minimum, government, maximum, ...</td>\n",
              "      <td>modi promise minimum government maximum govern...</td>\n",
              "    </tr>\n",
              "    <tr>\n",
              "      <th>2</th>\n",
              "      <td>what did just say vote for modi  welcome bjp t...</td>\n",
              "      <td>POSITIVE</td>\n",
              "      <td>what did just say vote for modi  welcome bjp t...</td>\n",
              "      <td>[what, did, just, say, vote, for, modi, welcom...</td>\n",
              "      <td>[what, did, just, say, vote, for, modi, welcom...</td>\n",
              "      <td>[say, vote, modi, welcome, bjp, told, rahul, m...</td>\n",
              "      <td>[(say, VB), (vote, NN), (modi, FW), (welcome, ...</td>\n",
              "      <td>[(say, v), (vote, n), (modi, n), (welcome, a),...</td>\n",
              "      <td>[say, vote, modi, welcome, bjp, tell, rahul, m...</td>\n",
              "      <td>say vote modi welcome bjp tell rahul main camp...</td>\n",
              "    </tr>\n",
              "    <tr>\n",
              "      <th>3</th>\n",
              "      <td>asking his supporters prefix chowkidar their n...</td>\n",
              "      <td>POSITIVE</td>\n",
              "      <td>asking his supporters prefix chowkidar their n...</td>\n",
              "      <td>[asking, his, supporters, prefix, chowkidar, t...</td>\n",
              "      <td>[asking, his, supporters, prefix, chowkidar, t...</td>\n",
              "      <td>[asking, supporters, prefix, chowkidar, names,...</td>\n",
              "      <td>[(asking, VBG), (supporters, NNS), (prefix, VB...</td>\n",
              "      <td>[(asking, v), (supporters, n), (prefix, v), (c...</td>\n",
              "      <td>[ask, supporter, prefix, chowkidar, name, modi...</td>\n",
              "      <td>ask supporter prefix chowkidar name modi great...</td>\n",
              "    </tr>\n",
              "    <tr>\n",
              "      <th>4</th>\n",
              "      <td>answer who among these the most powerful world...</td>\n",
              "      <td>POSITIVE</td>\n",
              "      <td>answer who among these the most powerful world...</td>\n",
              "      <td>[answer, who, among, these, the, most, powerfu...</td>\n",
              "      <td>[answer, who, among, these, the, most, powerfu...</td>\n",
              "      <td>[answer, among, powerful, world, leader, today...</td>\n",
              "      <td>[(answer, NN), (among, IN), (powerful, JJ), (w...</td>\n",
              "      <td>[(answer, n), (among, n), (powerful, a), (worl...</td>\n",
              "      <td>[answer, among, powerful, world, leader, today...</td>\n",
              "      <td>answer among powerful world leader today trump...</td>\n",
              "    </tr>\n",
              "    <tr>\n",
              "      <th>8</th>\n",
              "      <td>with upcoming election india saga going import...</td>\n",
              "      <td>POSITIVE</td>\n",
              "      <td>with upcoming election india saga going import...</td>\n",
              "      <td>[with, upcoming, election, india, saga, going,...</td>\n",
              "      <td>[with, upcoming, election, india, saga, going,...</td>\n",
              "      <td>[upcoming, election, india, saga, going, impor...</td>\n",
              "      <td>[(upcoming, JJ), (election, NN), (india, NN), ...</td>\n",
              "      <td>[(upcoming, a), (election, n), (india, n), (sa...</td>\n",
              "      <td>[upcoming, election, india, saga, go, importan...</td>\n",
              "      <td>upcoming election india saga go important pair...</td>\n",
              "    </tr>\n",
              "  </tbody>\n",
              "</table>\n",
              "</div>\n",
              "    <div class=\"colab-df-buttons\">\n",
              "\n",
              "  <div class=\"colab-df-container\">\n",
              "    <button class=\"colab-df-convert\" onclick=\"convertToInteractive('df-938acc5d-8d76-4bc5-ab0b-7de04f1ffe73')\"\n",
              "            title=\"Convert this dataframe to an interactive table.\"\n",
              "            style=\"display:none;\">\n",
              "\n",
              "  <svg xmlns=\"http://www.w3.org/2000/svg\" height=\"24px\" viewBox=\"0 -960 960 960\">\n",
              "    <path d=\"M120-120v-720h720v720H120Zm60-500h600v-160H180v160Zm220 220h160v-160H400v160Zm0 220h160v-160H400v160ZM180-400h160v-160H180v160Zm440 0h160v-160H620v160ZM180-180h160v-160H180v160Zm440 0h160v-160H620v160Z\"/>\n",
              "  </svg>\n",
              "    </button>\n",
              "\n",
              "  <style>\n",
              "    .colab-df-container {\n",
              "      display:flex;\n",
              "      gap: 12px;\n",
              "    }\n",
              "\n",
              "    .colab-df-convert {\n",
              "      background-color: #E8F0FE;\n",
              "      border: none;\n",
              "      border-radius: 50%;\n",
              "      cursor: pointer;\n",
              "      display: none;\n",
              "      fill: #1967D2;\n",
              "      height: 32px;\n",
              "      padding: 0 0 0 0;\n",
              "      width: 32px;\n",
              "    }\n",
              "\n",
              "    .colab-df-convert:hover {\n",
              "      background-color: #E2EBFA;\n",
              "      box-shadow: 0px 1px 2px rgba(60, 64, 67, 0.3), 0px 1px 3px 1px rgba(60, 64, 67, 0.15);\n",
              "      fill: #174EA6;\n",
              "    }\n",
              "\n",
              "    .colab-df-buttons div {\n",
              "      margin-bottom: 4px;\n",
              "    }\n",
              "\n",
              "    [theme=dark] .colab-df-convert {\n",
              "      background-color: #3B4455;\n",
              "      fill: #D2E3FC;\n",
              "    }\n",
              "\n",
              "    [theme=dark] .colab-df-convert:hover {\n",
              "      background-color: #434B5C;\n",
              "      box-shadow: 0px 1px 3px 1px rgba(0, 0, 0, 0.15);\n",
              "      filter: drop-shadow(0px 1px 2px rgba(0, 0, 0, 0.3));\n",
              "      fill: #FFFFFF;\n",
              "    }\n",
              "  </style>\n",
              "\n",
              "    <script>\n",
              "      const buttonEl =\n",
              "        document.querySelector('#df-938acc5d-8d76-4bc5-ab0b-7de04f1ffe73 button.colab-df-convert');\n",
              "      buttonEl.style.display =\n",
              "        google.colab.kernel.accessAllowed ? 'block' : 'none';\n",
              "\n",
              "      async function convertToInteractive(key) {\n",
              "        const element = document.querySelector('#df-938acc5d-8d76-4bc5-ab0b-7de04f1ffe73');\n",
              "        const dataTable =\n",
              "          await google.colab.kernel.invokeFunction('convertToInteractive',\n",
              "                                                    [key], {});\n",
              "        if (!dataTable) return;\n",
              "\n",
              "        const docLinkHtml = 'Like what you see? Visit the ' +\n",
              "          '<a target=\"_blank\" href=https://colab.research.google.com/notebooks/data_table.ipynb>data table notebook</a>'\n",
              "          + ' to learn more about interactive tables.';\n",
              "        element.innerHTML = '';\n",
              "        dataTable['output_type'] = 'display_data';\n",
              "        await google.colab.output.renderOutput(dataTable, element);\n",
              "        const docLink = document.createElement('div');\n",
              "        docLink.innerHTML = docLinkHtml;\n",
              "        element.appendChild(docLink);\n",
              "      }\n",
              "    </script>\n",
              "  </div>\n",
              "\n",
              "\n",
              "<div id=\"df-83227c78-e2ae-47cf-93ab-78c421d85941\">\n",
              "  <button class=\"colab-df-quickchart\" onclick=\"quickchart('df-83227c78-e2ae-47cf-93ab-78c421d85941')\"\n",
              "            title=\"Suggest charts\"\n",
              "            style=\"display:none;\">\n",
              "\n",
              "<svg xmlns=\"http://www.w3.org/2000/svg\" height=\"24px\"viewBox=\"0 0 24 24\"\n",
              "     width=\"24px\">\n",
              "    <g>\n",
              "        <path d=\"M19 3H5c-1.1 0-2 .9-2 2v14c0 1.1.9 2 2 2h14c1.1 0 2-.9 2-2V5c0-1.1-.9-2-2-2zM9 17H7v-7h2v7zm4 0h-2V7h2v10zm4 0h-2v-4h2v4z\"/>\n",
              "    </g>\n",
              "</svg>\n",
              "  </button>\n",
              "\n",
              "<style>\n",
              "  .colab-df-quickchart {\n",
              "      --bg-color: #E8F0FE;\n",
              "      --fill-color: #1967D2;\n",
              "      --hover-bg-color: #E2EBFA;\n",
              "      --hover-fill-color: #174EA6;\n",
              "      --disabled-fill-color: #AAA;\n",
              "      --disabled-bg-color: #DDD;\n",
              "  }\n",
              "\n",
              "  [theme=dark] .colab-df-quickchart {\n",
              "      --bg-color: #3B4455;\n",
              "      --fill-color: #D2E3FC;\n",
              "      --hover-bg-color: #434B5C;\n",
              "      --hover-fill-color: #FFFFFF;\n",
              "      --disabled-bg-color: #3B4455;\n",
              "      --disabled-fill-color: #666;\n",
              "  }\n",
              "\n",
              "  .colab-df-quickchart {\n",
              "    background-color: var(--bg-color);\n",
              "    border: none;\n",
              "    border-radius: 50%;\n",
              "    cursor: pointer;\n",
              "    display: none;\n",
              "    fill: var(--fill-color);\n",
              "    height: 32px;\n",
              "    padding: 0;\n",
              "    width: 32px;\n",
              "  }\n",
              "\n",
              "  .colab-df-quickchart:hover {\n",
              "    background-color: var(--hover-bg-color);\n",
              "    box-shadow: 0 1px 2px rgba(60, 64, 67, 0.3), 0 1px 3px 1px rgba(60, 64, 67, 0.15);\n",
              "    fill: var(--button-hover-fill-color);\n",
              "  }\n",
              "\n",
              "  .colab-df-quickchart-complete:disabled,\n",
              "  .colab-df-quickchart-complete:disabled:hover {\n",
              "    background-color: var(--disabled-bg-color);\n",
              "    fill: var(--disabled-fill-color);\n",
              "    box-shadow: none;\n",
              "  }\n",
              "\n",
              "  .colab-df-spinner {\n",
              "    border: 2px solid var(--fill-color);\n",
              "    border-color: transparent;\n",
              "    border-bottom-color: var(--fill-color);\n",
              "    animation:\n",
              "      spin 1s steps(1) infinite;\n",
              "  }\n",
              "\n",
              "  @keyframes spin {\n",
              "    0% {\n",
              "      border-color: transparent;\n",
              "      border-bottom-color: var(--fill-color);\n",
              "      border-left-color: var(--fill-color);\n",
              "    }\n",
              "    20% {\n",
              "      border-color: transparent;\n",
              "      border-left-color: var(--fill-color);\n",
              "      border-top-color: var(--fill-color);\n",
              "    }\n",
              "    30% {\n",
              "      border-color: transparent;\n",
              "      border-left-color: var(--fill-color);\n",
              "      border-top-color: var(--fill-color);\n",
              "      border-right-color: var(--fill-color);\n",
              "    }\n",
              "    40% {\n",
              "      border-color: transparent;\n",
              "      border-right-color: var(--fill-color);\n",
              "      border-top-color: var(--fill-color);\n",
              "    }\n",
              "    60% {\n",
              "      border-color: transparent;\n",
              "      border-right-color: var(--fill-color);\n",
              "    }\n",
              "    80% {\n",
              "      border-color: transparent;\n",
              "      border-right-color: var(--fill-color);\n",
              "      border-bottom-color: var(--fill-color);\n",
              "    }\n",
              "    90% {\n",
              "      border-color: transparent;\n",
              "      border-bottom-color: var(--fill-color);\n",
              "    }\n",
              "  }\n",
              "</style>\n",
              "\n",
              "  <script>\n",
              "    async function quickchart(key) {\n",
              "      const quickchartButtonEl =\n",
              "        document.querySelector('#' + key + ' button');\n",
              "      quickchartButtonEl.disabled = true;  // To prevent multiple clicks.\n",
              "      quickchartButtonEl.classList.add('colab-df-spinner');\n",
              "      try {\n",
              "        const charts = await google.colab.kernel.invokeFunction(\n",
              "            'suggestCharts', [key], {});\n",
              "      } catch (error) {\n",
              "        console.error('Error during call to suggestCharts:', error);\n",
              "      }\n",
              "      quickchartButtonEl.classList.remove('colab-df-spinner');\n",
              "      quickchartButtonEl.classList.add('colab-df-quickchart-complete');\n",
              "    }\n",
              "    (() => {\n",
              "      let quickchartButtonEl =\n",
              "        document.querySelector('#df-83227c78-e2ae-47cf-93ab-78c421d85941 button');\n",
              "      quickchartButtonEl.style.display =\n",
              "        google.colab.kernel.accessAllowed ? 'block' : 'none';\n",
              "    })();\n",
              "  </script>\n",
              "</div>\n",
              "    </div>\n",
              "  </div>\n"
            ]
          },
          "metadata": {},
          "execution_count": 22
        }
      ],
      "source": [
        "df.head()"
      ]
    },
    {
      "cell_type": "code",
      "execution_count": 23,
      "id": "21a0c8c5",
      "metadata": {
        "execution": {
          "iopub.execute_input": "2022-09-09T20:34:33.881349Z",
          "iopub.status.busy": "2022-09-09T20:34:33.880984Z",
          "iopub.status.idle": "2022-09-09T20:34:33.946973Z",
          "shell.execute_reply": "2022-09-09T20:34:33.945094Z"
        },
        "papermill": {
          "duration": 0.092661,
          "end_time": "2022-09-09T20:34:33.949535",
          "exception": false,
          "start_time": "2022-09-09T20:34:33.856874",
          "status": "completed"
        },
        "tags": [],
        "id": "21a0c8c5",
        "colab": {
          "base_uri": "https://localhost:8080/",
          "height": 206
        },
        "outputId": "505a09e4-f947-4b42-de66-52afd73cb68f"
      },
      "outputs": [
        {
          "output_type": "execute_result",
          "data": {
            "text/plain": [
              "                                               Final  category\n",
              "0  modi promise minimum government maximum govern...  NEGATIVE\n",
              "2  say vote modi welcome bjp tell rahul main camp...  POSITIVE\n",
              "3  ask supporter prefix chowkidar name modi great...  POSITIVE\n",
              "4  answer among powerful world leader today trump...  POSITIVE\n",
              "8  upcoming election india saga go important pair...  POSITIVE"
            ],
            "text/html": [
              "\n",
              "  <div id=\"df-54cc08a0-5819-4061-a6bf-abda901f84b3\" class=\"colab-df-container\">\n",
              "    <div>\n",
              "<style scoped>\n",
              "    .dataframe tbody tr th:only-of-type {\n",
              "        vertical-align: middle;\n",
              "    }\n",
              "\n",
              "    .dataframe tbody tr th {\n",
              "        vertical-align: top;\n",
              "    }\n",
              "\n",
              "    .dataframe thead th {\n",
              "        text-align: right;\n",
              "    }\n",
              "</style>\n",
              "<table border=\"1\" class=\"dataframe\">\n",
              "  <thead>\n",
              "    <tr style=\"text-align: right;\">\n",
              "      <th></th>\n",
              "      <th>Final</th>\n",
              "      <th>category</th>\n",
              "    </tr>\n",
              "  </thead>\n",
              "  <tbody>\n",
              "    <tr>\n",
              "      <th>0</th>\n",
              "      <td>modi promise minimum government maximum govern...</td>\n",
              "      <td>NEGATIVE</td>\n",
              "    </tr>\n",
              "    <tr>\n",
              "      <th>2</th>\n",
              "      <td>say vote modi welcome bjp tell rahul main camp...</td>\n",
              "      <td>POSITIVE</td>\n",
              "    </tr>\n",
              "    <tr>\n",
              "      <th>3</th>\n",
              "      <td>ask supporter prefix chowkidar name modi great...</td>\n",
              "      <td>POSITIVE</td>\n",
              "    </tr>\n",
              "    <tr>\n",
              "      <th>4</th>\n",
              "      <td>answer among powerful world leader today trump...</td>\n",
              "      <td>POSITIVE</td>\n",
              "    </tr>\n",
              "    <tr>\n",
              "      <th>8</th>\n",
              "      <td>upcoming election india saga go important pair...</td>\n",
              "      <td>POSITIVE</td>\n",
              "    </tr>\n",
              "  </tbody>\n",
              "</table>\n",
              "</div>\n",
              "    <div class=\"colab-df-buttons\">\n",
              "\n",
              "  <div class=\"colab-df-container\">\n",
              "    <button class=\"colab-df-convert\" onclick=\"convertToInteractive('df-54cc08a0-5819-4061-a6bf-abda901f84b3')\"\n",
              "            title=\"Convert this dataframe to an interactive table.\"\n",
              "            style=\"display:none;\">\n",
              "\n",
              "  <svg xmlns=\"http://www.w3.org/2000/svg\" height=\"24px\" viewBox=\"0 -960 960 960\">\n",
              "    <path d=\"M120-120v-720h720v720H120Zm60-500h600v-160H180v160Zm220 220h160v-160H400v160Zm0 220h160v-160H400v160ZM180-400h160v-160H180v160Zm440 0h160v-160H620v160ZM180-180h160v-160H180v160Zm440 0h160v-160H620v160Z\"/>\n",
              "  </svg>\n",
              "    </button>\n",
              "\n",
              "  <style>\n",
              "    .colab-df-container {\n",
              "      display:flex;\n",
              "      gap: 12px;\n",
              "    }\n",
              "\n",
              "    .colab-df-convert {\n",
              "      background-color: #E8F0FE;\n",
              "      border: none;\n",
              "      border-radius: 50%;\n",
              "      cursor: pointer;\n",
              "      display: none;\n",
              "      fill: #1967D2;\n",
              "      height: 32px;\n",
              "      padding: 0 0 0 0;\n",
              "      width: 32px;\n",
              "    }\n",
              "\n",
              "    .colab-df-convert:hover {\n",
              "      background-color: #E2EBFA;\n",
              "      box-shadow: 0px 1px 2px rgba(60, 64, 67, 0.3), 0px 1px 3px 1px rgba(60, 64, 67, 0.15);\n",
              "      fill: #174EA6;\n",
              "    }\n",
              "\n",
              "    .colab-df-buttons div {\n",
              "      margin-bottom: 4px;\n",
              "    }\n",
              "\n",
              "    [theme=dark] .colab-df-convert {\n",
              "      background-color: #3B4455;\n",
              "      fill: #D2E3FC;\n",
              "    }\n",
              "\n",
              "    [theme=dark] .colab-df-convert:hover {\n",
              "      background-color: #434B5C;\n",
              "      box-shadow: 0px 1px 3px 1px rgba(0, 0, 0, 0.15);\n",
              "      filter: drop-shadow(0px 1px 2px rgba(0, 0, 0, 0.3));\n",
              "      fill: #FFFFFF;\n",
              "    }\n",
              "  </style>\n",
              "\n",
              "    <script>\n",
              "      const buttonEl =\n",
              "        document.querySelector('#df-54cc08a0-5819-4061-a6bf-abda901f84b3 button.colab-df-convert');\n",
              "      buttonEl.style.display =\n",
              "        google.colab.kernel.accessAllowed ? 'block' : 'none';\n",
              "\n",
              "      async function convertToInteractive(key) {\n",
              "        const element = document.querySelector('#df-54cc08a0-5819-4061-a6bf-abda901f84b3');\n",
              "        const dataTable =\n",
              "          await google.colab.kernel.invokeFunction('convertToInteractive',\n",
              "                                                    [key], {});\n",
              "        if (!dataTable) return;\n",
              "\n",
              "        const docLinkHtml = 'Like what you see? Visit the ' +\n",
              "          '<a target=\"_blank\" href=https://colab.research.google.com/notebooks/data_table.ipynb>data table notebook</a>'\n",
              "          + ' to learn more about interactive tables.';\n",
              "        element.innerHTML = '';\n",
              "        dataTable['output_type'] = 'display_data';\n",
              "        await google.colab.output.renderOutput(dataTable, element);\n",
              "        const docLink = document.createElement('div');\n",
              "        docLink.innerHTML = docLinkHtml;\n",
              "        element.appendChild(docLink);\n",
              "      }\n",
              "    </script>\n",
              "  </div>\n",
              "\n",
              "\n",
              "<div id=\"df-5fdbe0d4-8f15-446e-b510-f2f34aabdca1\">\n",
              "  <button class=\"colab-df-quickchart\" onclick=\"quickchart('df-5fdbe0d4-8f15-446e-b510-f2f34aabdca1')\"\n",
              "            title=\"Suggest charts\"\n",
              "            style=\"display:none;\">\n",
              "\n",
              "<svg xmlns=\"http://www.w3.org/2000/svg\" height=\"24px\"viewBox=\"0 0 24 24\"\n",
              "     width=\"24px\">\n",
              "    <g>\n",
              "        <path d=\"M19 3H5c-1.1 0-2 .9-2 2v14c0 1.1.9 2 2 2h14c1.1 0 2-.9 2-2V5c0-1.1-.9-2-2-2zM9 17H7v-7h2v7zm4 0h-2V7h2v10zm4 0h-2v-4h2v4z\"/>\n",
              "    </g>\n",
              "</svg>\n",
              "  </button>\n",
              "\n",
              "<style>\n",
              "  .colab-df-quickchart {\n",
              "      --bg-color: #E8F0FE;\n",
              "      --fill-color: #1967D2;\n",
              "      --hover-bg-color: #E2EBFA;\n",
              "      --hover-fill-color: #174EA6;\n",
              "      --disabled-fill-color: #AAA;\n",
              "      --disabled-bg-color: #DDD;\n",
              "  }\n",
              "\n",
              "  [theme=dark] .colab-df-quickchart {\n",
              "      --bg-color: #3B4455;\n",
              "      --fill-color: #D2E3FC;\n",
              "      --hover-bg-color: #434B5C;\n",
              "      --hover-fill-color: #FFFFFF;\n",
              "      --disabled-bg-color: #3B4455;\n",
              "      --disabled-fill-color: #666;\n",
              "  }\n",
              "\n",
              "  .colab-df-quickchart {\n",
              "    background-color: var(--bg-color);\n",
              "    border: none;\n",
              "    border-radius: 50%;\n",
              "    cursor: pointer;\n",
              "    display: none;\n",
              "    fill: var(--fill-color);\n",
              "    height: 32px;\n",
              "    padding: 0;\n",
              "    width: 32px;\n",
              "  }\n",
              "\n",
              "  .colab-df-quickchart:hover {\n",
              "    background-color: var(--hover-bg-color);\n",
              "    box-shadow: 0 1px 2px rgba(60, 64, 67, 0.3), 0 1px 3px 1px rgba(60, 64, 67, 0.15);\n",
              "    fill: var(--button-hover-fill-color);\n",
              "  }\n",
              "\n",
              "  .colab-df-quickchart-complete:disabled,\n",
              "  .colab-df-quickchart-complete:disabled:hover {\n",
              "    background-color: var(--disabled-bg-color);\n",
              "    fill: var(--disabled-fill-color);\n",
              "    box-shadow: none;\n",
              "  }\n",
              "\n",
              "  .colab-df-spinner {\n",
              "    border: 2px solid var(--fill-color);\n",
              "    border-color: transparent;\n",
              "    border-bottom-color: var(--fill-color);\n",
              "    animation:\n",
              "      spin 1s steps(1) infinite;\n",
              "  }\n",
              "\n",
              "  @keyframes spin {\n",
              "    0% {\n",
              "      border-color: transparent;\n",
              "      border-bottom-color: var(--fill-color);\n",
              "      border-left-color: var(--fill-color);\n",
              "    }\n",
              "    20% {\n",
              "      border-color: transparent;\n",
              "      border-left-color: var(--fill-color);\n",
              "      border-top-color: var(--fill-color);\n",
              "    }\n",
              "    30% {\n",
              "      border-color: transparent;\n",
              "      border-left-color: var(--fill-color);\n",
              "      border-top-color: var(--fill-color);\n",
              "      border-right-color: var(--fill-color);\n",
              "    }\n",
              "    40% {\n",
              "      border-color: transparent;\n",
              "      border-right-color: var(--fill-color);\n",
              "      border-top-color: var(--fill-color);\n",
              "    }\n",
              "    60% {\n",
              "      border-color: transparent;\n",
              "      border-right-color: var(--fill-color);\n",
              "    }\n",
              "    80% {\n",
              "      border-color: transparent;\n",
              "      border-right-color: var(--fill-color);\n",
              "      border-bottom-color: var(--fill-color);\n",
              "    }\n",
              "    90% {\n",
              "      border-color: transparent;\n",
              "      border-bottom-color: var(--fill-color);\n",
              "    }\n",
              "  }\n",
              "</style>\n",
              "\n",
              "  <script>\n",
              "    async function quickchart(key) {\n",
              "      const quickchartButtonEl =\n",
              "        document.querySelector('#' + key + ' button');\n",
              "      quickchartButtonEl.disabled = true;  // To prevent multiple clicks.\n",
              "      quickchartButtonEl.classList.add('colab-df-spinner');\n",
              "      try {\n",
              "        const charts = await google.colab.kernel.invokeFunction(\n",
              "            'suggestCharts', [key], {});\n",
              "      } catch (error) {\n",
              "        console.error('Error during call to suggestCharts:', error);\n",
              "      }\n",
              "      quickchartButtonEl.classList.remove('colab-df-spinner');\n",
              "      quickchartButtonEl.classList.add('colab-df-quickchart-complete');\n",
              "    }\n",
              "    (() => {\n",
              "      let quickchartButtonEl =\n",
              "        document.querySelector('#df-5fdbe0d4-8f15-446e-b510-f2f34aabdca1 button');\n",
              "      quickchartButtonEl.style.display =\n",
              "        google.colab.kernel.accessAllowed ? 'block' : 'none';\n",
              "    })();\n",
              "  </script>\n",
              "</div>\n",
              "    </div>\n",
              "  </div>\n"
            ]
          },
          "metadata": {},
          "execution_count": 23
        }
      ],
      "source": [
        "df_mod = df[[\"Final\", \"category\"]]\n",
        "df_mod.head()"
      ]
    },
    {
      "cell_type": "code",
      "execution_count": 24,
      "id": "e1f2af5e",
      "metadata": {
        "execution": {
          "iopub.execute_input": "2022-09-09T20:34:34.035818Z",
          "iopub.status.busy": "2022-09-09T20:34:34.034741Z",
          "iopub.status.idle": "2022-09-09T20:34:34.057266Z",
          "shell.execute_reply": "2022-09-09T20:34:34.056261Z"
        },
        "papermill": {
          "duration": 0.046858,
          "end_time": "2022-09-09T20:34:34.059523",
          "exception": false,
          "start_time": "2022-09-09T20:34:34.012665",
          "status": "completed"
        },
        "tags": [],
        "id": "e1f2af5e",
        "colab": {
          "base_uri": "https://localhost:8080/"
        },
        "outputId": "967a0787-b8a1-4aba-9875-cd5c2d2b4b1a"
      },
      "outputs": [
        {
          "output_type": "stream",
          "name": "stdout",
          "text": [
            "TRAIN size: 86206\n",
            "TEST size: 21552\n"
          ]
        }
      ],
      "source": [
        "df_train, df_test = train_test_split(df_mod, test_size=1-TRAIN_SIZE, random_state=42)\n",
        "print(\"TRAIN size:\", len(df_train))\n",
        "print(\"TEST size:\", len(df_test))"
      ]
    },
    {
      "cell_type": "code",
      "execution_count": 25,
      "id": "ac3927b4",
      "metadata": {
        "execution": {
          "iopub.execute_input": "2022-09-09T20:34:41.668644Z",
          "iopub.status.busy": "2022-09-09T20:34:41.667789Z",
          "iopub.status.idle": "2022-09-09T20:34:42.581958Z",
          "shell.execute_reply": "2022-09-09T20:34:42.581289Z"
        },
        "papermill": {
          "duration": 0.944222,
          "end_time": "2022-09-09T20:34:42.584176",
          "exception": false,
          "start_time": "2022-09-09T20:34:41.639954",
          "status": "completed"
        },
        "tags": [],
        "id": "ac3927b4",
        "colab": {
          "base_uri": "https://localhost:8080/"
        },
        "outputId": "3aba763f-8aac-4245-9c93-306ad6db4b0b"
      },
      "outputs": [
        {
          "output_type": "stream",
          "name": "stdout",
          "text": [
            "CPU times: user 180 ms, sys: 60.9 ms, total: 241 ms\n",
            "Wall time: 241 ms\n"
          ]
        }
      ],
      "source": [
        "%%time\n",
        "documents = [text.split() for text in df_train.Final]"
      ]
    },
    {
      "cell_type": "code",
      "execution_count": 26,
      "id": "e1cd2073",
      "metadata": {
        "execution": {
          "iopub.execute_input": "2022-09-09T20:34:42.707175Z",
          "iopub.status.busy": "2022-09-09T20:34:42.706386Z",
          "iopub.status.idle": "2022-09-09T20:34:42.712867Z",
          "shell.execute_reply": "2022-09-09T20:34:42.711939Z"
        },
        "papermill": {
          "duration": 0.036161,
          "end_time": "2022-09-09T20:34:42.714915",
          "exception": false,
          "start_time": "2022-09-09T20:34:42.678754",
          "status": "completed"
        },
        "tags": [],
        "id": "e1cd2073"
      },
      "outputs": [],
      "source": [
        "w2v_model = gensim.models.word2vec.Word2Vec(vector_size=W2V_SIZE,\n",
        "                                            window=W2V_WINDOW,\n",
        "                                            min_count=W2V_MIN_COUNT,\n",
        "                                            workers=8)"
      ]
    },
    {
      "cell_type": "code",
      "execution_count": 27,
      "id": "d19574e3",
      "metadata": {
        "execution": {
          "iopub.execute_input": "2022-09-09T20:34:42.824467Z",
          "iopub.status.busy": "2022-09-09T20:34:42.824097Z",
          "iopub.status.idle": "2022-09-09T20:34:43.396656Z",
          "shell.execute_reply": "2022-09-09T20:34:43.395689Z"
        },
        "papermill": {
          "duration": 0.60381,
          "end_time": "2022-09-09T20:34:43.399053",
          "exception": false,
          "start_time": "2022-09-09T20:34:42.795243",
          "status": "completed"
        },
        "tags": [],
        "id": "d19574e3"
      },
      "outputs": [],
      "source": [
        "w2v_model.build_vocab(documents)"
      ]
    },
    {
      "cell_type": "code",
      "execution_count": 28,
      "id": "2246d9f6",
      "metadata": {
        "execution": {
          "iopub.execute_input": "2022-09-09T20:34:43.453419Z",
          "iopub.status.busy": "2022-09-09T20:34:43.452713Z",
          "iopub.status.idle": "2022-09-09T20:34:43.458605Z",
          "shell.execute_reply": "2022-09-09T20:34:43.457327Z"
        },
        "papermill": {
          "duration": 0.036699,
          "end_time": "2022-09-09T20:34:43.461442",
          "exception": false,
          "start_time": "2022-09-09T20:34:43.424743",
          "status": "completed"
        },
        "tags": [],
        "id": "2246d9f6",
        "colab": {
          "base_uri": "https://localhost:8080/"
        },
        "outputId": "c7601e04-08c7-45e4-a606-83440d533f83"
      },
      "outputs": [
        {
          "output_type": "stream",
          "name": "stdout",
          "text": [
            "Vocab size 8353\n"
          ]
        }
      ],
      "source": [
        "words = w2v_model.wv.key_to_index.keys()\n",
        "vocab_size = len(words)\n",
        "print(\"Vocab size\", vocab_size)\n"
      ]
    },
    {
      "cell_type": "code",
      "execution_count": 29,
      "id": "033eb18a",
      "metadata": {
        "execution": {
          "iopub.execute_input": "2022-09-09T20:34:43.569171Z",
          "iopub.status.busy": "2022-09-09T20:34:43.568468Z",
          "iopub.status.idle": "2022-09-09T20:35:28.628621Z",
          "shell.execute_reply": "2022-09-09T20:35:28.627678Z"
        },
        "papermill": {
          "duration": 45.114566,
          "end_time": "2022-09-09T20:35:28.655333",
          "exception": false,
          "start_time": "2022-09-09T20:34:43.540767",
          "status": "completed"
        },
        "tags": [],
        "id": "033eb18a",
        "colab": {
          "base_uri": "https://localhost:8080/"
        },
        "outputId": "91cd8ee5-9aaf-432a-bf43-f65f2d400853"
      },
      "outputs": [
        {
          "output_type": "stream",
          "name": "stdout",
          "text": [
            "CPU times: user 3min 11s, sys: 866 ms, total: 3min 11s\n",
            "Wall time: 2min 1s\n"
          ]
        },
        {
          "output_type": "execute_result",
          "data": {
            "text/plain": [
              "(37099409, 45364480)"
            ]
          },
          "metadata": {},
          "execution_count": 29
        }
      ],
      "source": [
        "%%time\n",
        "w2v_model.train(documents, total_examples=len(documents), epochs=W2V_EPOCH)"
      ]
    },
    {
      "cell_type": "code",
      "execution_count": 31,
      "id": "8191de24",
      "metadata": {
        "execution": {
          "iopub.execute_input": "2022-09-09T20:35:28.761114Z",
          "iopub.status.busy": "2022-09-09T20:35:28.760352Z",
          "iopub.status.idle": "2022-09-09T20:35:28.779189Z",
          "shell.execute_reply": "2022-09-09T20:35:28.778364Z"
        },
        "papermill": {
          "duration": 0.048028,
          "end_time": "2022-09-09T20:35:28.781155",
          "exception": false,
          "start_time": "2022-09-09T20:35:28.733127",
          "status": "completed"
        },
        "tags": [],
        "id": "8191de24",
        "colab": {
          "base_uri": "https://localhost:8080/"
        },
        "outputId": "aa82de27-f2e8-48a3-c538-27915aede849"
      },
      "outputs": [
        {
          "output_type": "execute_result",
          "data": {
            "text/plain": [
              "[('dad', 0.45238789916038513),\n",
              " ('mother', 0.44553929567337036),\n",
              " ('italy', 0.4183259606361389),\n",
              " ('daughter', 0.4169415235519409),\n",
              " ('sambit', 0.3972427546977997),\n",
              " ('husband', 0.3931858539581299),\n",
              " ('son', 0.3893848657608032),\n",
              " ('uncle', 0.3873317837715149),\n",
              " ('beta', 0.3839658796787262),\n",
              " ('puppy', 0.3793778717517853)]"
            ]
          },
          "metadata": {},
          "execution_count": 31
        }
      ],
      "source": [
        "w2v_model.wv.most_similar(\"mom\")"
      ]
    },
    {
      "cell_type": "code",
      "execution_count": 32,
      "id": "992efcf4",
      "metadata": {
        "execution": {
          "iopub.execute_input": "2022-09-09T20:35:29.077458Z",
          "iopub.status.busy": "2022-09-09T20:35:29.077109Z",
          "iopub.status.idle": "2022-09-09T20:35:31.018698Z",
          "shell.execute_reply": "2022-09-09T20:35:31.017730Z"
        },
        "papermill": {
          "duration": 1.971601,
          "end_time": "2022-09-09T20:35:31.021513",
          "exception": false,
          "start_time": "2022-09-09T20:35:29.049912",
          "status": "completed"
        },
        "tags": [],
        "id": "992efcf4",
        "colab": {
          "base_uri": "https://localhost:8080/"
        },
        "outputId": "6c0df38e-d475-4ad8-c245-a071302e2e60"
      },
      "outputs": [
        {
          "output_type": "stream",
          "name": "stdout",
          "text": [
            "Total words 70297\n",
            "CPU times: user 2.14 s, sys: 23.9 ms, total: 2.16 s\n",
            "Wall time: 2.18 s\n"
          ]
        }
      ],
      "source": [
        "%%time\n",
        "tokenizer = Tokenizer()\n",
        "tokenizer.fit_on_texts(df_train.Final)\n",
        "\n",
        "vocab_size = len(tokenizer.word_index) + 1\n",
        "print(\"Total words\", vocab_size)"
      ]
    },
    {
      "cell_type": "code",
      "execution_count": 33,
      "id": "1f3e47e8",
      "metadata": {
        "execution": {
          "iopub.execute_input": "2022-09-09T20:35:31.081163Z",
          "iopub.status.busy": "2022-09-09T20:35:31.080798Z",
          "iopub.status.idle": "2022-09-09T20:35:33.307267Z",
          "shell.execute_reply": "2022-09-09T20:35:33.304461Z"
        },
        "papermill": {
          "duration": 2.258748,
          "end_time": "2022-09-09T20:35:33.310783",
          "exception": false,
          "start_time": "2022-09-09T20:35:31.052035",
          "status": "completed"
        },
        "tags": [],
        "id": "1f3e47e8",
        "colab": {
          "base_uri": "https://localhost:8080/"
        },
        "outputId": "8851376a-a75b-4342-fe33-e5ad75af7431"
      },
      "outputs": [
        {
          "output_type": "stream",
          "name": "stdout",
          "text": [
            "CPU times: user 2.3 s, sys: 55.8 ms, total: 2.36 s\n",
            "Wall time: 2.38 s\n"
          ]
        }
      ],
      "source": [
        "%%time\n",
        "x_train = pad_sequences(tokenizer.texts_to_sequences(df_train.Final), maxlen=SEQUENCE_LENGTH)\n",
        "x_test = pad_sequences(tokenizer.texts_to_sequences(df_test.Final), maxlen=SEQUENCE_LENGTH)"
      ]
    },
    {
      "cell_type": "code",
      "execution_count": 34,
      "id": "4f0efc22",
      "metadata": {
        "execution": {
          "iopub.execute_input": "2022-09-09T20:35:33.423151Z",
          "iopub.status.busy": "2022-09-09T20:35:33.422795Z",
          "iopub.status.idle": "2022-09-09T20:35:33.435296Z",
          "shell.execute_reply": "2022-09-09T20:35:33.434260Z"
        },
        "papermill": {
          "duration": 0.043239,
          "end_time": "2022-09-09T20:35:33.437389",
          "exception": false,
          "start_time": "2022-09-09T20:35:33.394150",
          "status": "completed"
        },
        "tags": [],
        "id": "4f0efc22",
        "colab": {
          "base_uri": "https://localhost:8080/"
        },
        "outputId": "a672ad18-79f2-4741-9792-7017a1be6747"
      },
      "outputs": [
        {
          "output_type": "execute_result",
          "data": {
            "text/plain": [
              "['POSITIVE', 'NEGATIVE', 'NEUTRAL']"
            ]
          },
          "metadata": {},
          "execution_count": 34
        }
      ],
      "source": [
        "labels = df_train.category.unique().tolist()\n",
        "labels.append(NEUTRAL)\n",
        "labels"
      ]
    },
    {
      "cell_type": "code",
      "execution_count": 35,
      "id": "bf9ef672",
      "metadata": {
        "execution": {
          "iopub.execute_input": "2022-09-09T20:35:33.494355Z",
          "iopub.status.busy": "2022-09-09T20:35:33.494015Z",
          "iopub.status.idle": "2022-09-09T20:35:33.591431Z",
          "shell.execute_reply": "2022-09-09T20:35:33.589828Z"
        },
        "papermill": {
          "duration": 0.129028,
          "end_time": "2022-09-09T20:35:33.594141",
          "exception": false,
          "start_time": "2022-09-09T20:35:33.465113",
          "status": "completed"
        },
        "tags": [],
        "id": "bf9ef672",
        "colab": {
          "base_uri": "https://localhost:8080/"
        },
        "outputId": "88bfefdd-2f75-4ccd-9e7d-e99e1f6c26cb"
      },
      "outputs": [
        {
          "output_type": "stream",
          "name": "stdout",
          "text": [
            "y_train (86206, 1)\n",
            "y_test (21552, 1)\n"
          ]
        }
      ],
      "source": [
        "encoder = LabelEncoder()\n",
        "encoder.fit(df_train.category.tolist())\n",
        "\n",
        "y_train = encoder.transform(df_train.category.tolist())\n",
        "y_test = encoder.transform(df_test.category.tolist())\n",
        "\n",
        "y_train = y_train.reshape(-1,1)\n",
        "y_test = y_test.reshape(-1,1)\n",
        "\n",
        "print(\"y_train\",y_train.shape)\n",
        "print(\"y_test\",y_test.shape)"
      ]
    },
    {
      "cell_type": "code",
      "execution_count": 36,
      "id": "4698b528",
      "metadata": {
        "execution": {
          "iopub.execute_input": "2022-09-09T20:35:33.653110Z",
          "iopub.status.busy": "2022-09-09T20:35:33.652129Z",
          "iopub.status.idle": "2022-09-09T20:35:33.658582Z",
          "shell.execute_reply": "2022-09-09T20:35:33.657211Z"
        },
        "papermill": {
          "duration": 0.038914,
          "end_time": "2022-09-09T20:35:33.661604",
          "exception": false,
          "start_time": "2022-09-09T20:35:33.622690",
          "status": "completed"
        },
        "tags": [],
        "id": "4698b528",
        "colab": {
          "base_uri": "https://localhost:8080/"
        },
        "outputId": "7d7b9f49-8410-43e7-d0f2-28bac3dc0d97"
      },
      "outputs": [
        {
          "output_type": "stream",
          "name": "stdout",
          "text": [
            "x_train (86206, 300)\n",
            "y_train (86206, 1)\n",
            "\n",
            "x_test (21552, 300)\n",
            "y_test (21552, 1)\n"
          ]
        }
      ],
      "source": [
        "print(\"x_train\", x_train.shape)\n",
        "print(\"y_train\", y_train.shape)\n",
        "print()\n",
        "print(\"x_test\", x_test.shape)\n",
        "print(\"y_test\", y_test.shape)"
      ]
    },
    {
      "cell_type": "code",
      "execution_count": 37,
      "id": "e4e88424",
      "metadata": {
        "execution": {
          "iopub.execute_input": "2022-09-09T20:35:33.721707Z",
          "iopub.status.busy": "2022-09-09T20:35:33.721340Z",
          "iopub.status.idle": "2022-09-09T20:35:33.727681Z",
          "shell.execute_reply": "2022-09-09T20:35:33.726862Z"
        },
        "papermill": {
          "duration": 0.037117,
          "end_time": "2022-09-09T20:35:33.729347",
          "exception": false,
          "start_time": "2022-09-09T20:35:33.692230",
          "status": "completed"
        },
        "tags": [],
        "id": "e4e88424",
        "colab": {
          "base_uri": "https://localhost:8080/"
        },
        "outputId": "4705d6f7-ec50-44cd-ba54-b1aa25536e5e"
      },
      "outputs": [
        {
          "output_type": "execute_result",
          "data": {
            "text/plain": [
              "array([[1],\n",
              "       [0],\n",
              "       [0],\n",
              "       [1],\n",
              "       [1],\n",
              "       [1],\n",
              "       [0],\n",
              "       [1],\n",
              "       [0],\n",
              "       [1]])"
            ]
          },
          "metadata": {},
          "execution_count": 37
        }
      ],
      "source": [
        "y_train[:10]"
      ]
    },
    {
      "cell_type": "code",
      "execution_count": 38,
      "id": "55f50ba3",
      "metadata": {
        "execution": {
          "iopub.execute_input": "2022-09-09T20:35:33.841737Z",
          "iopub.status.busy": "2022-09-09T20:35:33.841398Z",
          "iopub.status.idle": "2022-09-09T20:35:33.941819Z",
          "shell.execute_reply": "2022-09-09T20:35:33.940884Z"
        },
        "papermill": {
          "duration": 0.131174,
          "end_time": "2022-09-09T20:35:33.943474",
          "exception": false,
          "start_time": "2022-09-09T20:35:33.812300",
          "status": "completed"
        },
        "tags": [],
        "id": "55f50ba3",
        "colab": {
          "base_uri": "https://localhost:8080/"
        },
        "outputId": "0cfe2d45-74b0-410f-ebff-8a81676f97db"
      },
      "outputs": [
        {
          "output_type": "stream",
          "name": "stdout",
          "text": [
            "(70297, 300)\n"
          ]
        }
      ],
      "source": [
        "embedding_matrix = np.zeros((vocab_size, W2V_SIZE))\n",
        "for word, i in tokenizer.word_index.items():\n",
        "  if word in w2v_model.wv:\n",
        "    embedding_matrix[i] = w2v_model.wv[word]\n",
        "print(embedding_matrix.shape)"
      ]
    },
    {
      "cell_type": "code",
      "execution_count": 39,
      "id": "913545d3",
      "metadata": {
        "execution": {
          "iopub.execute_input": "2022-09-09T20:35:33.999326Z",
          "iopub.status.busy": "2022-09-09T20:35:33.998461Z",
          "iopub.status.idle": "2022-09-09T20:35:34.028477Z",
          "shell.execute_reply": "2022-09-09T20:35:34.027488Z"
        },
        "papermill": {
          "duration": 0.060901,
          "end_time": "2022-09-09T20:35:34.030535",
          "exception": false,
          "start_time": "2022-09-09T20:35:33.969634",
          "status": "completed"
        },
        "tags": [],
        "id": "913545d3"
      },
      "outputs": [],
      "source": [
        "embedding_layer = Embedding(vocab_size, W2V_SIZE, weights=[embedding_matrix], input_length=SEQUENCE_LENGTH, trainable=False)"
      ]
    },
    {
      "cell_type": "code",
      "execution_count": 41,
      "id": "4a71f515",
      "metadata": {
        "execution": {
          "iopub.execute_input": "2022-09-09T20:35:34.140219Z",
          "iopub.status.busy": "2022-09-09T20:35:34.139599Z",
          "iopub.status.idle": "2022-09-09T20:35:34.568447Z",
          "shell.execute_reply": "2022-09-09T20:35:34.567542Z"
        },
        "papermill": {
          "duration": 0.458633,
          "end_time": "2022-09-09T20:35:34.570753",
          "exception": false,
          "start_time": "2022-09-09T20:35:34.112120",
          "status": "completed"
        },
        "tags": [],
        "id": "4a71f515",
        "colab": {
          "base_uri": "https://localhost:8080/"
        },
        "outputId": "063f454b-37f0-4b88-bff1-e17e3e42b796"
      },
      "outputs": [
        {
          "output_type": "stream",
          "name": "stdout",
          "text": [
            "Model: \"sequential_1\"\n",
            "_________________________________________________________________\n",
            " Layer (type)                Output Shape              Param #   \n",
            "=================================================================\n",
            " embedding (Embedding)       (None, 300, 300)          21089100  \n",
            "                                                                 \n",
            " dropout_1 (Dropout)         (None, 300, 300)          0         \n",
            "                                                                 \n",
            " conv1d_1 (Conv1D)           (None, 293, 32)           76832     \n",
            "                                                                 \n",
            " max_pooling1d_1 (MaxPoolin  (None, 146, 32)           0         \n",
            " g1D)                                                            \n",
            "                                                                 \n",
            " flatten_1 (Flatten)         (None, 4672)              0         \n",
            "                                                                 \n",
            " dense_1 (Dense)             (None, 10)                46730     \n",
            "                                                                 \n",
            " dense_2 (Dense)             (None, 1)                 11        \n",
            "                                                                 \n",
            "=================================================================\n",
            "Total params: 21212673 (80.92 MB)\n",
            "Trainable params: 123573 (482.71 KB)\n",
            "Non-trainable params: 21089100 (80.45 MB)\n",
            "_________________________________________________________________\n"
          ]
        }
      ],
      "source": [
        "model = Sequential()\n",
        "model.add(embedding_layer)\n",
        "model.add(Dropout(0.5))\n",
        "model.add(Conv1D(filters=32, kernel_size=8, activation='relu'))\n",
        "model.add(MaxPooling1D(pool_size=2))\n",
        "model.add(Flatten())\n",
        "model.add(Dense(10, activation='relu'))\n",
        "model.add(Dense(1, activation='sigmoid'))\n",
        "\n",
        "model.summary()"
      ]
    },
    {
      "cell_type": "code",
      "execution_count": 42,
      "id": "ee71683f",
      "metadata": {
        "execution": {
          "iopub.execute_input": "2022-09-09T20:35:34.682383Z",
          "iopub.status.busy": "2022-09-09T20:35:34.681513Z",
          "iopub.status.idle": "2022-09-09T20:35:34.695160Z",
          "shell.execute_reply": "2022-09-09T20:35:34.694100Z"
        },
        "papermill": {
          "duration": 0.044085,
          "end_time": "2022-09-09T20:35:34.697342",
          "exception": false,
          "start_time": "2022-09-09T20:35:34.653257",
          "status": "completed"
        },
        "tags": [],
        "id": "ee71683f"
      },
      "outputs": [],
      "source": [
        "model.compile(loss='binary_crossentropy',\n",
        "              optimizer=\"adam\",\n",
        "              metrics=['accuracy'])"
      ]
    },
    {
      "cell_type": "code",
      "execution_count": 43,
      "id": "caae0337",
      "metadata": {
        "execution": {
          "iopub.execute_input": "2022-09-09T20:35:34.806315Z",
          "iopub.status.busy": "2022-09-09T20:35:34.805816Z",
          "iopub.status.idle": "2022-09-09T20:35:34.810092Z",
          "shell.execute_reply": "2022-09-09T20:35:34.809385Z"
        },
        "papermill": {
          "duration": 0.033511,
          "end_time": "2022-09-09T20:35:34.811789",
          "exception": false,
          "start_time": "2022-09-09T20:35:34.778278",
          "status": "completed"
        },
        "tags": [],
        "id": "caae0337"
      },
      "outputs": [],
      "source": [
        "callbacks = [ ReduceLROnPlateau(monitor='val_loss', patience=5, cooldown=0),\n",
        "              EarlyStopping(monitor='val_acc', min_delta=1e-4, patience=5)]"
      ]
    },
    {
      "cell_type": "code",
      "execution_count": 44,
      "id": "9fba0a18",
      "metadata": {
        "execution": {
          "iopub.execute_input": "2022-09-09T20:35:34.920902Z",
          "iopub.status.busy": "2022-09-09T20:35:34.920412Z",
          "iopub.status.idle": "2022-09-09T22:05:39.707606Z",
          "shell.execute_reply": "2022-09-09T22:05:39.705931Z"
        },
        "papermill": {
          "duration": 5404.874936,
          "end_time": "2022-09-09T22:05:39.766172",
          "exception": false,
          "start_time": "2022-09-09T20:35:34.891236",
          "status": "completed"
        },
        "tags": [],
        "id": "9fba0a18",
        "colab": {
          "base_uri": "https://localhost:8080/"
        },
        "outputId": "3059f590-7ad6-4f36-b4a3-6c7276cb0e7e"
      },
      "outputs": [
        {
          "output_type": "stream",
          "name": "stdout",
          "text": [
            "Epoch 1/5\n",
            "76/76 [==============================] - ETA: 0s - loss: 0.5837 - accuracy: 0.6832"
          ]
        },
        {
          "output_type": "stream",
          "name": "stderr",
          "text": [
            "WARNING:tensorflow:Early stopping conditioned on metric `val_acc` which is not available. Available metrics are: loss,accuracy,val_loss,val_accuracy,lr\n"
          ]
        },
        {
          "output_type": "stream",
          "name": "stdout",
          "text": [
            "\b\b\b\b\b\b\b\b\b\b\b\b\b\b\b\b\b\b\b\b\b\b\b\b\b\b\b\b\b\b\b\b\b\b\b\b\b\b\b\b\b\b\b\b\b\b\b\b\b\b\b\b\b\b\b\b\b\b\b\b\b\b\b\b\b\b\b\b\b\b\b\b\b\b\b\b\b\b\b\b\b\b\r76/76 [==============================] - 378s 5s/step - loss: 0.5837 - accuracy: 0.6832 - val_loss: 0.5194 - val_accuracy: 0.7349 - lr: 0.0010\n",
            "Epoch 2/5\n",
            "76/76 [==============================] - ETA: 0s - loss: 0.5277 - accuracy: 0.7252"
          ]
        },
        {
          "output_type": "stream",
          "name": "stderr",
          "text": [
            "WARNING:tensorflow:Early stopping conditioned on metric `val_acc` which is not available. Available metrics are: loss,accuracy,val_loss,val_accuracy,lr\n"
          ]
        },
        {
          "output_type": "stream",
          "name": "stdout",
          "text": [
            "\b\b\b\b\b\b\b\b\b\b\b\b\b\b\b\b\b\b\b\b\b\b\b\b\b\b\b\b\b\b\b\b\b\b\b\b\b\b\b\b\b\b\b\b\b\b\b\b\b\b\b\b\b\b\b\b\b\b\b\b\b\b\b\b\b\b\b\b\b\b\b\b\b\b\b\b\b\b\b\b\b\b\r76/76 [==============================] - 374s 5s/step - loss: 0.5277 - accuracy: 0.7252 - val_loss: 0.4774 - val_accuracy: 0.7644 - lr: 0.0010\n",
            "Epoch 3/5\n",
            "76/76 [==============================] - ETA: 0s - loss: 0.5004 - accuracy: 0.7437"
          ]
        },
        {
          "output_type": "stream",
          "name": "stderr",
          "text": [
            "WARNING:tensorflow:Early stopping conditioned on metric `val_acc` which is not available. Available metrics are: loss,accuracy,val_loss,val_accuracy,lr\n"
          ]
        },
        {
          "output_type": "stream",
          "name": "stdout",
          "text": [
            "\b\b\b\b\b\b\b\b\b\b\b\b\b\b\b\b\b\b\b\b\b\b\b\b\b\b\b\b\b\b\b\b\b\b\b\b\b\b\b\b\b\b\b\b\b\b\b\b\b\b\b\b\b\b\b\b\b\b\b\b\b\b\b\b\b\b\b\b\b\b\b\b\b\b\b\b\b\b\b\b\b\b\r76/76 [==============================] - 375s 5s/step - loss: 0.5004 - accuracy: 0.7437 - val_loss: 0.4413 - val_accuracy: 0.7819 - lr: 0.0010\n",
            "Epoch 4/5\n",
            "76/76 [==============================] - ETA: 0s - loss: 0.4678 - accuracy: 0.7660"
          ]
        },
        {
          "output_type": "stream",
          "name": "stderr",
          "text": [
            "WARNING:tensorflow:Early stopping conditioned on metric `val_acc` which is not available. Available metrics are: loss,accuracy,val_loss,val_accuracy,lr\n"
          ]
        },
        {
          "output_type": "stream",
          "name": "stdout",
          "text": [
            "\b\b\b\b\b\b\b\b\b\b\b\b\b\b\b\b\b\b\b\b\b\b\b\b\b\b\b\b\b\b\b\b\b\b\b\b\b\b\b\b\b\b\b\b\b\b\b\b\b\b\b\b\b\b\b\b\b\b\b\b\b\b\b\b\b\b\b\b\b\b\b\b\b\b\b\b\b\b\b\b\b\b\r76/76 [==============================] - 374s 5s/step - loss: 0.4678 - accuracy: 0.7660 - val_loss: 0.4197 - val_accuracy: 0.8007 - lr: 0.0010\n",
            "Epoch 5/5\n",
            "76/76 [==============================] - ETA: 0s - loss: 0.4480 - accuracy: 0.7810"
          ]
        },
        {
          "output_type": "stream",
          "name": "stderr",
          "text": [
            "WARNING:tensorflow:Early stopping conditioned on metric `val_acc` which is not available. Available metrics are: loss,accuracy,val_loss,val_accuracy,lr\n"
          ]
        },
        {
          "output_type": "stream",
          "name": "stdout",
          "text": [
            "\b\b\b\b\b\b\b\b\b\b\b\b\b\b\b\b\b\b\b\b\b\b\b\b\b\b\b\b\b\b\b\b\b\b\b\b\b\b\b\b\b\b\b\b\b\b\b\b\b\b\b\b\b\b\b\b\b\b\b\b\b\b\b\b\b\b\b\b\b\b\b\b\b\b\b\b\b\b\b\b\b\b\r76/76 [==============================] - 373s 5s/step - loss: 0.4480 - accuracy: 0.7810 - val_loss: 0.4098 - val_accuracy: 0.8059 - lr: 0.0010\n",
            "CPU times: user 45min 5s, sys: 4min 2s, total: 49min 7s\n",
            "Wall time: 31min 23s\n"
          ]
        }
      ],
      "source": [
        "%%time\n",
        "history = model.fit(x_train, y_train,\n",
        "                    batch_size=BATCH_SIZE,\n",
        "                    epochs=EPOCHS,\n",
        "                    validation_split=0.1,\n",
        "                    verbose=1,\n",
        "                    callbacks=callbacks)"
      ]
    },
    {
      "cell_type": "code",
      "execution_count": 45,
      "id": "a8d3186c",
      "metadata": {
        "execution": {
          "iopub.execute_input": "2022-09-09T22:05:40.019824Z",
          "iopub.status.busy": "2022-09-09T22:05:40.019431Z",
          "iopub.status.idle": "2022-09-09T22:06:26.294737Z",
          "shell.execute_reply": "2022-09-09T22:06:26.292580Z"
        },
        "papermill": {
          "duration": 46.344065,
          "end_time": "2022-09-09T22:06:26.297322",
          "exception": false,
          "start_time": "2022-09-09T22:05:39.953257",
          "status": "completed"
        },
        "tags": [],
        "id": "a8d3186c",
        "colab": {
          "base_uri": "https://localhost:8080/"
        },
        "outputId": "8d1f21d6-491f-46a8-e0bd-4ccbb7f5f6c0"
      },
      "outputs": [
        {
          "output_type": "stream",
          "name": "stdout",
          "text": [
            "22/22 [==============================] - 28s 1s/step - loss: 0.4213 - accuracy: 0.7987\n",
            "\n",
            "ACCURACY: 0.7987194061279297\n",
            "LOSS: 0.42128482460975647\n",
            "CPU times: user 40.4 s, sys: 5.19 s, total: 45.6 s\n",
            "Wall time: 41.1 s\n"
          ]
        }
      ],
      "source": [
        "%%time\n",
        "score = model.evaluate(x_test, y_test, batch_size=BATCH_SIZE)\n",
        "print()\n",
        "print(\"ACCURACY:\",score[1])\n",
        "print(\"LOSS:\",score[0])"
      ]
    },
    {
      "cell_type": "code",
      "execution_count": 46,
      "id": "38cbd93f",
      "metadata": {
        "execution": {
          "iopub.execute_input": "2022-09-09T22:06:26.421840Z",
          "iopub.status.busy": "2022-09-09T22:06:26.421511Z",
          "iopub.status.idle": "2022-09-09T22:06:26.771137Z",
          "shell.execute_reply": "2022-09-09T22:06:26.769292Z"
        },
        "papermill": {
          "duration": 0.415686,
          "end_time": "2022-09-09T22:06:26.774075",
          "exception": false,
          "start_time": "2022-09-09T22:06:26.358389",
          "status": "completed"
        },
        "tags": [],
        "id": "38cbd93f",
        "colab": {
          "base_uri": "https://localhost:8080/",
          "height": 941
        },
        "outputId": "4251d179-fb41-449d-ec25-8bfcce9ce01c"
      },
      "outputs": [
        {
          "output_type": "display_data",
          "data": {
            "text/plain": [
              "<Figure size 640x480 with 1 Axes>"
            ],
            "image/png": "[encoded data removed]"
          },
          "metadata": {}
        },
        {
          "output_type": "display_data",
          "data": {
            "text/plain": [
              "<Figure size 640x480 with 1 Axes>"
            ],
            "image/png": "[encoded data removed]"
          },
          "metadata": {}
        }
      ],
      "source": [
        "acc = history.history['accuracy']\n",
        "val_acc = history.history['val_accuracy']\n",
        "loss = history.history['loss']\n",
        "val_loss = history.history['val_loss']\n",
        "\n",
        "epochs = range(len(acc))\n",
        "\n",
        "plt.plot(epochs, acc, 'b', label='Training acc')\n",
        "plt.plot(epochs, val_acc, 'r', label='Validation acc')\n",
        "plt.title('Training and validation accuracy')\n",
        "plt.legend()\n",
        "\n",
        "plt.figure()\n",
        "\n",
        "plt.plot(epochs, loss, 'b', label='Training loss')\n",
        "plt.plot(epochs, val_loss, 'r', label='Validation loss')\n",
        "plt.title('Training and validation loss')\n",
        "plt.legend()\n",
        "\n",
        "plt.show()"
      ]
    },
    {
      "cell_type": "code",
      "execution_count": 47,
      "id": "6c8f8273",
      "metadata": {
        "execution": {
          "iopub.execute_input": "2022-09-09T22:06:27.026178Z",
          "iopub.status.busy": "2022-09-09T22:06:27.025150Z",
          "iopub.status.idle": "2022-09-09T22:06:27.032290Z",
          "shell.execute_reply": "2022-09-09T22:06:27.030710Z"
        },
        "papermill": {
          "duration": 0.074966,
          "end_time": "2022-09-09T22:06:27.034834",
          "exception": false,
          "start_time": "2022-09-09T22:06:26.959868",
          "status": "completed"
        },
        "tags": [],
        "id": "6c8f8273"
      },
      "outputs": [],
      "source": [
        "def decode_sentiment(score, include_neutral=True):\n",
        "    if include_neutral:\n",
        "        label = NEUTRAL\n",
        "        if score <= SENTIMENT_THRESHOLDS[0]:\n",
        "            label = NEGATIVE\n",
        "        elif score >= SENTIMENT_THRESHOLDS[1]:\n",
        "            label = POSITIVE\n",
        "\n",
        "        return label\n",
        "    else:\n",
        "        return NEGATIVE if score < 0.5 else POSITIVE"
      ]
    },
    {
      "cell_type": "code",
      "execution_count": 48,
      "id": "a3559216",
      "metadata": {
        "execution": {
          "iopub.execute_input": "2022-09-09T22:06:27.163604Z",
          "iopub.status.busy": "2022-09-09T22:06:27.163054Z",
          "iopub.status.idle": "2022-09-09T22:06:27.168637Z",
          "shell.execute_reply": "2022-09-09T22:06:27.167596Z"
        },
        "papermill": {
          "duration": 0.071934,
          "end_time": "2022-09-09T22:06:27.171105",
          "exception": false,
          "start_time": "2022-09-09T22:06:27.099171",
          "status": "completed"
        },
        "tags": [],
        "id": "a3559216"
      },
      "outputs": [],
      "source": [
        "def predict(clean_text, include_neutral=True):\n",
        "    start_at = time.time()\n",
        "    # Tokenize clean_text\n",
        "    x_test = pad_sequences(tokenizer.texts_to_sequences([clean_text]), maxlen=SEQUENCE_LENGTH)\n",
        "    # Predict\n",
        "    score = model.predict([x_test])[0]\n",
        "    # Decode sentiment\n",
        "    label = decode_sentiment(score, include_neutral=include_neutral)\n",
        "\n",
        "    return {\"label\": label, \"score\": float(score),\n",
        "       \"elapsed_time\": time.time()-start_at}"
      ]
    },
    {
      "cell_type": "code",
      "execution_count": 49,
      "id": "87206056",
      "metadata": {
        "execution": {
          "iopub.execute_input": "2022-09-09T22:06:27.300857Z",
          "iopub.status.busy": "2022-09-09T22:06:27.300320Z",
          "iopub.status.idle": "2022-09-09T22:06:27.828558Z",
          "shell.execute_reply": "2022-09-09T22:06:27.827384Z"
        },
        "papermill": {
          "duration": 0.595484,
          "end_time": "2022-09-09T22:06:27.830616",
          "exception": false,
          "start_time": "2022-09-09T22:06:27.235132",
          "status": "completed"
        },
        "tags": [],
        "id": "87206056",
        "colab": {
          "base_uri": "https://localhost:8080/"
        },
        "outputId": "3fd8f7b8-adb7-48cd-dfbf-8fb56395c78f"
      },
      "outputs": [
        {
          "output_type": "stream",
          "name": "stdout",
          "text": [
            "1/1 [==============================] - 0s 130ms/step\n"
          ]
        },
        {
          "output_type": "execute_result",
          "data": {
            "text/plain": [
              "{'label': 'POSITIVE',\n",
              " 'score': 0.9802484512329102,\n",
              " 'elapsed_time': 0.20075607299804688}"
            ]
          },
          "metadata": {},
          "execution_count": 49
        }
      ],
      "source": [
        "predict(\"I love the music\")"
      ]
    },
    {
      "cell_type": "code",
      "execution_count": 50,
      "id": "6b629414",
      "metadata": {
        "execution": {
          "iopub.execute_input": "2022-09-09T22:06:27.963302Z",
          "iopub.status.busy": "2022-09-09T22:06:27.962717Z",
          "iopub.status.idle": "2022-09-09T22:06:28.248269Z",
          "shell.execute_reply": "2022-09-09T22:06:28.247184Z"
        },
        "papermill": {
          "duration": 0.355829,
          "end_time": "2022-09-09T22:06:28.250611",
          "exception": false,
          "start_time": "2022-09-09T22:06:27.894782",
          "status": "completed"
        },
        "tags": [],
        "id": "6b629414",
        "colab": {
          "base_uri": "https://localhost:8080/"
        },
        "outputId": "77c730c1-1bb0-47f9-b178-591fce1e0363"
      },
      "outputs": [
        {
          "output_type": "stream",
          "name": "stdout",
          "text": [
            "1/1 [==============================] - 0s 23ms/step\n"
          ]
        },
        {
          "output_type": "execute_result",
          "data": {
            "text/plain": [
              "{'label': 'NEUTRAL',\n",
              " 'score': 0.5980360507965088,\n",
              " 'elapsed_time': 0.08234882354736328}"
            ]
          },
          "metadata": {},
          "execution_count": 50
        }
      ],
      "source": [
        "predict(\"I have nothing to lose\")"
      ]
    },
    {
      "cell_type": "code",
      "execution_count": 51,
      "id": "6b585f2f",
      "metadata": {
        "execution": {
          "iopub.execute_input": "2022-09-09T22:06:28.390112Z",
          "iopub.status.busy": "2022-09-09T22:06:28.389696Z",
          "iopub.status.idle": "2022-09-09T22:06:28.668600Z",
          "shell.execute_reply": "2022-09-09T22:06:28.666932Z"
        },
        "papermill": {
          "duration": 0.353257,
          "end_time": "2022-09-09T22:06:28.671676",
          "exception": false,
          "start_time": "2022-09-09T22:06:28.318419",
          "status": "completed"
        },
        "tags": [],
        "id": "6b585f2f",
        "colab": {
          "base_uri": "https://localhost:8080/"
        },
        "outputId": "182b7ce0-b086-40c9-fb2c-18ab774b6f13"
      },
      "outputs": [
        {
          "output_type": "stream",
          "name": "stdout",
          "text": [
            "1/1 [==============================] - 0s 23ms/step\n"
          ]
        },
        {
          "output_type": "execute_result",
          "data": {
            "text/plain": [
              "{'label': 'POSITIVE',\n",
              " 'score': 0.829341471195221,\n",
              " 'elapsed_time': 0.08829402923583984}"
            ]
          },
          "metadata": {},
          "execution_count": 51
        }
      ],
      "source": [
        "predict(\"Experience has been bad\")"
      ]
    },
    {
      "cell_type": "code",
      "execution_count": 52,
      "id": "3ea308da",
      "metadata": {
        "execution": {
          "iopub.execute_input": "2022-09-09T22:06:28.924168Z",
          "iopub.status.busy": "2022-09-09T22:06:28.923562Z",
          "iopub.status.idle": "2022-09-09T22:07:03.258797Z",
          "shell.execute_reply": "2022-09-09T22:07:03.257138Z"
        },
        "papermill": {
          "duration": 34.423391,
          "end_time": "2022-09-09T22:07:03.282955",
          "exception": false,
          "start_time": "2022-09-09T22:06:28.859564",
          "status": "completed"
        },
        "tags": [],
        "id": "3ea308da",
        "colab": {
          "base_uri": "https://localhost:8080/"
        },
        "outputId": "d39f9554-81dd-40a3-a1e8-86535f5e8c82"
      },
      "outputs": [
        {
          "output_type": "stream",
          "name": "stdout",
          "text": [
            "3/3 [==============================] - 34s 11s/step\n",
            "CPU times: user 39.7 s, sys: 6.33 s, total: 46.1 s\n",
            "Wall time: 41.2 s\n"
          ]
        }
      ],
      "source": [
        "%%time\n",
        "y_pred_1d = []\n",
        "y_test_1d = list(df_test.category)\n",
        "scores = model.predict(x_test, verbose=1, batch_size=8000)\n",
        "y_pred_1d = [decode_sentiment(score, include_neutral=False) for score in scores]"
      ]
    },
    {
      "cell_type": "code",
      "execution_count": 53,
      "id": "ccf98f0e",
      "metadata": {
        "execution": {
          "iopub.execute_input": "2022-09-09T22:07:03.412941Z",
          "iopub.status.busy": "2022-09-09T22:07:03.411814Z",
          "iopub.status.idle": "2022-09-09T22:07:03.420950Z",
          "shell.execute_reply": "2022-09-09T22:07:03.419905Z"
        },
        "papermill": {
          "duration": 0.075827,
          "end_time": "2022-09-09T22:07:03.423088",
          "exception": false,
          "start_time": "2022-09-09T22:07:03.347261",
          "status": "completed"
        },
        "tags": [],
        "id": "ccf98f0e"
      },
      "outputs": [],
      "source": [
        "def plot_confusion_matrix(cm, classes,\n",
        "                          title='Confusion matrix',\n",
        "                          cmap=plt.cm.Blues):\n",
        "    \"\"\"\n",
        "    This function prints and plots the confusion matrix.\n",
        "    Normalization can be applied by setting `normalize=True`.\n",
        "    \"\"\"\n",
        "\n",
        "    cm = cm.astype('float') / cm.sum(axis=1)[:, np.newaxis]\n",
        "\n",
        "    plt.imshow(cm, interpolation='nearest', cmap=cmap)\n",
        "    plt.title(title, fontsize=30)\n",
        "    plt.colorbar()\n",
        "    tick_marks = np.arange(len(classes))\n",
        "    plt.xticks(tick_marks, classes, rotation=90, fontsize=22)\n",
        "    plt.yticks(tick_marks, classes, fontsize=22)\n",
        "\n",
        "    fmt = '.2f'\n",
        "    thresh = cm.max() / 2.\n",
        "    for i, j in itertools.product(range(cm.shape[0]), range(cm.shape[1])):\n",
        "        plt.text(j, i, format(cm[i, j], fmt),\n",
        "                 horizontalalignment=\"center\",\n",
        "                 color=\"white\" if cm[i, j] > thresh else \"black\")\n",
        "\n",
        "    plt.ylabel('True label', fontsize=25)\n",
        "    plt.xlabel('Predicted label', fontsize=25)"
      ]
    },
    {
      "cell_type": "code",
      "execution_count": 54,
      "id": "9647e8a0",
      "metadata": {
        "execution": {
          "iopub.execute_input": "2022-09-09T22:07:03.559503Z",
          "iopub.status.busy": "2022-09-09T22:07:03.558777Z",
          "iopub.status.idle": "2022-09-09T22:07:03.902468Z",
          "shell.execute_reply": "2022-09-09T22:07:03.901494Z"
        },
        "papermill": {
          "duration": 0.418908,
          "end_time": "2022-09-09T22:07:03.904830",
          "exception": false,
          "start_time": "2022-09-09T22:07:03.485922",
          "status": "completed"
        },
        "tags": [],
        "id": "9647e8a0",
        "colab": {
          "base_uri": "https://localhost:8080/",
          "height": 1000
        },
        "outputId": "398bda1f-2c6c-48c7-8463-be6355ce8635"
      },
      "outputs": [
        {
          "output_type": "display_data",
          "data": {
            "text/plain": [
              "<Figure size 1200x1200 with 2 Axes>"
            ],
            "image/png": "[encoded data removed]"
          },
          "metadata": {}
        },
        {
          "output_type": "stream",
          "name": "stdout",
          "text": [
            "CPU times: user 702 ms, sys: 170 ms, total: 872 ms\n",
            "Wall time: 1.01 s\n"
          ]
        }
      ],
      "source": [
        "%%time\n",
        "\n",
        "cnf_matrix = confusion_matrix(y_test_1d, y_pred_1d)\n",
        "plt.figure(figsize=(12,12))\n",
        "plot_confusion_matrix(cnf_matrix, classes=df_train.category.unique(), title=\"Confusion matrix\")\n",
        "plt.show()"
      ]
    },
    {
      "cell_type": "code",
      "execution_count": 55,
      "id": "54e1384d",
      "metadata": {
        "execution": {
          "iopub.execute_input": "2022-09-09T22:07:04.176343Z",
          "iopub.status.busy": "2022-09-09T22:07:04.175575Z",
          "iopub.status.idle": "2022-09-09T22:07:04.440343Z",
          "shell.execute_reply": "2022-09-09T22:07:04.439646Z"
        },
        "papermill": {
          "duration": 0.336361,
          "end_time": "2022-09-09T22:07:04.442919",
          "exception": false,
          "start_time": "2022-09-09T22:07:04.106558",
          "status": "completed"
        },
        "tags": [],
        "id": "54e1384d",
        "colab": {
          "base_uri": "https://localhost:8080/"
        },
        "outputId": "f648d3ba-c4cd-4031-e0a3-978fd51bc030"
      },
      "outputs": [
        {
          "output_type": "stream",
          "name": "stdout",
          "text": [
            "              precision    recall  f1-score   support\n",
            "\n",
            "    NEGATIVE       0.73      0.62      0.67      7026\n",
            "    POSITIVE       0.83      0.89      0.86     14526\n",
            "\n",
            "    accuracy                           0.80     21552\n",
            "   macro avg       0.78      0.75      0.76     21552\n",
            "weighted avg       0.79      0.80      0.79     21552\n",
            "\n"
          ]
        }
      ],
      "source": [
        "print(classification_report(y_test_1d, y_pred_1d))"
      ]
    },
    {
      "cell_type": "code",
      "execution_count": 56,
      "id": "aa9e8c1d",
      "metadata": {
        "execution": {
          "iopub.execute_input": "2022-09-09T22:07:04.722131Z",
          "iopub.status.busy": "2022-09-09T22:07:04.721450Z",
          "iopub.status.idle": "2022-09-09T22:07:04.754672Z",
          "shell.execute_reply": "2022-09-09T22:07:04.754055Z"
        },
        "papermill": {
          "duration": 0.105614,
          "end_time": "2022-09-09T22:07:04.756417",
          "exception": false,
          "start_time": "2022-09-09T22:07:04.650803",
          "status": "completed"
        },
        "tags": [],
        "id": "aa9e8c1d",
        "colab": {
          "base_uri": "https://localhost:8080/"
        },
        "outputId": "fda58796-42ba-402f-9622-cc1e5e782913"
      },
      "outputs": [
        {
          "output_type": "execute_result",
          "data": {
            "text/plain": [
              "0.7987193763919822"
            ]
          },
          "metadata": {},
          "execution_count": 56
        }
      ],
      "source": [
        "accuracy_score(y_test_1d, y_pred_1d)"
      ]
    }
  ],
  "metadata": {
    "kernelspec": {
      "display_name": "Python 3",
      "language": "python",
      "name": "python3"
    },
    "language_info": {
      "codemirror_mode": {
        "name": "ipython",
        "version": 3
      },
      "file_extension": ".py",
      "mimetype": "text/x-python",
      "name": "python",
      "nbconvert_exporter": "python",
      "pygments_lexer": "ipython3",
      "version": "3.10.13"
    },
    "papermill": {
      "default_parameters": {},
      "duration": 5723.060248,
      "end_time": "2022-09-09T22:07:08.895055",
      "environment_variables": {},
      "exception": null,
      "input_path": "__notebook__.ipynb",
      "output_path": "__notebook__.ipynb",
      "parameters": {},
      "start_time": "2022-09-09T20:31:45.834807",
      "version": "2.3.4"
    },
    "colab": {
      "provenance": []
    }
  },
  "nbformat": 4,
  "nbformat_minor": 5
}